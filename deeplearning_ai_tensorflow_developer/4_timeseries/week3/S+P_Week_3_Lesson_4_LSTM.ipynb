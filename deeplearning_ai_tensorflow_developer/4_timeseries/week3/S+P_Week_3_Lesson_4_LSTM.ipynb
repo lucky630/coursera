{
  "nbformat": 4,
  "nbformat_minor": 0,
  "metadata": {
    "colab": {
      "name": "S+P Week 3 Lesson 4 - LSTM.ipynb",
      "provenance": [],
      "collapsed_sections": [],
      "toc_visible": true
    },
    "kernelspec": {
      "display_name": "Python 3",
      "name": "python3"
    },
    "accelerator": "GPU"
  },
  "cells": [
    {
      "cell_type": "code",
      "metadata": {
        "id": "zX4Kg8DUTKWO"
      },
      "source": [
        "#@title Licensed under the Apache License, Version 2.0 (the \"License\");\n",
        "# you may not use this file except in compliance with the License.\n",
        "# You may obtain a copy of the License at\n",
        "#\n",
        "# https://www.apache.org/licenses/LICENSE-2.0\n",
        "#\n",
        "# Unless required by applicable law or agreed to in writing, software\n",
        "# distributed under the License is distributed on an \"AS IS\" BASIS,\n",
        "# WITHOUT WARRANTIES OR CONDITIONS OF ANY KIND, either express or implied.\n",
        "# See the License for the specific language governing permissions and\n",
        "# limitations under the License."
      ],
      "execution_count": null,
      "outputs": []
    },
    {
      "cell_type": "code",
      "metadata": {
        "id": "D1J15Vh_1Jih"
      },
      "source": [
        "!pip install tf-nightly-2.0-preview\n"
      ],
      "execution_count": null,
      "outputs": []
    },
    {
      "cell_type": "code",
      "metadata": {
        "colab": {
          "base_uri": "https://localhost:8080/"
        },
        "id": "BOjujz601HcS",
        "outputId": "9ee065ca-941f-4241-9138-e8a5fbee56c3"
      },
      "source": [
        "import tensorflow as tf\n",
        "import numpy as np\n",
        "import matplotlib.pyplot as plt\n",
        "print(tf.__version__)"
      ],
      "execution_count": 1,
      "outputs": [
        {
          "output_type": "stream",
          "text": [
            "2.5.0\n"
          ],
          "name": "stdout"
        }
      ]
    },
    {
      "cell_type": "code",
      "metadata": {
        "id": "Zswl7jRtGzkk"
      },
      "source": [
        "def plot_series(time, series, format=\"-\", start=0, end=None):\n",
        "    plt.plot(time[start:end], series[start:end], format)\n",
        "    plt.xlabel(\"Time\")\n",
        "    plt.ylabel(\"Value\")\n",
        "    plt.grid(True)\n",
        "\n",
        "def trend(time, slope=0):\n",
        "    return slope * time\n",
        "\n",
        "def seasonal_pattern(season_time):\n",
        "    \"\"\"Just an arbitrary pattern, you can change it if you wish\"\"\"\n",
        "    return np.where(season_time < 0.4,\n",
        "                    np.cos(season_time * 2 * np.pi),\n",
        "                    1 / np.exp(3 * season_time))\n",
        "\n",
        "def seasonality(time, period, amplitude=1, phase=0):\n",
        "    \"\"\"Repeats the same pattern at each period\"\"\"\n",
        "    season_time = ((time + phase) % period) / period\n",
        "    return amplitude * seasonal_pattern(season_time)\n",
        "\n",
        "def noise(time, noise_level=1, seed=None):\n",
        "    rnd = np.random.RandomState(seed)\n",
        "    return rnd.randn(len(time)) * noise_level\n",
        "\n",
        "time = np.arange(4 * 365 + 1, dtype=\"float32\")\n",
        "baseline = 10\n",
        "series = trend(time, 0.1)  \n",
        "baseline = 10\n",
        "amplitude = 40\n",
        "slope = 0.05\n",
        "noise_level = 5\n",
        "\n",
        "# Create the series\n",
        "series = baseline + trend(time, slope) + seasonality(time, period=365, amplitude=amplitude)\n",
        "# Update with noise\n",
        "series += noise(time, noise_level, seed=42)\n",
        "\n",
        "split_time = 1000\n",
        "time_train = time[:split_time]\n",
        "x_train = series[:split_time]\n",
        "time_valid = time[split_time:]\n",
        "x_valid = series[split_time:]\n",
        "\n",
        "window_size = 20\n",
        "batch_size = 32\n",
        "shuffle_buffer_size = 1000"
      ],
      "execution_count": 2,
      "outputs": []
    },
    {
      "cell_type": "code",
      "metadata": {
        "id": "4sTTIOCbyShY"
      },
      "source": [
        "def windowed_dataset(series, window_size, batch_size, shuffle_buffer):\n",
        "  dataset = tf.data.Dataset.from_tensor_slices(series)\n",
        "  dataset = dataset.window(window_size + 1, shift=1, drop_remainder=True)\n",
        "  dataset = dataset.flat_map(lambda window: window.batch(window_size + 1))\n",
        "  dataset = dataset.shuffle(shuffle_buffer).map(lambda window: (window[:-1], window[-1]))\n",
        "  dataset = dataset.batch(batch_size).prefetch(1)\n",
        "  return dataset"
      ],
      "execution_count": 3,
      "outputs": []
    },
    {
      "cell_type": "code",
      "metadata": {
        "colab": {
          "base_uri": "https://localhost:8080/"
        },
        "id": "A1Hl39rklkLm",
        "outputId": "4d552678-e83b-4eb0-d91a-03571586e1a0"
      },
      "source": [
        "tf.keras.backend.clear_session()\n",
        "tf.random.set_seed(51)\n",
        "np.random.seed(51)\n",
        "\n",
        "tf.keras.backend.clear_session()\n",
        "dataset = windowed_dataset(x_train, window_size, batch_size, shuffle_buffer_size)\n",
        "\n",
        "model = tf.keras.models.Sequential([\n",
        "  tf.keras.layers.Lambda(lambda x: tf.expand_dims(x, axis=-1),\n",
        "                      input_shape=[None]),\n",
        "    tf.keras.layers.Bidirectional(tf.keras.layers.LSTM(32, return_sequences=True)),\n",
        "  tf.keras.layers.Bidirectional(tf.keras.layers.LSTM(32)),\n",
        "  tf.keras.layers.Dense(1),\n",
        "  tf.keras.layers.Lambda(lambda x: x * 100.0)\n",
        "])\n",
        "\n",
        "lr_schedule = tf.keras.callbacks.LearningRateScheduler(\n",
        "    lambda epoch: 1e-8 * 10**(epoch / 20))\n",
        "optimizer = tf.keras.optimizers.SGD(lr=1e-8, momentum=0.9)\n",
        "model.compile(loss=tf.keras.losses.Huber(),\n",
        "              optimizer=optimizer,\n",
        "              metrics=[\"mae\"])\n",
        "history = model.fit(dataset, epochs=100, callbacks=[lr_schedule])"
      ],
      "execution_count": 4,
      "outputs": [
        {
          "output_type": "stream",
          "text": [
            "/usr/local/lib/python3.7/dist-packages/tensorflow/python/keras/optimizer_v2/optimizer_v2.py:375: UserWarning: The `lr` argument is deprecated, use `learning_rate` instead.\n",
            "  \"The `lr` argument is deprecated, use `learning_rate` instead.\")\n"
          ],
          "name": "stderr"
        },
        {
          "output_type": "stream",
          "text": [
            "Epoch 1/100\n",
            "31/31 [==============================] - 11s 11ms/step - loss: 21.5167 - mae: 22.0115\n",
            "Epoch 2/100\n",
            "31/31 [==============================] - 0s 10ms/step - loss: 21.1522 - mae: 21.6444\n",
            "Epoch 3/100\n",
            "31/31 [==============================] - 0s 11ms/step - loss: 20.7302 - mae: 21.2236\n",
            "Epoch 4/100\n",
            "31/31 [==============================] - 0s 10ms/step - loss: 20.2834 - mae: 20.7757\n",
            "Epoch 5/100\n",
            "31/31 [==============================] - 0s 10ms/step - loss: 19.7897 - mae: 20.2855\n",
            "Epoch 6/100\n",
            "31/31 [==============================] - 0s 10ms/step - loss: 19.1782 - mae: 19.6696\n",
            "Epoch 7/100\n",
            "31/31 [==============================] - 0s 10ms/step - loss: 18.2410 - mae: 18.7334\n",
            "Epoch 8/100\n",
            "31/31 [==============================] - 0s 10ms/step - loss: 17.4825 - mae: 17.9748\n",
            "Epoch 9/100\n",
            "31/31 [==============================] - 0s 10ms/step - loss: 17.1597 - mae: 17.6529\n",
            "Epoch 10/100\n",
            "31/31 [==============================] - 0s 10ms/step - loss: 16.8547 - mae: 17.3463\n",
            "Epoch 11/100\n",
            "31/31 [==============================] - 0s 10ms/step - loss: 16.5533 - mae: 17.0471\n",
            "Epoch 12/100\n",
            "31/31 [==============================] - 0s 9ms/step - loss: 16.2565 - mae: 16.7524\n",
            "Epoch 13/100\n",
            "31/31 [==============================] - 0s 10ms/step - loss: 15.9629 - mae: 16.4598\n",
            "Epoch 14/100\n",
            "31/31 [==============================] - 0s 10ms/step - loss: 15.6593 - mae: 16.1548\n",
            "Epoch 15/100\n",
            "31/31 [==============================] - 0s 10ms/step - loss: 15.3713 - mae: 15.8652\n",
            "Epoch 16/100\n",
            "31/31 [==============================] - 0s 10ms/step - loss: 15.0752 - mae: 15.5697\n",
            "Epoch 17/100\n",
            "31/31 [==============================] - 0s 10ms/step - loss: 14.7905 - mae: 15.2869\n",
            "Epoch 18/100\n",
            "31/31 [==============================] - 0s 10ms/step - loss: 14.5229 - mae: 15.0178\n",
            "Epoch 19/100\n",
            "31/31 [==============================] - 0s 10ms/step - loss: 14.2707 - mae: 14.7636\n",
            "Epoch 20/100\n",
            "31/31 [==============================] - 0s 9ms/step - loss: 14.0293 - mae: 14.5217\n",
            "Epoch 21/100\n",
            "31/31 [==============================] - 0s 9ms/step - loss: 13.8191 - mae: 14.3135\n",
            "Epoch 22/100\n",
            "31/31 [==============================] - 0s 10ms/step - loss: 13.6084 - mae: 14.1032\n",
            "Epoch 23/100\n",
            "31/31 [==============================] - 0s 9ms/step - loss: 13.4096 - mae: 13.9038\n",
            "Epoch 24/100\n",
            "31/31 [==============================] - 0s 10ms/step - loss: 13.1859 - mae: 13.6794\n",
            "Epoch 25/100\n",
            "31/31 [==============================] - 0s 9ms/step - loss: 12.9819 - mae: 13.4747\n",
            "Epoch 26/100\n",
            "31/31 [==============================] - 0s 10ms/step - loss: 12.7278 - mae: 13.2184\n",
            "Epoch 27/100\n",
            "31/31 [==============================] - 0s 9ms/step - loss: 12.4886 - mae: 12.9799\n",
            "Epoch 28/100\n",
            "31/31 [==============================] - 0s 9ms/step - loss: 12.3459 - mae: 12.8362\n",
            "Epoch 29/100\n",
            "31/31 [==============================] - 0s 10ms/step - loss: 11.9127 - mae: 12.4017\n",
            "Epoch 30/100\n",
            "31/31 [==============================] - 0s 9ms/step - loss: 11.5934 - mae: 12.0835\n",
            "Epoch 31/100\n",
            "31/31 [==============================] - 0s 10ms/step - loss: 11.2859 - mae: 11.7771\n",
            "Epoch 32/100\n",
            "31/31 [==============================] - 0s 10ms/step - loss: 11.3520 - mae: 11.8418\n",
            "Epoch 33/100\n",
            "31/31 [==============================] - 0s 10ms/step - loss: 10.5232 - mae: 11.0139\n",
            "Epoch 34/100\n",
            "31/31 [==============================] - 0s 10ms/step - loss: 10.5511 - mae: 11.0394\n",
            "Epoch 35/100\n",
            "31/31 [==============================] - 0s 10ms/step - loss: 10.0736 - mae: 10.5592\n",
            "Epoch 36/100\n",
            "31/31 [==============================] - 0s 9ms/step - loss: 10.6288 - mae: 11.1216\n",
            "Epoch 37/100\n",
            "31/31 [==============================] - 0s 10ms/step - loss: 10.1999 - mae: 10.6899\n",
            "Epoch 38/100\n",
            "31/31 [==============================] - 0s 9ms/step - loss: 9.6513 - mae: 10.1392\n",
            "Epoch 39/100\n",
            "31/31 [==============================] - 0s 10ms/step - loss: 9.1446 - mae: 9.6292\n",
            "Epoch 40/100\n",
            "31/31 [==============================] - 0s 10ms/step - loss: 8.6959 - mae: 9.1817\n",
            "Epoch 41/100\n",
            "31/31 [==============================] - 0s 9ms/step - loss: 8.2770 - mae: 8.7621\n",
            "Epoch 42/100\n",
            "31/31 [==============================] - 0s 10ms/step - loss: 7.9343 - mae: 8.4189\n",
            "Epoch 43/100\n",
            "31/31 [==============================] - 0s 9ms/step - loss: 7.6095 - mae: 8.0934\n",
            "Epoch 44/100\n",
            "31/31 [==============================] - 0s 9ms/step - loss: 7.3652 - mae: 7.8512\n",
            "Epoch 45/100\n",
            "31/31 [==============================] - 0s 10ms/step - loss: 7.2050 - mae: 7.6886\n",
            "Epoch 46/100\n",
            "31/31 [==============================] - 0s 10ms/step - loss: 6.8939 - mae: 7.3765\n",
            "Epoch 47/100\n",
            "31/31 [==============================] - 0s 10ms/step - loss: 6.6815 - mae: 7.1652\n",
            "Epoch 48/100\n",
            "31/31 [==============================] - 0s 10ms/step - loss: 6.5771 - mae: 7.0593\n",
            "Epoch 49/100\n",
            "31/31 [==============================] - 0s 10ms/step - loss: 6.2083 - mae: 6.6845\n",
            "Epoch 50/100\n",
            "31/31 [==============================] - 0s 10ms/step - loss: 6.0392 - mae: 6.5182\n",
            "Epoch 51/100\n",
            "31/31 [==============================] - 0s 10ms/step - loss: 5.9100 - mae: 6.3878\n",
            "Epoch 52/100\n",
            "31/31 [==============================] - 0s 10ms/step - loss: 5.7765 - mae: 6.2581\n",
            "Epoch 53/100\n",
            "31/31 [==============================] - 0s 10ms/step - loss: 5.6290 - mae: 6.1092\n",
            "Epoch 54/100\n",
            "31/31 [==============================] - 0s 10ms/step - loss: 5.5199 - mae: 5.9940\n",
            "Epoch 55/100\n",
            "31/31 [==============================] - 0s 10ms/step - loss: 5.3901 - mae: 5.8623\n",
            "Epoch 56/100\n",
            "31/31 [==============================] - 0s 10ms/step - loss: 5.5561 - mae: 6.0301\n",
            "Epoch 57/100\n",
            "31/31 [==============================] - 0s 10ms/step - loss: 5.2774 - mae: 5.7551\n",
            "Epoch 58/100\n",
            "31/31 [==============================] - 0s 10ms/step - loss: 5.2552 - mae: 5.7334\n",
            "Epoch 59/100\n",
            "31/31 [==============================] - 0s 9ms/step - loss: 5.1168 - mae: 5.5954\n",
            "Epoch 60/100\n",
            "31/31 [==============================] - 0s 10ms/step - loss: 5.0493 - mae: 5.5237\n",
            "Epoch 61/100\n",
            "31/31 [==============================] - 0s 10ms/step - loss: 5.3104 - mae: 5.7895\n",
            "Epoch 62/100\n",
            "31/31 [==============================] - 0s 10ms/step - loss: 5.2194 - mae: 5.6991\n",
            "Epoch 63/100\n",
            "31/31 [==============================] - 0s 11ms/step - loss: 5.0210 - mae: 5.4953\n",
            "Epoch 64/100\n",
            "31/31 [==============================] - 0s 10ms/step - loss: 4.8314 - mae: 5.3048\n",
            "Epoch 65/100\n",
            "31/31 [==============================] - 0s 9ms/step - loss: 5.2735 - mae: 5.7527\n",
            "Epoch 66/100\n",
            "31/31 [==============================] - 0s 10ms/step - loss: 5.3628 - mae: 5.8462\n",
            "Epoch 67/100\n",
            "31/31 [==============================] - 0s 10ms/step - loss: 6.1404 - mae: 6.6239\n",
            "Epoch 68/100\n",
            "31/31 [==============================] - 0s 11ms/step - loss: 5.2288 - mae: 5.7132\n",
            "Epoch 69/100\n",
            "31/31 [==============================] - 0s 10ms/step - loss: 5.5849 - mae: 6.0663\n",
            "Epoch 70/100\n",
            "31/31 [==============================] - 0s 9ms/step - loss: 5.2143 - mae: 5.6951\n",
            "Epoch 71/100\n",
            "31/31 [==============================] - 0s 9ms/step - loss: 5.4748 - mae: 5.9578\n",
            "Epoch 72/100\n",
            "31/31 [==============================] - 0s 10ms/step - loss: 5.0334 - mae: 5.5081\n",
            "Epoch 73/100\n",
            "31/31 [==============================] - 0s 10ms/step - loss: 6.2999 - mae: 6.7837\n",
            "Epoch 74/100\n",
            "31/31 [==============================] - 0s 10ms/step - loss: 5.1663 - mae: 5.6449\n",
            "Epoch 75/100\n",
            "31/31 [==============================] - 0s 10ms/step - loss: 5.3527 - mae: 5.8328\n",
            "Epoch 76/100\n",
            "31/31 [==============================] - 0s 10ms/step - loss: 5.6305 - mae: 6.1106\n",
            "Epoch 77/100\n",
            "31/31 [==============================] - 0s 9ms/step - loss: 6.7028 - mae: 7.1856\n",
            "Epoch 78/100\n",
            "31/31 [==============================] - 0s 10ms/step - loss: 6.1953 - mae: 6.6826\n",
            "Epoch 79/100\n",
            "31/31 [==============================] - 0s 9ms/step - loss: 5.2937 - mae: 5.7756\n",
            "Epoch 80/100\n",
            "31/31 [==============================] - 0s 10ms/step - loss: 5.1031 - mae: 5.5817\n",
            "Epoch 81/100\n",
            "31/31 [==============================] - 0s 9ms/step - loss: 7.7158 - mae: 8.2021\n",
            "Epoch 82/100\n",
            "31/31 [==============================] - 0s 10ms/step - loss: 6.0440 - mae: 6.5268\n",
            "Epoch 83/100\n",
            "31/31 [==============================] - 0s 9ms/step - loss: 6.8889 - mae: 7.3748\n",
            "Epoch 84/100\n",
            "31/31 [==============================] - 0s 10ms/step - loss: 7.7105 - mae: 8.1980\n",
            "Epoch 85/100\n",
            "31/31 [==============================] - 0s 9ms/step - loss: 5.9772 - mae: 6.4623\n",
            "Epoch 86/100\n",
            "31/31 [==============================] - 0s 9ms/step - loss: 5.8243 - mae: 6.3081\n",
            "Epoch 87/100\n",
            "31/31 [==============================] - 0s 9ms/step - loss: 6.9757 - mae: 7.4612\n",
            "Epoch 88/100\n",
            "31/31 [==============================] - 0s 9ms/step - loss: 6.7869 - mae: 7.2720\n",
            "Epoch 89/100\n",
            "31/31 [==============================] - 0s 10ms/step - loss: 9.5790 - mae: 10.0672\n",
            "Epoch 90/100\n",
            "31/31 [==============================] - 0s 10ms/step - loss: 8.6037 - mae: 9.0916\n",
            "Epoch 91/100\n",
            "31/31 [==============================] - 0s 10ms/step - loss: 12.0154 - mae: 12.5051\n",
            "Epoch 92/100\n",
            "31/31 [==============================] - 0s 10ms/step - loss: 7.3882 - mae: 7.8737\n",
            "Epoch 93/100\n",
            "31/31 [==============================] - 0s 9ms/step - loss: 11.0182 - mae: 11.5097\n",
            "Epoch 94/100\n",
            "31/31 [==============================] - 0s 10ms/step - loss: 7.2216 - mae: 7.7047\n",
            "Epoch 95/100\n",
            "31/31 [==============================] - 0s 10ms/step - loss: 8.3033 - mae: 8.7935\n",
            "Epoch 96/100\n",
            "31/31 [==============================] - 0s 9ms/step - loss: 10.4285 - mae: 10.9210\n",
            "Epoch 97/100\n",
            "31/31 [==============================] - 0s 9ms/step - loss: 7.7095 - mae: 8.1949\n",
            "Epoch 98/100\n",
            "31/31 [==============================] - 0s 10ms/step - loss: 14.7224 - mae: 15.2161\n",
            "Epoch 99/100\n",
            "31/31 [==============================] - 0s 10ms/step - loss: 14.9327 - mae: 15.4259\n",
            "Epoch 100/100\n",
            "31/31 [==============================] - 0s 9ms/step - loss: 13.0473 - mae: 13.5430\n"
          ],
          "name": "stdout"
        }
      ]
    },
    {
      "cell_type": "code",
      "metadata": {
        "colab": {
          "base_uri": "https://localhost:8080/",
          "height": 290
        },
        "id": "AkBsrsXMzoWR",
        "outputId": "95627236-c1ce-4527-c2ac-839f0284e4e4"
      },
      "source": [
        "plt.semilogx(history.history[\"lr\"], history.history[\"loss\"])\n",
        "plt.axis([1e-8, 1e-4, 0, 30])"
      ],
      "execution_count": 5,
      "outputs": [
        {
          "output_type": "execute_result",
          "data": {
            "text/plain": [
              "(1e-08, 0.0001, 0.0, 30.0)"
            ]
          },
          "metadata": {
            "tags": []
          },
          "execution_count": 5
        },
        {
          "output_type": "display_data",
          "data": {
            "image/png": "[encoded data removed]",
            "text/plain": [
              "<Figure size 432x288 with 1 Axes>"
            ]
          },
          "metadata": {
            "tags": [],
            "needs_background": "light"
          }
        }
      ]
    },
    {
      "cell_type": "code",
      "metadata": {
        "colab": {
          "base_uri": "https://localhost:8080/"
        },
        "id": "4uh-97bpLZCA",
        "outputId": "416222bf-01e4-47f4-d4cf-5ecd917ea469"
      },
      "source": [
        "tf.keras.backend.clear_session()\n",
        "tf.random.set_seed(51)\n",
        "np.random.seed(51)\n",
        "\n",
        "tf.keras.backend.clear_session()\n",
        "dataset = windowed_dataset(x_train, window_size, batch_size, shuffle_buffer_size)\n",
        "\n",
        "model = tf.keras.models.Sequential([\n",
        "  tf.keras.layers.Lambda(lambda x: tf.expand_dims(x, axis=-1),\n",
        "                      input_shape=[None]),\n",
        "   tf.keras.layers.Bidirectional(tf.keras.layers.LSTM(32, return_sequences=True)),\n",
        "  tf.keras.layers.Bidirectional(tf.keras.layers.LSTM(32)),\n",
        "  tf.keras.layers.Dense(1),\n",
        "  tf.keras.layers.Lambda(lambda x: x * 100.0)\n",
        "])\n",
        "\n",
        "\n",
        "model.compile(loss=\"mse\", optimizer=tf.keras.optimizers.SGD(lr=1e-5, momentum=0.9),metrics=[\"mae\"])\n",
        "history = model.fit(dataset,epochs=500,verbose=0)"
      ],
      "execution_count": 6,
      "outputs": [
        {
          "output_type": "stream",
          "text": [
            "/usr/local/lib/python3.7/dist-packages/tensorflow/python/keras/optimizer_v2/optimizer_v2.py:375: UserWarning: The `lr` argument is deprecated, use `learning_rate` instead.\n",
            "  \"The `lr` argument is deprecated, use `learning_rate` instead.\")\n"
          ],
          "name": "stderr"
        }
      ]
    },
    {
      "cell_type": "code",
      "metadata": {
        "colab": {
          "base_uri": "https://localhost:8080/",
          "height": 388
        },
        "id": "icGDaND7z0ne",
        "outputId": "bda5770f-c104-4b69-fa89-c01f060b52ca"
      },
      "source": [
        "forecast = []\n",
        "results = []\n",
        "for time in range(len(series) - window_size):\n",
        "  forecast.append(model.predict(series[time:time + window_size][np.newaxis]))\n",
        "\n",
        "forecast = forecast[split_time-window_size:]\n",
        "results = np.array(forecast)[:, 0, 0]\n",
        "\n",
        "\n",
        "plt.figure(figsize=(10, 6))\n",
        "\n",
        "plot_series(time_valid, x_valid)\n",
        "plot_series(time_valid, results)"
      ],
      "execution_count": 7,
      "outputs": [
        {
          "output_type": "display_data",
          "data": {
            "image/png": "[encoded data removed]",
            "text/plain": [
              "<Figure size 720x432 with 1 Axes>"
            ]
          },
          "metadata": {
            "tags": [],
            "needs_background": "light"
          }
        }
      ]
    },
    {
      "cell_type": "code",
      "metadata": {
        "colab": {
          "base_uri": "https://localhost:8080/"
        },
        "id": "KfPeqI7rz4LD",
        "outputId": "ff42a11c-ef5b-4c69-9255-3a7e88bb8438"
      },
      "source": [
        "tf.keras.metrics.mean_absolute_error(x_valid, results).numpy()"
      ],
      "execution_count": 8,
      "outputs": [
        {
          "output_type": "execute_result",
          "data": {
            "text/plain": [
              "5.5073166"
            ]
          },
          "metadata": {
            "tags": []
          },
          "execution_count": 8
        }
      ]
    },
    {
      "cell_type": "code",
      "metadata": {
        "colab": {
          "base_uri": "https://localhost:8080/",
          "height": 606
        },
        "id": "JUsdZB_tzDLe",
        "outputId": "48a7b617-b200-4ecf-a747-ee946712728e"
      },
      "source": [
        "import matplotlib.image  as mpimg\n",
        "import matplotlib.pyplot as plt\n",
        "\n",
        "#-----------------------------------------------------------\n",
        "# Retrieve a list of list results on training and test data\n",
        "# sets for each training epoch\n",
        "#-----------------------------------------------------------\n",
        "mae=history.history['mae']\n",
        "loss=history.history['loss']\n",
        "\n",
        "epochs=range(len(loss)) # Get number of epochs\n",
        "\n",
        "#------------------------------------------------\n",
        "# Plot MAE and Loss\n",
        "#------------------------------------------------\n",
        "plt.plot(epochs, mae, 'r')\n",
        "plt.plot(epochs, loss, 'b')\n",
        "plt.title('MAE and Loss')\n",
        "plt.xlabel(\"Epochs\")\n",
        "plt.ylabel(\"Accuracy\")\n",
        "plt.legend([\"MAE\", \"Loss\"])\n",
        "\n",
        "plt.figure()\n",
        "\n",
        "epochs_zoom = epochs[200:]\n",
        "mae_zoom = mae[200:]\n",
        "loss_zoom = loss[200:]\n",
        "\n",
        "#------------------------------------------------\n",
        "# Plot Zoomed MAE and Loss\n",
        "#------------------------------------------------\n",
        "plt.plot(epochs_zoom, mae_zoom, 'r')\n",
        "plt.plot(epochs_zoom, loss_zoom, 'b')\n",
        "plt.title('MAE and Loss')\n",
        "plt.xlabel(\"Epochs\")\n",
        "plt.ylabel(\"Accuracy\")\n",
        "plt.legend([\"MAE\", \"Loss\"])\n",
        "\n",
        "plt.figure()"
      ],
      "execution_count": 9,
      "outputs": [
        {
          "output_type": "execute_result",
          "data": {
            "text/plain": [
              "<Figure size 432x288 with 0 Axes>"
            ]
          },
          "metadata": {
            "tags": []
          },
          "execution_count": 9
        },
        {
          "output_type": "display_data",
          "data": {
            "image/png": "[encoded data removed]",
            "text/plain": [
              "<Figure size 432x288 with 1 Axes>"
            ]
          },
          "metadata": {
            "tags": [],
            "needs_background": "light"
          }
        },
        {
          "output_type": "display_data",
          "data": {
            "image/png": "[encoded data removed]",
            "text/plain": [
              "<Figure size 432x288 with 1 Axes>"
            ]
          },
          "metadata": {
            "tags": [],
            "needs_background": "light"
          }
        },
        {
          "output_type": "display_data",
          "data": {
            "text/plain": [
              "<Figure size 432x288 with 0 Axes>"
            ]
          },
          "metadata": {
            "tags": []
          }
        }
      ]
    },
    {
      "cell_type": "code",
      "metadata": {
        "colab": {
          "base_uri": "https://localhost:8080/"
        },
        "id": "3CGaYFxXNEAK",
        "outputId": "1921dda6-c984-47a4-9777-35590c5bf5ec"
      },
      "source": [
        "tf.keras.backend.clear_session()\n",
        "dataset = windowed_dataset(x_train, window_size, batch_size, shuffle_buffer_size)\n",
        "\n",
        "model = tf.keras.models.Sequential([\n",
        "  tf.keras.layers.Lambda(lambda x: tf.expand_dims(x, axis=-1),\n",
        "                      input_shape=[None]),\n",
        "  tf.keras.layers.Bidirectional(tf.keras.layers.LSTM(32, return_sequences=True)),\n",
        "  tf.keras.layers.Bidirectional(tf.keras.layers.LSTM(32)),\n",
        "  tf.keras.layers.Dense(1),\n",
        "  tf.keras.layers.Lambda(lambda x: x * 100.0)\n",
        "])\n",
        "\n",
        "\n",
        "model.compile(loss=\"mse\", optimizer=tf.keras.optimizers.SGD(lr=1e-6, momentum=0.9))\n",
        "model.fit(dataset,epochs=100, verbose=0)"
      ],
      "execution_count": 10,
      "outputs": [
        {
          "output_type": "stream",
          "text": [
            "/usr/local/lib/python3.7/dist-packages/tensorflow/python/keras/optimizer_v2/optimizer_v2.py:375: UserWarning: The `lr` argument is deprecated, use `learning_rate` instead.\n",
            "  \"The `lr` argument is deprecated, use `learning_rate` instead.\")\n"
          ],
          "name": "stderr"
        },
        {
          "output_type": "execute_result",
          "data": {
            "text/plain": [
              "<tensorflow.python.keras.callbacks.History at 0x7efde45f2710>"
            ]
          },
          "metadata": {
            "tags": []
          },
          "execution_count": 10
        }
      ]
    },
    {
      "cell_type": "code",
      "metadata": {
        "colab": {
          "base_uri": "https://localhost:8080/"
        },
        "id": "FJ3R8ysauz9e",
        "outputId": "88ed740e-7485-4f52-f75d-0e08a090a413"
      },
      "source": [
        "tf.keras.backend.clear_session()\n",
        "dataset = windowed_dataset(x_train, window_size, batch_size, shuffle_buffer_size)\n",
        "\n",
        "model = tf.keras.models.Sequential([\n",
        "  tf.keras.layers.Lambda(lambda x: tf.expand_dims(x, axis=-1),\n",
        "                      input_shape=[None]),\n",
        "  tf.keras.layers.Bidirectional(tf.keras.layers.LSTM(32, return_sequences=True)),\n",
        "  tf.keras.layers.Bidirectional(tf.keras.layers.LSTM(32, return_sequences=True)),\n",
        "  tf.keras.layers.Bidirectional(tf.keras.layers.LSTM(32)),\n",
        "  tf.keras.layers.Dense(1),\n",
        "  tf.keras.layers.Lambda(lambda x: x * 100.0)\n",
        "])\n",
        "\n",
        "\n",
        "model.compile(loss=\"mse\", optimizer=tf.keras.optimizers.SGD(lr=1e-6, momentum=0.9))\n",
        "model.fit(dataset,epochs=100)"
      ],
      "execution_count": 11,
      "outputs": [
        {
          "output_type": "stream",
          "text": [
            "/usr/local/lib/python3.7/dist-packages/tensorflow/python/keras/optimizer_v2/optimizer_v2.py:375: UserWarning: The `lr` argument is deprecated, use `learning_rate` instead.\n",
            "  \"The `lr` argument is deprecated, use `learning_rate` instead.\")\n"
          ],
          "name": "stderr"
        },
        {
          "output_type": "stream",
          "text": [
            "Epoch 1/100\n",
            "31/31 [==============================] - 7s 12ms/step - loss: 755.7015\n",
            "Epoch 2/100\n",
            "31/31 [==============================] - 0s 12ms/step - loss: 152.7785\n",
            "Epoch 3/100\n",
            "31/31 [==============================] - 0s 13ms/step - loss: 97.9761\n",
            "Epoch 4/100\n",
            "31/31 [==============================] - 0s 12ms/step - loss: 83.2915\n",
            "Epoch 5/100\n",
            "31/31 [==============================] - 0s 13ms/step - loss: 78.2600\n",
            "Epoch 6/100\n",
            "31/31 [==============================] - 0s 13ms/step - loss: 73.4347\n",
            "Epoch 7/100\n",
            "31/31 [==============================] - 0s 14ms/step - loss: 67.8632\n",
            "Epoch 8/100\n",
            "31/31 [==============================] - 0s 13ms/step - loss: 74.5354\n",
            "Epoch 9/100\n",
            "31/31 [==============================] - 0s 12ms/step - loss: 73.1458\n",
            "Epoch 10/100\n",
            "31/31 [==============================] - 0s 13ms/step - loss: 63.4809\n",
            "Epoch 11/100\n",
            "31/31 [==============================] - 0s 14ms/step - loss: 60.9757\n",
            "Epoch 12/100\n",
            "31/31 [==============================] - 0s 13ms/step - loss: 57.7044\n",
            "Epoch 13/100\n",
            "31/31 [==============================] - 0s 13ms/step - loss: 62.4454\n",
            "Epoch 14/100\n",
            "31/31 [==============================] - 0s 13ms/step - loss: 56.6497\n",
            "Epoch 15/100\n",
            "31/31 [==============================] - 0s 13ms/step - loss: 53.2329\n",
            "Epoch 16/100\n",
            "31/31 [==============================] - 0s 13ms/step - loss: 65.0537\n",
            "Epoch 17/100\n",
            "31/31 [==============================] - 0s 13ms/step - loss: 58.6710\n",
            "Epoch 18/100\n",
            "31/31 [==============================] - 0s 13ms/step - loss: 60.0726\n",
            "Epoch 19/100\n",
            "31/31 [==============================] - 0s 13ms/step - loss: 56.1999\n",
            "Epoch 20/100\n",
            "31/31 [==============================] - 0s 13ms/step - loss: 55.7785\n",
            "Epoch 21/100\n",
            "31/31 [==============================] - 0s 13ms/step - loss: 51.2688\n",
            "Epoch 22/100\n",
            "31/31 [==============================] - 0s 13ms/step - loss: 54.9552\n",
            "Epoch 23/100\n",
            "31/31 [==============================] - 0s 13ms/step - loss: 51.5539\n",
            "Epoch 24/100\n",
            "31/31 [==============================] - 0s 13ms/step - loss: 55.4753\n",
            "Epoch 25/100\n",
            "31/31 [==============================] - 0s 13ms/step - loss: 48.4559\n",
            "Epoch 26/100\n",
            "31/31 [==============================] - 0s 13ms/step - loss: 54.2121\n",
            "Epoch 27/100\n",
            "31/31 [==============================] - 0s 13ms/step - loss: 54.4619\n",
            "Epoch 28/100\n",
            "31/31 [==============================] - 0s 13ms/step - loss: 54.1912\n",
            "Epoch 29/100\n",
            "31/31 [==============================] - 0s 13ms/step - loss: 48.2903\n",
            "Epoch 30/100\n",
            "31/31 [==============================] - 0s 13ms/step - loss: 49.6825\n",
            "Epoch 31/100\n",
            "31/31 [==============================] - 0s 13ms/step - loss: 53.0422\n",
            "Epoch 32/100\n",
            "31/31 [==============================] - 0s 13ms/step - loss: 56.4042\n",
            "Epoch 33/100\n",
            "31/31 [==============================] - 0s 13ms/step - loss: 47.9185\n",
            "Epoch 34/100\n",
            "31/31 [==============================] - 0s 13ms/step - loss: 50.2060\n",
            "Epoch 35/100\n",
            "31/31 [==============================] - 0s 13ms/step - loss: 48.2373\n",
            "Epoch 36/100\n",
            "31/31 [==============================] - 0s 14ms/step - loss: 47.5874\n",
            "Epoch 37/100\n",
            "31/31 [==============================] - 0s 13ms/step - loss: 53.0302\n",
            "Epoch 38/100\n",
            "31/31 [==============================] - 0s 13ms/step - loss: 47.7121\n",
            "Epoch 39/100\n",
            "31/31 [==============================] - 0s 13ms/step - loss: 47.2859\n",
            "Epoch 40/100\n",
            "31/31 [==============================] - 0s 13ms/step - loss: 48.6494\n",
            "Epoch 41/100\n",
            "31/31 [==============================] - 0s 13ms/step - loss: 46.0403\n",
            "Epoch 42/100\n",
            "31/31 [==============================] - 0s 13ms/step - loss: 49.4847\n",
            "Epoch 43/100\n",
            "31/31 [==============================] - 0s 13ms/step - loss: 48.2804\n",
            "Epoch 44/100\n",
            "31/31 [==============================] - 0s 13ms/step - loss: 51.2780\n",
            "Epoch 45/100\n",
            "31/31 [==============================] - 0s 13ms/step - loss: 48.2863\n",
            "Epoch 46/100\n",
            "31/31 [==============================] - 0s 13ms/step - loss: 51.8344\n",
            "Epoch 47/100\n",
            "31/31 [==============================] - 0s 13ms/step - loss: 49.9795\n",
            "Epoch 48/100\n",
            "31/31 [==============================] - 0s 13ms/step - loss: 45.3264\n",
            "Epoch 49/100\n",
            "31/31 [==============================] - 0s 13ms/step - loss: 45.0664\n",
            "Epoch 50/100\n",
            "31/31 [==============================] - 0s 13ms/step - loss: 45.8870\n",
            "Epoch 51/100\n",
            "31/31 [==============================] - 0s 13ms/step - loss: 49.2073\n",
            "Epoch 52/100\n",
            "31/31 [==============================] - 0s 13ms/step - loss: 50.4170\n",
            "Epoch 53/100\n",
            "31/31 [==============================] - 0s 13ms/step - loss: 50.7224\n",
            "Epoch 54/100\n",
            "31/31 [==============================] - 0s 13ms/step - loss: 44.6063\n",
            "Epoch 55/100\n",
            "31/31 [==============================] - 0s 13ms/step - loss: 47.2966\n",
            "Epoch 56/100\n",
            "31/31 [==============================] - 0s 13ms/step - loss: 46.8540\n",
            "Epoch 57/100\n",
            "31/31 [==============================] - 0s 13ms/step - loss: 46.1015\n",
            "Epoch 58/100\n",
            "31/31 [==============================] - 0s 13ms/step - loss: 45.2351\n",
            "Epoch 59/100\n",
            "31/31 [==============================] - 0s 13ms/step - loss: 45.4370\n",
            "Epoch 60/100\n",
            "31/31 [==============================] - 0s 13ms/step - loss: 46.3429\n",
            "Epoch 61/100\n",
            "31/31 [==============================] - 0s 13ms/step - loss: 46.9665\n",
            "Epoch 62/100\n",
            "31/31 [==============================] - 0s 13ms/step - loss: 46.5665\n",
            "Epoch 63/100\n",
            "31/31 [==============================] - 0s 13ms/step - loss: 45.2381\n",
            "Epoch 64/100\n",
            "31/31 [==============================] - 0s 12ms/step - loss: 45.0082\n",
            "Epoch 65/100\n",
            "31/31 [==============================] - 0s 13ms/step - loss: 44.2408\n",
            "Epoch 66/100\n",
            "31/31 [==============================] - 0s 13ms/step - loss: 43.7104\n",
            "Epoch 67/100\n",
            "31/31 [==============================] - 0s 13ms/step - loss: 44.6086\n",
            "Epoch 68/100\n",
            "31/31 [==============================] - 0s 13ms/step - loss: 48.9862\n",
            "Epoch 69/100\n",
            "31/31 [==============================] - 0s 13ms/step - loss: 49.3742\n",
            "Epoch 70/100\n",
            "31/31 [==============================] - 0s 13ms/step - loss: 48.0163\n",
            "Epoch 71/100\n",
            "31/31 [==============================] - 0s 13ms/step - loss: 43.7251\n",
            "Epoch 72/100\n",
            "31/31 [==============================] - 0s 13ms/step - loss: 46.3182\n",
            "Epoch 73/100\n",
            "31/31 [==============================] - 0s 13ms/step - loss: 45.2350\n",
            "Epoch 74/100\n",
            "31/31 [==============================] - 0s 13ms/step - loss: 43.9390\n",
            "Epoch 75/100\n",
            "31/31 [==============================] - 0s 13ms/step - loss: 45.4765\n",
            "Epoch 76/100\n",
            "31/31 [==============================] - 0s 13ms/step - loss: 46.1003\n",
            "Epoch 77/100\n",
            "31/31 [==============================] - 0s 13ms/step - loss: 45.5499\n",
            "Epoch 78/100\n",
            "31/31 [==============================] - 0s 13ms/step - loss: 44.7749\n",
            "Epoch 79/100\n",
            "31/31 [==============================] - 0s 13ms/step - loss: 44.7591\n",
            "Epoch 80/100\n",
            "31/31 [==============================] - 0s 13ms/step - loss: 51.3417\n",
            "Epoch 81/100\n",
            "31/31 [==============================] - 0s 14ms/step - loss: 53.4106\n",
            "Epoch 82/100\n",
            "31/31 [==============================] - 0s 13ms/step - loss: 45.4838\n",
            "Epoch 83/100\n",
            "31/31 [==============================] - 0s 13ms/step - loss: 45.8837\n",
            "Epoch 84/100\n",
            "31/31 [==============================] - 0s 13ms/step - loss: 46.3761\n",
            "Epoch 85/100\n",
            "31/31 [==============================] - 0s 13ms/step - loss: 44.9510\n",
            "Epoch 86/100\n",
            "31/31 [==============================] - 0s 13ms/step - loss: 43.7665\n",
            "Epoch 87/100\n",
            "31/31 [==============================] - 0s 14ms/step - loss: 51.7506\n",
            "Epoch 88/100\n",
            "31/31 [==============================] - 0s 13ms/step - loss: 46.2335\n",
            "Epoch 89/100\n",
            "31/31 [==============================] - 0s 13ms/step - loss: 48.7304\n",
            "Epoch 90/100\n",
            "31/31 [==============================] - 0s 13ms/step - loss: 45.3579\n",
            "Epoch 91/100\n",
            "31/31 [==============================] - 0s 13ms/step - loss: 53.3695\n",
            "Epoch 92/100\n",
            "31/31 [==============================] - 0s 13ms/step - loss: 44.1400\n",
            "Epoch 93/100\n",
            "31/31 [==============================] - 0s 13ms/step - loss: 43.6139\n",
            "Epoch 94/100\n",
            "31/31 [==============================] - 0s 13ms/step - loss: 46.2337\n",
            "Epoch 95/100\n",
            "31/31 [==============================] - 0s 13ms/step - loss: 44.8032\n",
            "Epoch 96/100\n",
            "31/31 [==============================] - 0s 13ms/step - loss: 44.4877\n",
            "Epoch 97/100\n",
            "31/31 [==============================] - 0s 13ms/step - loss: 44.1543\n",
            "Epoch 98/100\n",
            "31/31 [==============================] - 0s 13ms/step - loss: 44.8083\n",
            "Epoch 99/100\n",
            "31/31 [==============================] - 0s 13ms/step - loss: 45.3499\n",
            "Epoch 100/100\n",
            "31/31 [==============================] - 0s 13ms/step - loss: 46.9555\n"
          ],
          "name": "stdout"
        },
        {
          "output_type": "execute_result",
          "data": {
            "text/plain": [
              "<tensorflow.python.keras.callbacks.History at 0x7efda7edb990>"
            ]
          },
          "metadata": {
            "tags": []
          },
          "execution_count": 11
        }
      ]
    },
    {
      "cell_type": "code",
      "metadata": {
        "id": "uONKOJi-YLm6"
      },
      "source": [
        ""
      ],
      "execution_count": 11,
      "outputs": []
    }
  ]
}