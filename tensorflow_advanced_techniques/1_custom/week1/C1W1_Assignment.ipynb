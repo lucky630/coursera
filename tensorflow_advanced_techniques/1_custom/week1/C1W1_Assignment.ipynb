{
 "cells": [
  {
   "cell_type": "markdown",
   "metadata": {
    "colab_type": "text",
    "id": "ZL_6GK8qX35J"
   },
   "source": [
    "\n",
    "\n",
    "# Week 1: Multiple Output Models using the Keras Functional API\n",
    "\n",
    "Welcome to the first programming assignment of the course! Your task will be to use the Keras functional API to train a model to predict two outputs. For this lab, you will use the **[Wine Quality Dataset](https://archive.ics.uci.edu/ml/datasets/Wine+Quality)** from the **UCI machine learning repository**. It has separate datasets for red wine and white wine.\n",
    "\n",
    "Normally, the wines are classified into one of the quality ratings specified in the attributes. In this exercise, you will combine the two datasets to predict the wine quality and whether the wine is red or white solely from the attributes. \n",
    "\n",
    "You will model wine quality estimations as a regression problem and wine type detection as a binary classification problem.\n",
    "\n",
    "#### Please complete sections that are marked **(TODO)**"
   ]
  },
  {
   "cell_type": "markdown",
   "metadata": {
    "colab_type": "text",
    "id": "obdcD6urYBY9"
   },
   "source": [
    "## Imports"
   ]
  },
  {
   "cell_type": "code",
   "execution_count": 1,
   "metadata": {
    "colab": {},
    "colab_type": "code",
    "id": "t8N3pcTQ5oQI"
   },
   "outputs": [],
   "source": [
    "import tensorflow as tf\n",
    "from tensorflow.keras.models import Model\n",
    "from tensorflow.keras.layers import Dense, Input\n",
    "\n",
    "import numpy as np\n",
    "import matplotlib.pyplot as plt\n",
    "import pandas as pd\n",
    "from sklearn.model_selection import train_test_split\n",
    "from sklearn.metrics import confusion_matrix\n",
    "import itertools\n",
    "\n",
    "import utils"
   ]
  },
  {
   "cell_type": "markdown",
   "metadata": {
    "colab_type": "text",
    "id": "gQMERzWQYpgm"
   },
   "source": [
    "## Load Dataset\n",
    "\n",
    "\n",
    "You will now load the dataset from the [UCI Machine Learning Repository](https://archive.ics.uci.edu/ml/index.php) which are already saved in your workspace.\n",
    "\n",
    "### Pre-process the white wine dataset (TODO)\n",
    "You will add a new column named `is_red` in your dataframe to indicate if the wine is white or red. \n",
    "- In the white wine dataset, you will fill the column `is_red` with  zeros (0)."
   ]
  },
  {
   "cell_type": "code",
   "execution_count": 3,
   "metadata": {
    "colab": {},
    "colab_type": "code",
    "deletable": false,
    "id": "2qYAjKXCd4RH",
    "nbgrader": {
     "cell_type": "code",
     "checksum": "325ea195519b7035934c95bb529a062c",
     "grade": false,
     "grade_id": "cell-e5bfa0f152d9a21f",
     "locked": false,
     "schema_version": 3,
     "solution": true,
     "task": false
    }
   },
   "outputs": [],
   "source": [
    "## Please uncomment all lines in this cell and replace those marked with `# YOUR CODE HERE`.\n",
    "## You can select all lines in this code cell with Ctrl+A (Windows/Linux) or Cmd+A (Mac), then press Ctrl+/ (Windows/Linux) or Cmd+/ (Mac) to uncomment.\n",
    "\n",
    "\n",
    "\n",
    "# # URL of the white wine dataset\n",
    "URI = './winequality-white.csv'\n",
    "\n",
    "# # load the dataset from the URL\n",
    "white_df = pd.read_csv(URI, sep=\";\")\n",
    "\n",
    "# # fill the `is_red` column with zeros.\n",
    "white_df[\"is_red\"] = 0\n",
    "\n",
    "# # keep only the first of duplicate items\n",
    "white_df = white_df.drop_duplicates(keep='first')\n"
   ]
  },
  {
   "cell_type": "code",
   "execution_count": 4,
   "metadata": {
    "deletable": false,
    "editable": false,
    "nbgrader": {
     "cell_type": "code",
     "checksum": "defe38d6ec58fd31cd67b89e46c4373f",
     "grade": true,
     "grade_id": "cell-30575e713b55fc51",
     "locked": true,
     "points": 1,
     "schema_version": 3,
     "solution": false,
     "task": false
    }
   },
   "outputs": [
    {
     "name": "stdout",
     "output_type": "stream",
     "text": [
      "\u001b[92m All public tests passed\n"
     ]
    }
   ],
   "source": [
    "# You can click `File -> Open` in the menu above and open the `utils.py` file \n",
    "# in case you want to inspect the unit tests being used for each graded function.\n",
    "\n",
    "utils.test_white_df(white_df)\n"
   ]
  },
  {
   "cell_type": "code",
   "execution_count": 5,
   "metadata": {
    "colab": {},
    "colab_type": "code",
    "id": "OQHK0ohBQRCk"
   },
   "outputs": [
    {
     "name": "stdout",
     "output_type": "stream",
     "text": [
      "8.8\n",
      "9.1\n"
     ]
    }
   ],
   "source": [
    "print(white_df.alcohol[0])\n",
    "print(white_df.alcohol[100])\n",
    "\n",
    "# EXPECTED OUTPUT\n",
    "# 8.8\n",
    "# 9.1"
   ]
  },
  {
   "cell_type": "markdown",
   "metadata": {},
   "source": [
    "### Pre-process the red wine dataset (TODO)\n",
    "- In the red wine dataset, you will fill in the column `is_red` with ones (1)."
   ]
  },
  {
   "cell_type": "code",
   "execution_count": 6,
   "metadata": {
    "colab": {},
    "colab_type": "code",
    "deletable": false,
    "id": "8y3QxKwBed8v",
    "nbgrader": {
     "cell_type": "code",
     "checksum": "12e0963d15be33b01b4e6ebc8945e51e",
     "grade": false,
     "grade_id": "cell-e47a40f306593274",
     "locked": false,
     "schema_version": 3,
     "solution": true,
     "task": false
    }
   },
   "outputs": [],
   "source": [
    "## Please uncomment all lines in this cell and replace those marked with `# YOUR CODE HERE`.\n",
    "## You can select all lines in this code cell with Ctrl+A (Windows/Linux) or Cmd+A (Mac), then press Ctrl+/ (Windows/Linux) or Cmd+/ (Mac) to uncomment.\n",
    "\n",
    "\n",
    "\n",
    "# URL of the red wine dataset\n",
    "URI = './winequality-red.csv'\n",
    "\n",
    "# load the dataset from the URL\n",
    "red_df = pd.read_csv(URI, sep=\";\")\n",
    "\n",
    "# fill the `is_red` column with ones.\n",
    "red_df[\"is_red\"] = 1\n",
    "\n",
    "# keep only the first of duplicate items\n",
    "red_df = red_df.drop_duplicates(keep='first')\n"
   ]
  },
  {
   "cell_type": "code",
   "execution_count": 7,
   "metadata": {
    "deletable": false,
    "editable": false,
    "nbgrader": {
     "cell_type": "code",
     "checksum": "d8e0c91b0fd668b63ba74a8f2f958b59",
     "grade": true,
     "grade_id": "cell-2a75937adcc0c25b",
     "locked": true,
     "points": 1,
     "schema_version": 3,
     "solution": false,
     "task": false
    }
   },
   "outputs": [
    {
     "name": "stdout",
     "output_type": "stream",
     "text": [
      "\u001b[92m All public tests passed\n"
     ]
    }
   ],
   "source": [
    "utils.test_red_df(red_df)\n"
   ]
  },
  {
   "cell_type": "code",
   "execution_count": 8,
   "metadata": {
    "colab": {},
    "colab_type": "code",
    "id": "zsB3LUzNQpo_"
   },
   "outputs": [
    {
     "name": "stdout",
     "output_type": "stream",
     "text": [
      "9.4\n",
      "10.2\n"
     ]
    }
   ],
   "source": [
    "print(red_df.alcohol[0])\n",
    "print(red_df.alcohol[100])\n",
    "\n",
    "# EXPECTED OUTPUT\n",
    "# 9.4\n",
    "# 10.2"
   ]
  },
  {
   "cell_type": "markdown",
   "metadata": {
    "colab_type": "text",
    "id": "2G8B-NYuM6-f"
   },
   "source": [
    "### Concatenate the datasets\n",
    "\n",
    "Next, concatenate the red and white wine dataframes."
   ]
  },
  {
   "cell_type": "code",
   "execution_count": 24,
   "metadata": {
    "colab": {},
    "colab_type": "code",
    "id": "YpQrOjJbfN3m"
   },
   "outputs": [],
   "source": [
    "df = pd.concat([red_df, white_df], ignore_index=True)"
   ]
  },
  {
   "cell_type": "code",
   "execution_count": 25,
   "metadata": {
    "colab": {},
    "colab_type": "code",
    "id": "Se2dTmThQyjb"
   },
   "outputs": [
    {
     "name": "stdout",
     "output_type": "stream",
     "text": [
      "9.4\n",
      "9.5\n"
     ]
    }
   ],
   "source": [
    "print(df.alcohol[0])\n",
    "print(df.alcohol[100])\n",
    "\n",
    "# EXPECTED OUTPUT\n",
    "# 9.4\n",
    "# 9.5"
   ]
  },
  {
   "cell_type": "markdown",
   "metadata": {},
   "source": [
    "In a real-world scenario, you should shuffle the data. For this assignment however, **you are not** going to do that because the grader needs to test with deterministic data. If you want the code to do it **after** you've gotten your grade for this notebook, we left the commented line below for reference"
   ]
  },
  {
   "cell_type": "code",
   "execution_count": 26,
   "metadata": {
    "colab": {},
    "colab_type": "code",
    "id": "wx6y3rPpQv4k"
   },
   "outputs": [],
   "source": [
    "# df = df.iloc[np.random.permutation(len(df))]"
   ]
  },
  {
   "cell_type": "markdown",
   "metadata": {
    "colab_type": "text",
    "id": "-EqIcbg5M_n1"
   },
   "source": [
    "This will chart the quality of the wines."
   ]
  },
  {
   "cell_type": "code",
   "execution_count": 27,
   "metadata": {
    "colab": {},
    "colab_type": "code",
    "id": "IsvK0-Sgy17C"
   },
   "outputs": [
    {
     "data": {
      "image/png": "[encoded data removed]",
      "text/plain": [
       "<Figure size 432x288 with 1 Axes>"
      ]
     },
     "metadata": {
      "needs_background": "light"
     },
     "output_type": "display_data"
    }
   ],
   "source": [
    "df['quality'].hist(bins=20);"
   ]
  },
  {
   "cell_type": "markdown",
   "metadata": {
    "colab_type": "text",
    "id": "Nut1rmYLzf-p"
   },
   "source": [
    "### Imbalanced data (TODO)\n",
    "You can see from the plot above that the wine quality dataset is imbalanced. \n",
    "- Since there are very few observations with quality equal to 3, 4, 8 and 9, you can drop these observations from your dataset. \n",
    "- You can do this by removing data belonging to all classes except those > 4 and < 8."
   ]
  },
  {
   "cell_type": "code",
   "execution_count": 28,
   "metadata": {
    "colab": {},
    "colab_type": "code",
    "deletable": false,
    "id": "doH9_-gnf3sz",
    "nbgrader": {
     "cell_type": "code",
     "checksum": "d9ba9fc3a3ca02ccc567be33652b80fe",
     "grade": false,
     "grade_id": "cell-6a3e9db696f6827b",
     "locked": false,
     "schema_version": 3,
     "solution": true,
     "task": false
    }
   },
   "outputs": [],
   "source": [
    "# Please uncomment all lines in this cell and replace those marked with `# YOUR CODE HERE`.\n",
    "# You can select all lines in this code cell with Ctrl+A (Windows/Linux) or Cmd+A (Mac), then press Ctrl+/ (Windows/Linux) or Cmd+/ (Mac) to uncomment.\n",
    "\n",
    "\n",
    "\n",
    "# get data with wine quality greater than 4 and less than 8\n",
    "df = df[(df['quality'] > 4) & (df['quality'] < 8 )]\n",
    "\n",
    "# reset index and drop the old one\n",
    "df = df.reset_index(drop=True)\n"
   ]
  },
  {
   "cell_type": "code",
   "execution_count": 29,
   "metadata": {
    "deletable": false,
    "editable": false,
    "nbgrader": {
     "cell_type": "code",
     "checksum": "281e1d86a4803560ed5892cd7eda4c01",
     "grade": true,
     "grade_id": "cell-aed3da719d4682c7",
     "locked": true,
     "points": 1,
     "schema_version": 3,
     "solution": false,
     "task": false
    }
   },
   "outputs": [
    {
     "name": "stdout",
     "output_type": "stream",
     "text": [
      "\u001b[92m All public tests passed\n"
     ]
    }
   ],
   "source": [
    "utils.test_df_drop(df)\n",
    "\n"
   ]
  },
  {
   "cell_type": "code",
   "execution_count": 30,
   "metadata": {
    "colab": {},
    "colab_type": "code",
    "id": "xNR1iAlMRPXO"
   },
   "outputs": [
    {
     "name": "stdout",
     "output_type": "stream",
     "text": [
      "9.4\n",
      "10.9\n"
     ]
    }
   ],
   "source": [
    "print(df.alcohol[0])\n",
    "print(df.alcohol[100])\n",
    "\n",
    "# EXPECTED OUTPUT\n",
    "# 9.4\n",
    "# 10.9"
   ]
  },
  {
   "cell_type": "markdown",
   "metadata": {
    "colab_type": "text",
    "id": "cwhuRpnVRTzG"
   },
   "source": [
    "You can plot again to see the new range of data and quality"
   ]
  },
  {
   "cell_type": "code",
   "execution_count": 31,
   "metadata": {
    "colab": {},
    "colab_type": "code",
    "id": "857ygzZiLgGg"
   },
   "outputs": [
    {
     "data": {
      "image/png": "[encoded data removed]",
      "text/plain": [
       "<Figure size 432x288 with 1 Axes>"
      ]
     },
     "metadata": {
      "needs_background": "light"
     },
     "output_type": "display_data"
    }
   ],
   "source": [
    "df['quality'].hist(bins=20);"
   ]
  },
  {
   "cell_type": "markdown",
   "metadata": {
    "colab_type": "text",
    "id": "n3k0vqSsp84t"
   },
   "source": [
    "### Train Test Split (TODO)\n",
    "\n",
    "Next, you can split the datasets into training, test and validation datasets.\n",
    "- The data frame should be split 80:20 into `train` and `test` sets.\n",
    "- The resulting `train` should then be split 80:20 into `train` and `val` sets.\n",
    "- The `train_test_split` parameter `test_size` takes a float value that ranges between 0. and 1, and represents the proportion of the dataset that is allocated to the test set.  The rest of the data is allocated to the training set."
   ]
  },
  {
   "cell_type": "code",
   "execution_count": 32,
   "metadata": {
    "colab": {},
    "colab_type": "code",
    "deletable": false,
    "id": "PAVIf2-fgRVY",
    "nbgrader": {
     "cell_type": "code",
     "checksum": "7f5738f4fb51d65adc9a8acbdf2b9970",
     "grade": false,
     "grade_id": "cell-91946cadf745206b",
     "locked": false,
     "schema_version": 3,
     "solution": true,
     "task": false
    }
   },
   "outputs": [],
   "source": [
    "# Please uncomment all lines in this cell and replace those marked with `# YOUR CODE HERE`.\n",
    "# You can select all lines in this code cell with Ctrl+A (Windows/Linux) or Cmd+A (Mac), then press Ctrl+/ (Windows/Linux) or Cmd+/ (Mac) to uncomment.\n",
    "\n",
    "\n",
    "\n",
    "# Please do not change the random_state parameter. This is needed for grading.\n",
    "\n",
    "# split df into 80:20 train and test sets\n",
    "train, test = train_test_split(df, test_size=0.2, random_state = 1)\n",
    "                               \n",
    "# split train into 80:20 train and val sets\n",
    "train, val = train_test_split(train, test_size=0.2, random_state = 1)\n"
   ]
  },
  {
   "cell_type": "code",
   "execution_count": 33,
   "metadata": {
    "colab": {},
    "colab_type": "code",
    "deletable": false,
    "editable": false,
    "id": "57h9LcEzRWpk",
    "nbgrader": {
     "cell_type": "code",
     "checksum": "42adbe9e66efac7c7a5f8cd73ac92f22",
     "grade": true,
     "grade_id": "cell-64b8b38cd0b965f6",
     "locked": true,
     "points": 1,
     "schema_version": 3,
     "solution": false,
     "task": false
    }
   },
   "outputs": [
    {
     "name": "stdout",
     "output_type": "stream",
     "text": [
      "\u001b[92m All public tests passed\n"
     ]
    }
   ],
   "source": [
    "utils.test_data_sizes(train.size, test.size, val.size)\n",
    "\n"
   ]
  },
  {
   "cell_type": "markdown",
   "metadata": {
    "colab_type": "text",
    "id": "RwTNu4KFqG-K"
   },
   "source": [
    "Here's where you can explore the training stats. You can pop the labels 'is_red' and 'quality' from the data as these will be used as the labels\n"
   ]
  },
  {
   "cell_type": "code",
   "execution_count": 34,
   "metadata": {
    "colab": {},
    "colab_type": "code",
    "id": "Y_afyhhHM6WQ"
   },
   "outputs": [],
   "source": [
    "train_stats = train.describe()\n",
    "train_stats.pop('is_red')\n",
    "train_stats.pop('quality')\n",
    "train_stats = train_stats.transpose()"
   ]
  },
  {
   "cell_type": "markdown",
   "metadata": {
    "colab_type": "text",
    "id": "ahvbYm4fNqSt"
   },
   "source": [
    "Explore the training stats!"
   ]
  },
  {
   "cell_type": "code",
   "execution_count": 35,
   "metadata": {
    "colab": {},
    "colab_type": "code",
    "id": "n_gAtPjZ0otF"
   },
   "outputs": [
    {
     "data": {
      "text/html": [
       "<div>\n",
       "<style scoped>\n",
       "    .dataframe tbody tr th:only-of-type {\n",
       "        vertical-align: middle;\n",
       "    }\n",
       "\n",
       "    .dataframe tbody tr th {\n",
       "        vertical-align: top;\n",
       "    }\n",
       "\n",
       "    .dataframe thead th {\n",
       "        text-align: right;\n",
       "    }\n",
       "</style>\n",
       "<table border=\"1\" class=\"dataframe\">\n",
       "  <thead>\n",
       "    <tr style=\"text-align: right;\">\n",
       "      <th></th>\n",
       "      <th>count</th>\n",
       "      <th>mean</th>\n",
       "      <th>std</th>\n",
       "      <th>min</th>\n",
       "      <th>25%</th>\n",
       "      <th>50%</th>\n",
       "      <th>75%</th>\n",
       "      <th>max</th>\n",
       "    </tr>\n",
       "  </thead>\n",
       "  <tbody>\n",
       "    <tr>\n",
       "      <th>fixed acidity</th>\n",
       "      <td>3155.0</td>\n",
       "      <td>7.221616</td>\n",
       "      <td>1.325297</td>\n",
       "      <td>3.80000</td>\n",
       "      <td>6.40000</td>\n",
       "      <td>7.00000</td>\n",
       "      <td>7.7000</td>\n",
       "      <td>15.60000</td>\n",
       "    </tr>\n",
       "    <tr>\n",
       "      <th>volatile acidity</th>\n",
       "      <td>3155.0</td>\n",
       "      <td>0.338929</td>\n",
       "      <td>0.162476</td>\n",
       "      <td>0.08000</td>\n",
       "      <td>0.23000</td>\n",
       "      <td>0.29000</td>\n",
       "      <td>0.4000</td>\n",
       "      <td>1.24000</td>\n",
       "    </tr>\n",
       "    <tr>\n",
       "      <th>citric acid</th>\n",
       "      <td>3155.0</td>\n",
       "      <td>0.321569</td>\n",
       "      <td>0.147970</td>\n",
       "      <td>0.00000</td>\n",
       "      <td>0.25000</td>\n",
       "      <td>0.31000</td>\n",
       "      <td>0.4000</td>\n",
       "      <td>1.66000</td>\n",
       "    </tr>\n",
       "    <tr>\n",
       "      <th>residual sugar</th>\n",
       "      <td>3155.0</td>\n",
       "      <td>5.155911</td>\n",
       "      <td>4.639632</td>\n",
       "      <td>0.60000</td>\n",
       "      <td>1.80000</td>\n",
       "      <td>2.80000</td>\n",
       "      <td>7.6500</td>\n",
       "      <td>65.80000</td>\n",
       "    </tr>\n",
       "    <tr>\n",
       "      <th>chlorides</th>\n",
       "      <td>3155.0</td>\n",
       "      <td>0.056976</td>\n",
       "      <td>0.036802</td>\n",
       "      <td>0.01200</td>\n",
       "      <td>0.03800</td>\n",
       "      <td>0.04700</td>\n",
       "      <td>0.0660</td>\n",
       "      <td>0.61100</td>\n",
       "    </tr>\n",
       "    <tr>\n",
       "      <th>free sulfur dioxide</th>\n",
       "      <td>3155.0</td>\n",
       "      <td>30.388590</td>\n",
       "      <td>17.236784</td>\n",
       "      <td>1.00000</td>\n",
       "      <td>17.00000</td>\n",
       "      <td>28.00000</td>\n",
       "      <td>41.0000</td>\n",
       "      <td>131.00000</td>\n",
       "    </tr>\n",
       "    <tr>\n",
       "      <th>total sulfur dioxide</th>\n",
       "      <td>3155.0</td>\n",
       "      <td>115.062282</td>\n",
       "      <td>56.706617</td>\n",
       "      <td>6.00000</td>\n",
       "      <td>75.00000</td>\n",
       "      <td>117.00000</td>\n",
       "      <td>156.0000</td>\n",
       "      <td>344.00000</td>\n",
       "    </tr>\n",
       "    <tr>\n",
       "      <th>density</th>\n",
       "      <td>3155.0</td>\n",
       "      <td>0.994633</td>\n",
       "      <td>0.003005</td>\n",
       "      <td>0.98711</td>\n",
       "      <td>0.99232</td>\n",
       "      <td>0.99481</td>\n",
       "      <td>0.9968</td>\n",
       "      <td>1.03898</td>\n",
       "    </tr>\n",
       "    <tr>\n",
       "      <th>pH</th>\n",
       "      <td>3155.0</td>\n",
       "      <td>3.223201</td>\n",
       "      <td>0.161272</td>\n",
       "      <td>2.72000</td>\n",
       "      <td>3.11000</td>\n",
       "      <td>3.21000</td>\n",
       "      <td>3.3300</td>\n",
       "      <td>4.01000</td>\n",
       "    </tr>\n",
       "    <tr>\n",
       "      <th>sulphates</th>\n",
       "      <td>3155.0</td>\n",
       "      <td>0.534051</td>\n",
       "      <td>0.149149</td>\n",
       "      <td>0.22000</td>\n",
       "      <td>0.43000</td>\n",
       "      <td>0.51000</td>\n",
       "      <td>0.6000</td>\n",
       "      <td>1.95000</td>\n",
       "    </tr>\n",
       "    <tr>\n",
       "      <th>alcohol</th>\n",
       "      <td>3155.0</td>\n",
       "      <td>10.504466</td>\n",
       "      <td>1.154654</td>\n",
       "      <td>8.50000</td>\n",
       "      <td>9.50000</td>\n",
       "      <td>10.30000</td>\n",
       "      <td>11.3000</td>\n",
       "      <td>14.00000</td>\n",
       "    </tr>\n",
       "  </tbody>\n",
       "</table>\n",
       "</div>"
      ],
      "text/plain": [
       "                       count        mean        std      min       25%  \\\n",
       "fixed acidity         3155.0    7.221616   1.325297  3.80000   6.40000   \n",
       "volatile acidity      3155.0    0.338929   0.162476  0.08000   0.23000   \n",
       "citric acid           3155.0    0.321569   0.147970  0.00000   0.25000   \n",
       "residual sugar        3155.0    5.155911   4.639632  0.60000   1.80000   \n",
       "chlorides             3155.0    0.056976   0.036802  0.01200   0.03800   \n",
       "free sulfur dioxide   3155.0   30.388590  17.236784  1.00000  17.00000   \n",
       "total sulfur dioxide  3155.0  115.062282  56.706617  6.00000  75.00000   \n",
       "density               3155.0    0.994633   0.003005  0.98711   0.99232   \n",
       "pH                    3155.0    3.223201   0.161272  2.72000   3.11000   \n",
       "sulphates             3155.0    0.534051   0.149149  0.22000   0.43000   \n",
       "alcohol               3155.0   10.504466   1.154654  8.50000   9.50000   \n",
       "\n",
       "                            50%       75%        max  \n",
       "fixed acidity           7.00000    7.7000   15.60000  \n",
       "volatile acidity        0.29000    0.4000    1.24000  \n",
       "citric acid             0.31000    0.4000    1.66000  \n",
       "residual sugar          2.80000    7.6500   65.80000  \n",
       "chlorides               0.04700    0.0660    0.61100  \n",
       "free sulfur dioxide    28.00000   41.0000  131.00000  \n",
       "total sulfur dioxide  117.00000  156.0000  344.00000  \n",
       "density                 0.99481    0.9968    1.03898  \n",
       "pH                      3.21000    3.3300    4.01000  \n",
       "sulphates               0.51000    0.6000    1.95000  \n",
       "alcohol                10.30000   11.3000   14.00000  "
      ]
     },
     "execution_count": 35,
     "metadata": {},
     "output_type": "execute_result"
    }
   ],
   "source": [
    "train_stats"
   ]
  },
  {
   "cell_type": "markdown",
   "metadata": {
    "colab_type": "text",
    "id": "bGPvt9jir_HC"
   },
   "source": [
    "### Get the labels (TODO)\n",
    "\n",
    "The features and labels are currently in the same dataframe.\n",
    "- You will want to store the label columns `is_red` and `quality` separately from the feature columns.  \n",
    "- The following function, `format_output`, gets these two columns from the dataframe (it's given to you).\n",
    "- `format_output` also formats the data into numpy arrays. \n",
    "- Please use the `format_output` and apply it to the `train`, `val` and `test` sets to get dataframes for the labels."
   ]
  },
  {
   "cell_type": "code",
   "execution_count": 36,
   "metadata": {
    "colab": {},
    "colab_type": "code",
    "id": "Z_fs14XQqZVP"
   },
   "outputs": [],
   "source": [
    "def format_output(data):\n",
    "    is_red = data.pop('is_red')\n",
    "    is_red = np.array(is_red)\n",
    "    quality = data.pop('quality')\n",
    "    quality = np.array(quality)\n",
    "    return (quality, is_red)"
   ]
  },
  {
   "cell_type": "code",
   "execution_count": 37,
   "metadata": {
    "colab": {},
    "colab_type": "code",
    "deletable": false,
    "id": "8L3ZZe1fQicm",
    "nbgrader": {
     "cell_type": "code",
     "checksum": "7a86809e54895a816434c48dc903f55d",
     "grade": false,
     "grade_id": "cell-5c30fa2c2a354b0f",
     "locked": false,
     "schema_version": 3,
     "solution": true,
     "task": false
    }
   },
   "outputs": [],
   "source": [
    "# Please uncomment all lines in this cell and replace those marked with `# YOUR CODE HERE`.\n",
    "# You can select all lines in this code cell with Ctrl+A (Windows/Linux) or Cmd+A (Mac), then press Ctrl+/ (Windows/Linux) or Cmd+/ (Mac) to uncomment.\n",
    "\n",
    "\n",
    "\n",
    "# format the output of the train set\n",
    "train_Y = format_output(train)\n",
    "\n",
    "# format the output of the val set\n",
    "val_Y = format_output(val)\n",
    "    \n",
    "# format the output of the test set\n",
    "test_Y = format_output(test)\n"
   ]
  },
  {
   "cell_type": "code",
   "execution_count": 38,
   "metadata": {
    "deletable": false,
    "editable": false,
    "nbgrader": {
     "cell_type": "code",
     "checksum": "359cabbafaed14ec9bbc1e57a7b6f32c",
     "grade": true,
     "grade_id": "cell-4977d8befb80f56b",
     "locked": true,
     "points": 1,
     "schema_version": 3,
     "solution": false,
     "task": false
    }
   },
   "outputs": [
    {
     "name": "stdout",
     "output_type": "stream",
     "text": [
      "\u001b[92m All public tests passed\n"
     ]
    }
   ],
   "source": [
    "utils.test_format_output(df, train_Y, val_Y, test_Y)"
   ]
  },
  {
   "cell_type": "markdown",
   "metadata": {},
   "source": [
    "Notice that after you get the labels, the `train`, `val` and `test` dataframes no longer contain the label columns, and contain just the feature columns.\n",
    "- This is because you used `.pop` in the `format_output` function."
   ]
  },
  {
   "cell_type": "code",
   "execution_count": 39,
   "metadata": {},
   "outputs": [
    {
     "data": {
      "text/html": [
       "<div>\n",
       "<style scoped>\n",
       "    .dataframe tbody tr th:only-of-type {\n",
       "        vertical-align: middle;\n",
       "    }\n",
       "\n",
       "    .dataframe tbody tr th {\n",
       "        vertical-align: top;\n",
       "    }\n",
       "\n",
       "    .dataframe thead th {\n",
       "        text-align: right;\n",
       "    }\n",
       "</style>\n",
       "<table border=\"1\" class=\"dataframe\">\n",
       "  <thead>\n",
       "    <tr style=\"text-align: right;\">\n",
       "      <th></th>\n",
       "      <th>fixed acidity</th>\n",
       "      <th>volatile acidity</th>\n",
       "      <th>citric acid</th>\n",
       "      <th>residual sugar</th>\n",
       "      <th>chlorides</th>\n",
       "      <th>free sulfur dioxide</th>\n",
       "      <th>total sulfur dioxide</th>\n",
       "      <th>density</th>\n",
       "      <th>pH</th>\n",
       "      <th>sulphates</th>\n",
       "      <th>alcohol</th>\n",
       "    </tr>\n",
       "  </thead>\n",
       "  <tbody>\n",
       "    <tr>\n",
       "      <th>225</th>\n",
       "      <td>7.5</td>\n",
       "      <td>0.65</td>\n",
       "      <td>0.18</td>\n",
       "      <td>7.0</td>\n",
       "      <td>0.088</td>\n",
       "      <td>27.0</td>\n",
       "      <td>94.0</td>\n",
       "      <td>0.99915</td>\n",
       "      <td>3.38</td>\n",
       "      <td>0.77</td>\n",
       "      <td>9.4</td>\n",
       "    </tr>\n",
       "    <tr>\n",
       "      <th>3557</th>\n",
       "      <td>6.3</td>\n",
       "      <td>0.27</td>\n",
       "      <td>0.29</td>\n",
       "      <td>12.2</td>\n",
       "      <td>0.044</td>\n",
       "      <td>59.0</td>\n",
       "      <td>196.0</td>\n",
       "      <td>0.99782</td>\n",
       "      <td>3.14</td>\n",
       "      <td>0.40</td>\n",
       "      <td>8.8</td>\n",
       "    </tr>\n",
       "    <tr>\n",
       "      <th>3825</th>\n",
       "      <td>8.8</td>\n",
       "      <td>0.27</td>\n",
       "      <td>0.25</td>\n",
       "      <td>5.0</td>\n",
       "      <td>0.024</td>\n",
       "      <td>52.0</td>\n",
       "      <td>99.0</td>\n",
       "      <td>0.99250</td>\n",
       "      <td>2.87</td>\n",
       "      <td>0.49</td>\n",
       "      <td>11.4</td>\n",
       "    </tr>\n",
       "    <tr>\n",
       "      <th>1740</th>\n",
       "      <td>6.4</td>\n",
       "      <td>0.45</td>\n",
       "      <td>0.07</td>\n",
       "      <td>1.1</td>\n",
       "      <td>0.030</td>\n",
       "      <td>10.0</td>\n",
       "      <td>131.0</td>\n",
       "      <td>0.99050</td>\n",
       "      <td>2.97</td>\n",
       "      <td>0.28</td>\n",
       "      <td>10.8</td>\n",
       "    </tr>\n",
       "    <tr>\n",
       "      <th>1221</th>\n",
       "      <td>7.2</td>\n",
       "      <td>0.53</td>\n",
       "      <td>0.13</td>\n",
       "      <td>2.0</td>\n",
       "      <td>0.058</td>\n",
       "      <td>18.0</td>\n",
       "      <td>22.0</td>\n",
       "      <td>0.99573</td>\n",
       "      <td>3.21</td>\n",
       "      <td>0.68</td>\n",
       "      <td>9.9</td>\n",
       "    </tr>\n",
       "  </tbody>\n",
       "</table>\n",
       "</div>"
      ],
      "text/plain": [
       "      fixed acidity  volatile acidity  citric acid  residual sugar  chlorides  \\\n",
       "225             7.5              0.65         0.18             7.0      0.088   \n",
       "3557            6.3              0.27         0.29            12.2      0.044   \n",
       "3825            8.8              0.27         0.25             5.0      0.024   \n",
       "1740            6.4              0.45         0.07             1.1      0.030   \n",
       "1221            7.2              0.53         0.13             2.0      0.058   \n",
       "\n",
       "      free sulfur dioxide  total sulfur dioxide  density    pH  sulphates  \\\n",
       "225                  27.0                  94.0  0.99915  3.38       0.77   \n",
       "3557                 59.0                 196.0  0.99782  3.14       0.40   \n",
       "3825                 52.0                  99.0  0.99250  2.87       0.49   \n",
       "1740                 10.0                 131.0  0.99050  2.97       0.28   \n",
       "1221                 18.0                  22.0  0.99573  3.21       0.68   \n",
       "\n",
       "      alcohol  \n",
       "225       9.4  \n",
       "3557      8.8  \n",
       "3825     11.4  \n",
       "1740     10.8  \n",
       "1221      9.9  "
      ]
     },
     "execution_count": 39,
     "metadata": {},
     "output_type": "execute_result"
    }
   ],
   "source": [
    "train.head()"
   ]
  },
  {
   "cell_type": "markdown",
   "metadata": {
    "colab_type": "text",
    "id": "hEdbrruAsN1D"
   },
   "source": [
    "### Normalize the data (TODO)\n",
    "\n",
    "Next, you can normalize the data, x, using the formula:\n",
    "$$x_{norm} = \\frac{x - \\mu}{\\sigma}$$\n",
    "- The `norm` function is defined for you.\n",
    "- Please apply the `norm` function to normalize the dataframes that contains the feature columns of `train`, `val` and `test` sets."
   ]
  },
  {
   "cell_type": "code",
   "execution_count": 40,
   "metadata": {
    "colab": {},
    "colab_type": "code",
    "id": "WWiZPAHCLjUs"
   },
   "outputs": [],
   "source": [
    "def norm(x):\n",
    "    return (x - train_stats['mean']) / train_stats['std']"
   ]
  },
  {
   "cell_type": "code",
   "execution_count": 41,
   "metadata": {
    "colab": {},
    "colab_type": "code",
    "deletable": false,
    "id": "JEaOi2I2Lk69",
    "nbgrader": {
     "cell_type": "code",
     "checksum": "6bc0cdcb563d192f271067aa3373ff32",
     "grade": false,
     "grade_id": "cell-d8416d975c371095",
     "locked": false,
     "schema_version": 3,
     "solution": true,
     "task": false
    }
   },
   "outputs": [],
   "source": [
    "# Please uncomment all lines in this cell and replace those marked with `# YOUR CODE HERE`.\n",
    "# You can select all lines in this code cell with Ctrl+A (Windows/Linux) or Cmd+A (Mac), then press Ctrl+/ (Windows/Linux) or Cmd+/ (Mac) to uncomment.\n",
    "\n",
    "\n",
    "\n",
    "# normalize the train set\n",
    "norm_train_X = norm(train)\n",
    "    \n",
    "# normalize the val set\n",
    "norm_val_X = norm(val)\n",
    "    \n",
    "# normalize the test set\n",
    "norm_test_X = norm(test)\n"
   ]
  },
  {
   "cell_type": "code",
   "execution_count": 42,
   "metadata": {
    "deletable": false,
    "editable": false,
    "nbgrader": {
     "cell_type": "code",
     "checksum": "4f567db45bf40191601780379cc100b8",
     "grade": true,
     "grade_id": "cell-97fad979d157529b",
     "locked": true,
     "points": 1,
     "schema_version": 3,
     "solution": false,
     "task": false
    }
   },
   "outputs": [
    {
     "name": "stdout",
     "output_type": "stream",
     "text": [
      "\u001b[92m All public tests passed\n"
     ]
    }
   ],
   "source": [
    "utils.test_norm(norm_train_X, norm_val_X, norm_test_X, train, val, test)\n"
   ]
  },
  {
   "cell_type": "markdown",
   "metadata": {
    "colab_type": "text",
    "id": "hzykDwQhsaPO"
   },
   "source": [
    "## Define the Model (TODO)\n",
    "\n",
    "Define the model using the functional API. The base model will be 2 `Dense` layers of 128 neurons each, and have the `'relu'` activation.\n",
    "- Check out the documentation for [tf.keras.layers.Dense](https://www.tensorflow.org/api_docs/python/tf/keras/layers/Dense)"
   ]
  },
  {
   "cell_type": "code",
   "execution_count": 43,
   "metadata": {
    "colab": {},
    "colab_type": "code",
    "deletable": false,
    "id": "Rhcns3oTFkM6",
    "nbgrader": {
     "cell_type": "code",
     "checksum": "74b031247e569526552bf13a034a1c07",
     "grade": false,
     "grade_id": "cell-73fceedad1fe351c",
     "locked": false,
     "schema_version": 3,
     "solution": true,
     "task": false
    }
   },
   "outputs": [],
   "source": [
    "# Please uncomment all lines in this cell and replace those marked with `# YOUR CODE HERE`.\n",
    "# You can select all lines in this code cell with Ctrl+A (Windows/Linux) or Cmd+A (Mac), then press Ctrl+/ (Windows/Linux) or Cmd+/ (Mac) to uncomment.\n",
    "\n",
    "\n",
    "\n",
    "def base_model(inputs):\n",
    "    \n",
    "    # connect a Dense layer with 128 neurons and a relu activation\n",
    "    x = Dense(128,activation='relu')(inputs)\n",
    "    \n",
    "    # connect another Dense layer with 128 neurons and a relu activation\n",
    "    x = Dense(128,activation='relu')(x)\n",
    "    return x\n",
    "  "
   ]
  },
  {
   "cell_type": "code",
   "execution_count": 44,
   "metadata": {
    "deletable": false,
    "editable": false,
    "nbgrader": {
     "cell_type": "code",
     "checksum": "9255924b3def80f679616e4c851a43e1",
     "grade": true,
     "grade_id": "cell-54f742a133353d75",
     "locked": true,
     "points": 1,
     "schema_version": 3,
     "solution": false,
     "task": false
    }
   },
   "outputs": [
    {
     "name": "stdout",
     "output_type": "stream",
     "text": [
      "\u001b[92m All public tests passed\n"
     ]
    }
   ],
   "source": [
    "utils.test_base_model(base_model)"
   ]
  },
  {
   "cell_type": "markdown",
   "metadata": {
    "colab_type": "text",
    "id": "xem_fcVws6Kz"
   },
   "source": [
    "# Define output layers of the model (TODO)\n",
    "\n",
    "You will add output layers to the base model. \n",
    "- The model will need two outputs.\n",
    "\n",
    "One output layer will predict wine quality, which is a numeric value.\n",
    "- Define a `Dense` layer with 1 neuron.\n",
    "- Since this is a regression output, the activation can be left as its default value `None`.\n",
    "\n",
    "The other output layer will predict the wine type, which is either red `1` or not red `0` (white).\n",
    "- Define a `Dense` layer with 1 neuron.\n",
    "- Since there are two possible categories, you can use a sigmoid activation for binary classification.\n",
    "\n",
    "Define the `Model`\n",
    "- Define the `Model` object, and set the following parameters:\n",
    "  - `inputs`: pass in the inputs to the model as a list.\n",
    "  - `outputs`: pass in a list of the outputs that you just defined: wine quality, then wine type.\n",
    "  - **Note**: please list the wine quality before wine type in the outputs, as this will affect the calculated loss if you choose the other order."
   ]
  },
  {
   "cell_type": "code",
   "execution_count": 45,
   "metadata": {
    "colab": {},
    "colab_type": "code",
    "deletable": false,
    "id": "n5UGF8PMVLPt",
    "nbgrader": {
     "cell_type": "code",
     "checksum": "76d35b90d20cdcbb22986cd8211057de",
     "grade": false,
     "grade_id": "cell-19e285f482f021fb",
     "locked": false,
     "schema_version": 3,
     "solution": true,
     "task": false
    }
   },
   "outputs": [],
   "source": [
    "# Please uncomment all lines in this cell and replace those marked with `# YOUR CODE HERE`.\n",
    "# You can select all lines in this code cell with Ctrl+A (Windows/Linux) or Cmd+A (Mac), then press Ctrl+/ (Windows/Linux) or Cmd+/ (Mac) to uncomment.\n",
    "\n",
    "\n",
    "\n",
    "def final_model(inputs):\n",
    "    \n",
    "    # get the base model\n",
    "    x = base_model(inputs)\n",
    "\n",
    "    # connect the output Dense layer for regression\n",
    "    wine_quality = Dense(units='1', name='wine_quality')(x)\n",
    "\n",
    "    # connect the output Dense layer for classification. this will use a sigmoid activation.\n",
    "    wine_type = Dense(units='1', activation='sigmoid', name='wine_type')(x)\n",
    "\n",
    "    # define the model using the input and output layers\n",
    "    model = Model(inputs=inputs, outputs=[wine_quality,wine_type])\n",
    "\n",
    "    return model\n",
    "                  "
   ]
  },
  {
   "cell_type": "code",
   "execution_count": 46,
   "metadata": {
    "deletable": false,
    "editable": false,
    "nbgrader": {
     "cell_type": "code",
     "checksum": "89cbf89d8ab5e2e59ecf7f63f517520a",
     "grade": true,
     "grade_id": "cell-40d050f855c817d1",
     "locked": true,
     "points": 1,
     "schema_version": 3,
     "solution": false,
     "task": false
    }
   },
   "outputs": [
    {
     "name": "stdout",
     "output_type": "stream",
     "text": [
      "\u001b[92m All public tests passed\n"
     ]
    }
   ],
   "source": [
    "utils.test_final_model(final_model)"
   ]
  },
  {
   "cell_type": "markdown",
   "metadata": {
    "colab_type": "text",
    "id": "5R0BMTsltZyu"
   },
   "source": [
    "## Compiling the Model\n",
    "\n",
    "Next, compile the model. When setting the loss parameter of `model.compile`, you're setting the loss for each of the two outputs (wine quality and wine type).\n",
    "\n",
    "To set more than one loss, use a dictionary of key-value pairs.\n",
    "- You can look at the docs for the losses [here](https://www.tensorflow.org/api_docs/python/tf/keras/losses#functions).\n",
    "    - **Note**: For the desired spelling, please look at the \"Functions\" section of the documentation and not the \"classes\" section on that same page.\n",
    "- wine_type: Since you will be performing binary classification on wine type, you should use the binary crossentropy loss function for it.  Please pass this in as a string.  \n",
    "  - **Hint**, this should be all lowercase.  In the documentation, you'll see this under the \"Functions\" section, not the \"Classes\" section.\n",
    "- wine_quality: since this is a regression output, use the mean squared error.  Please pass it in as a string, all lowercase.\n",
    "  - **Hint**: You may notice that there are two aliases for mean squared error.  Please use the shorter name.\n",
    "\n",
    "\n",
    "You will also set the metric for each of the two outputs.  Again, to set metrics for two or more outputs, use a dictionary with key value pairs.\n",
    "- The metrics documentation is linked [here](https://www.tensorflow.org/api_docs/python/tf/keras/metrics).\n",
    "- For the wine type, please set it to accuracy as a string, all lowercase.\n",
    "- For wine quality, please use the root mean squared error.  Instead of a string, you'll set it to an instance of the class [RootMeanSquaredError](https://www.tensorflow.org/api_docs/python/tf/keras/metrics/RootMeanSquaredError), which belongs to the tf.keras.metrics module.\n",
    "\n",
    "**Note**: If you see the error message \n",
    ">Exception: wine quality loss function is incorrect.\n",
    "\n",
    "- Please also check your other losses and metrics, as the error may be caused by the other three key-value pairs and not the wine quality loss."
   ]
  },
  {
   "cell_type": "code",
   "execution_count": 47,
   "metadata": {
    "colab": {},
    "colab_type": "code",
    "deletable": false,
    "id": "LK11duUbUjmh",
    "nbgrader": {
     "cell_type": "code",
     "checksum": "22f45067ca69eb2ccadb43874dbcc27b",
     "grade": false,
     "grade_id": "cell-81afdc4dcca51d5e",
     "locked": false,
     "schema_version": 3,
     "solution": true,
     "task": false
    }
   },
   "outputs": [],
   "source": [
    "# Please uncomment all lines in this cell and replace those marked with `# YOUR CODE HERE`.\n",
    "# You can select all lines in this code cell with Ctrl+A (Windows/Linux) or Cmd+A (Mac), then press Ctrl+/ (Windows/Linux) or Cmd+/ (Mac) to uncomment.\n",
    "\n",
    "\n",
    "\n",
    "inputs = tf.keras.layers.Input(shape=(11,))\n",
    "rms = tf.keras.optimizers.RMSprop(lr=0.0001)\n",
    "model = final_model(inputs)\n",
    "\n",
    "model.compile(optimizer=rms, \n",
    "              loss = {'wine_type' : 'binary_crossentropy',\n",
    "                      'wine_quality' : 'mse'\n",
    "                     },\n",
    "              metrics = {'wine_type' : 'accuracy',\n",
    "                         'wine_quality': tf.keras.metrics.RootMeanSquaredError()\n",
    "                       }\n",
    "             )\n"
   ]
  },
  {
   "cell_type": "code",
   "execution_count": 48,
   "metadata": {
    "deletable": false,
    "editable": false,
    "nbgrader": {
     "cell_type": "code",
     "checksum": "88e02238ea5e456ff65e835cc8158054",
     "grade": true,
     "grade_id": "cell-2eeeba02391c4632",
     "locked": true,
     "points": 1,
     "schema_version": 3,
     "solution": false,
     "task": false
    }
   },
   "outputs": [
    {
     "name": "stdout",
     "output_type": "stream",
     "text": [
      "\u001b[92m All public tests passed\n"
     ]
    }
   ],
   "source": [
    "utils.test_model_compile(model)"
   ]
  },
  {
   "cell_type": "markdown",
   "metadata": {
    "colab_type": "text",
    "id": "90MpAMpWuKm-"
   },
   "source": [
    "## Training the Model\n",
    "\n",
    "Fit the model to the training inputs and outputs. \n",
    "- Check the documentation for [model.fit](https://www.tensorflow.org/api_docs/python/tf/keras/Model#fit).\n",
    "- Remember to use the normalized training set as inputs. \n",
    "- For the validation data, please use the normalized validation set."
   ]
  },
  {
   "cell_type": "code",
   "execution_count": 49,
   "metadata": {
    "colab": {},
    "colab_type": "code",
    "deletable": false,
    "id": "_eiZkle4XwiY",
    "nbgrader": {
     "cell_type": "code",
     "checksum": "2ca7664be03bfd6fd3651ae44d17b793",
     "grade": false,
     "grade_id": "cell-0bb56262896f6680",
     "locked": false,
     "schema_version": 3,
     "solution": true,
     "task": false
    },
    "scrolled": true
   },
   "outputs": [
    {
     "name": "stdout",
     "output_type": "stream",
     "text": [
      "Train on 3155 samples, validate on 987 samples\n",
      "Epoch 1/180\n",
      "3155/3155 [==============================] - 1s 347us/sample - loss: 25.8808 - wine_quality_loss: 25.2025 - wine_type_loss: 0.6459 - wine_quality_root_mean_squared_error: 5.0234 - wine_type_accuracy: 0.6672 - val_loss: 18.2802 - val_wine_quality_loss: 17.6669 - val_wine_type_loss: 0.6092 - val_wine_quality_root_mean_squared_error: 4.2037 - val_wine_type_accuracy: 0.6981\n",
      "Epoch 2/180\n",
      "3155/3155 [==============================] - 0s 97us/sample - loss: 11.9111 - wine_quality_loss: 11.3172 - wine_type_loss: 0.5657 - wine_quality_root_mean_squared_error: 3.3683 - wine_type_accuracy: 0.7391 - val_loss: 7.1868 - val_wine_quality_loss: 6.6411 - val_wine_type_loss: 0.5493 - val_wine_quality_root_mean_squared_error: 2.5764 - val_wine_type_accuracy: 0.7345\n",
      "Epoch 3/180\n",
      "3155/3155 [==============================] - 0s 94us/sample - loss: 4.7368 - wine_quality_loss: 4.2458 - wine_type_loss: 0.5031 - wine_quality_root_mean_squared_error: 2.0577 - wine_type_accuracy: 0.7442 - val_loss: 3.3400 - val_wine_quality_loss: 2.8676 - val_wine_type_loss: 0.4786 - val_wine_quality_root_mean_squared_error: 1.6916 - val_wine_type_accuracy: 0.7345\n",
      "Epoch 4/180\n",
      "3155/3155 [==============================] - 0s 94us/sample - loss: 3.0641 - wine_quality_loss: 2.6440 - wine_type_loss: 0.4264 - wine_quality_root_mean_squared_error: 1.6239 - wine_type_accuracy: 0.7474 - val_loss: 2.6434 - val_wine_quality_loss: 2.2510 - val_wine_type_loss: 0.3956 - val_wine_quality_root_mean_squared_error: 1.4993 - val_wine_type_accuracy: 0.7538\n",
      "Epoch 5/180\n",
      "3155/3155 [==============================] - 0s 94us/sample - loss: 2.4909 - wine_quality_loss: 2.1402 - wine_type_loss: 0.3501 - wine_quality_root_mean_squared_error: 1.4632 - wine_type_accuracy: 0.8355 - val_loss: 2.2327 - val_wine_quality_loss: 1.9135 - val_wine_type_loss: 0.3201 - val_wine_quality_root_mean_squared_error: 1.3829 - val_wine_type_accuracy: 0.9058\n",
      "Epoch 6/180\n",
      "3155/3155 [==============================] - 0s 91us/sample - loss: 2.0986 - wine_quality_loss: 1.8164 - wine_type_loss: 0.2791 - wine_quality_root_mean_squared_error: 1.3488 - wine_type_accuracy: 0.9487 - val_loss: 1.9456 - val_wine_quality_loss: 1.6935 - val_wine_type_loss: 0.2519 - val_wine_quality_root_mean_squared_error: 1.3014 - val_wine_type_accuracy: 0.9645\n",
      "Epoch 7/180\n",
      "3155/3155 [==============================] - 0s 90us/sample - loss: 1.8440 - wine_quality_loss: 1.6222 - wine_type_loss: 0.2218 - wine_quality_root_mean_squared_error: 1.2736 - wine_type_accuracy: 0.9781 - val_loss: 1.7717 - val_wine_quality_loss: 1.5715 - val_wine_type_loss: 0.1994 - val_wine_quality_root_mean_squared_error: 1.2539 - val_wine_type_accuracy: 0.9889\n",
      "Epoch 8/180\n",
      "3155/3155 [==============================] - 0s 76us/sample - loss: 1.6560 - wine_quality_loss: 1.4793 - wine_type_loss: 0.1780 - wine_quality_root_mean_squared_error: 1.2157 - wine_type_accuracy: 0.9889 - val_loss: 1.5924 - val_wine_quality_loss: 1.4320 - val_wine_type_loss: 0.1592 - val_wine_quality_root_mean_squared_error: 1.1971 - val_wine_type_accuracy: 0.9939\n",
      "Epoch 9/180\n",
      "3155/3155 [==============================] - 0s 90us/sample - loss: 1.5020 - wine_quality_loss: 1.3570 - wine_type_loss: 0.1445 - wine_quality_root_mean_squared_error: 1.1651 - wine_type_accuracy: 0.9880 - val_loss: 1.4667 - val_wine_quality_loss: 1.3346 - val_wine_type_loss: 0.1307 - val_wine_quality_root_mean_squared_error: 1.1558 - val_wine_type_accuracy: 0.9949\n",
      "Epoch 10/180\n",
      "3155/3155 [==============================] - 0s 91us/sample - loss: 1.3708 - wine_quality_loss: 1.2521 - wine_type_loss: 0.1194 - wine_quality_root_mean_squared_error: 1.1187 - wine_type_accuracy: 0.9892 - val_loss: 1.3669 - val_wine_quality_loss: 1.2578 - val_wine_type_loss: 0.1078 - val_wine_quality_root_mean_squared_error: 1.1221 - val_wine_type_accuracy: 0.9959\n",
      "Epoch 11/180\n",
      "3155/3155 [==============================] - 0s 73us/sample - loss: 1.2717 - wine_quality_loss: 1.1708 - wine_type_loss: 0.1012 - wine_quality_root_mean_squared_error: 1.0819 - wine_type_accuracy: 0.9895 - val_loss: 1.2656 - val_wine_quality_loss: 1.1726 - val_wine_type_loss: 0.0916 - val_wine_quality_root_mean_squared_error: 1.0835 - val_wine_type_accuracy: 0.9939\n",
      "Epoch 12/180\n",
      "3155/3155 [==============================] - 0s 88us/sample - loss: 1.1803 - wine_quality_loss: 1.0929 - wine_type_loss: 0.0880 - wine_quality_root_mean_squared_error: 1.0453 - wine_type_accuracy: 0.9895 - val_loss: 1.1854 - val_wine_quality_loss: 1.1036 - val_wine_type_loss: 0.0804 - val_wine_quality_root_mean_squared_error: 1.0511 - val_wine_type_accuracy: 0.9949\n",
      "Epoch 13/180\n",
      "3155/3155 [==============================] - 0s 86us/sample - loss: 1.1012 - wine_quality_loss: 1.0243 - wine_type_loss: 0.0777 - wine_quality_root_mean_squared_error: 1.0117 - wine_type_accuracy: 0.9895 - val_loss: 1.1116 - val_wine_quality_loss: 1.0398 - val_wine_type_loss: 0.0705 - val_wine_quality_root_mean_squared_error: 1.0203 - val_wine_type_accuracy: 0.9939\n",
      "Epoch 14/180\n",
      "3155/3155 [==============================] - 0s 75us/sample - loss: 1.0258 - wine_quality_loss: 0.9593 - wine_type_loss: 0.0695 - wine_quality_root_mean_squared_error: 0.9779 - wine_type_accuracy: 0.9905 - val_loss: 1.0425 - val_wine_quality_loss: 0.9774 - val_wine_type_loss: 0.0638 - val_wine_quality_root_mean_squared_error: 0.9892 - val_wine_type_accuracy: 0.9939\n",
      "Epoch 15/180\n",
      "3155/3155 [==============================] - 0s 89us/sample - loss: 0.9630 - wine_quality_loss: 0.8991 - wine_type_loss: 0.0635 - wine_quality_root_mean_squared_error: 0.9484 - wine_type_accuracy: 0.9905 - val_loss: 0.9815 - val_wine_quality_loss: 0.9215 - val_wine_type_loss: 0.0587 - val_wine_quality_root_mean_squared_error: 0.9605 - val_wine_type_accuracy: 0.9939\n",
      "Epoch 16/180\n",
      "3155/3155 [==============================] - 0s 73us/sample - loss: 0.9063 - wine_quality_loss: 0.8470 - wine_type_loss: 0.0592 - wine_quality_root_mean_squared_error: 0.9205 - wine_type_accuracy: 0.9905 - val_loss: 0.9334 - val_wine_quality_loss: 0.8778 - val_wine_type_loss: 0.0544 - val_wine_quality_root_mean_squared_error: 0.9375 - val_wine_type_accuracy: 0.9939\n",
      "Epoch 17/180\n",
      "3155/3155 [==============================] - 0s 89us/sample - loss: 0.8541 - wine_quality_loss: 0.8006 - wine_type_loss: 0.0551 - wine_quality_root_mean_squared_error: 0.8938 - wine_type_accuracy: 0.9911 - val_loss: 0.8752 - val_wine_quality_loss: 0.8231 - val_wine_type_loss: 0.0509 - val_wine_quality_root_mean_squared_error: 0.9079 - val_wine_type_accuracy: 0.9939\n",
      "Epoch 18/180\n",
      "3155/3155 [==============================] - 0s 89us/sample - loss: 0.8038 - wine_quality_loss: 0.7521 - wine_type_loss: 0.0520 - wine_quality_root_mean_squared_error: 0.8670 - wine_type_accuracy: 0.9908 - val_loss: 0.8292 - val_wine_quality_loss: 0.7799 - val_wine_type_loss: 0.0481 - val_wine_quality_root_mean_squared_error: 0.8837 - val_wine_type_accuracy: 0.9939\n",
      "Epoch 19/180\n",
      "3155/3155 [==============================] - 0s 76us/sample - loss: 0.7623 - wine_quality_loss: 0.7119 - wine_type_loss: 0.0497 - wine_quality_root_mean_squared_error: 0.8442 - wine_type_accuracy: 0.9908 - val_loss: 0.7931 - val_wine_quality_loss: 0.7459 - val_wine_type_loss: 0.0460 - val_wine_quality_root_mean_squared_error: 0.8642 - val_wine_type_accuracy: 0.9939\n",
      "Epoch 20/180\n",
      "3155/3155 [==============================] - 0s 90us/sample - loss: 0.7215 - wine_quality_loss: 0.6745 - wine_type_loss: 0.0475 - wine_quality_root_mean_squared_error: 0.8210 - wine_type_accuracy: 0.9921 - val_loss: 0.7499 - val_wine_quality_loss: 0.7049 - val_wine_type_loss: 0.0440 - val_wine_quality_root_mean_squared_error: 0.8402 - val_wine_type_accuracy: 0.9949\n",
      "Epoch 21/180\n",
      "3155/3155 [==============================] - 0s 89us/sample - loss: 0.6846 - wine_quality_loss: 0.6392 - wine_type_loss: 0.0456 - wine_quality_root_mean_squared_error: 0.7994 - wine_type_accuracy: 0.9921 - val_loss: 0.7199 - val_wine_quality_loss: 0.6762 - val_wine_type_loss: 0.0426 - val_wine_quality_root_mean_squared_error: 0.8229 - val_wine_type_accuracy: 0.9949\n",
      "Epoch 22/180\n",
      "3155/3155 [==============================] - 0s 74us/sample - loss: 0.6538 - wine_quality_loss: 0.6141 - wine_type_loss: 0.0441 - wine_quality_root_mean_squared_error: 0.7809 - wine_type_accuracy: 0.9918 - val_loss: 0.6831 - val_wine_quality_loss: 0.6411 - val_wine_type_loss: 0.0409 - val_wine_quality_root_mean_squared_error: 0.8013 - val_wine_type_accuracy: 0.9949\n",
      "Epoch 23/180\n",
      "3155/3155 [==============================] - 0s 90us/sample - loss: 0.6228 - wine_quality_loss: 0.5803 - wine_type_loss: 0.0441 - wine_quality_root_mean_squared_error: 0.7616 - wine_type_accuracy: 0.9911 - val_loss: 0.6530 - val_wine_quality_loss: 0.6123 - val_wine_type_loss: 0.0397 - val_wine_quality_root_mean_squared_error: 0.7831 - val_wine_type_accuracy: 0.9949\n",
      "Epoch 24/180\n",
      "3155/3155 [==============================] - 0s 90us/sample - loss: 0.5953 - wine_quality_loss: 0.5542 - wine_type_loss: 0.0415 - wine_quality_root_mean_squared_error: 0.7441 - wine_type_accuracy: 0.9911 - val_loss: 0.6295 - val_wine_quality_loss: 0.5899 - val_wine_type_loss: 0.0386 - val_wine_quality_root_mean_squared_error: 0.7686 - val_wine_type_accuracy: 0.9949\n",
      "Epoch 25/180\n",
      "3155/3155 [==============================] - 0s 91us/sample - loss: 0.5703 - wine_quality_loss: 0.5296 - wine_type_loss: 0.0405 - wine_quality_root_mean_squared_error: 0.7278 - wine_type_accuracy: 0.9914 - val_loss: 0.6018 - val_wine_quality_loss: 0.5633 - val_wine_type_loss: 0.0376 - val_wine_quality_root_mean_squared_error: 0.7511 - val_wine_type_accuracy: 0.9949\n",
      "Epoch 26/180\n",
      "3155/3155 [==============================] - 0s 91us/sample - loss: 0.5474 - wine_quality_loss: 0.5071 - wine_type_loss: 0.0395 - wine_quality_root_mean_squared_error: 0.7126 - wine_type_accuracy: 0.9911 - val_loss: 0.5853 - val_wine_quality_loss: 0.5475 - val_wine_type_loss: 0.0368 - val_wine_quality_root_mean_squared_error: 0.7405 - val_wine_type_accuracy: 0.9949\n",
      "Epoch 27/180\n",
      "3155/3155 [==============================] - 0s 77us/sample - loss: 0.5271 - wine_quality_loss: 0.4880 - wine_type_loss: 0.0387 - wine_quality_root_mean_squared_error: 0.6987 - wine_type_accuracy: 0.9914 - val_loss: 0.5605 - val_wine_quality_loss: 0.5236 - val_wine_type_loss: 0.0361 - val_wine_quality_root_mean_squared_error: 0.7241 - val_wine_type_accuracy: 0.9949\n",
      "Epoch 28/180\n",
      "3155/3155 [==============================] - 0s 90us/sample - loss: 0.5065 - wine_quality_loss: 0.4679 - wine_type_loss: 0.0380 - wine_quality_root_mean_squared_error: 0.6844 - wine_type_accuracy: 0.9921 - val_loss: 0.5415 - val_wine_quality_loss: 0.5054 - val_wine_type_loss: 0.0354 - val_wine_quality_root_mean_squared_error: 0.7113 - val_wine_type_accuracy: 0.9949\n",
      "Epoch 29/180\n",
      "3155/3155 [==============================] - 0s 87us/sample - loss: 0.4904 - wine_quality_loss: 0.4524 - wine_type_loss: 0.0374 - wine_quality_root_mean_squared_error: 0.6730 - wine_type_accuracy: 0.9921 - val_loss: 0.5214 - val_wine_quality_loss: 0.4859 - val_wine_type_loss: 0.0348 - val_wine_quality_root_mean_squared_error: 0.6975 - val_wine_type_accuracy: 0.9949\n",
      "Epoch 30/180\n",
      "3155/3155 [==============================] - 0s 76us/sample - loss: 0.4735 - wine_quality_loss: 0.4362 - wine_type_loss: 0.0367 - wine_quality_root_mean_squared_error: 0.6608 - wine_type_accuracy: 0.9921 - val_loss: 0.5103 - val_wine_quality_loss: 0.4754 - val_wine_type_loss: 0.0342 - val_wine_quality_root_mean_squared_error: 0.6899 - val_wine_type_accuracy: 0.9949\n",
      "Epoch 31/180\n",
      "3155/3155 [==============================] - 0s 94us/sample - loss: 0.4608 - wine_quality_loss: 0.4253 - wine_type_loss: 0.0361 - wine_quality_root_mean_squared_error: 0.6516 - wine_type_accuracy: 0.9924 - val_loss: 0.4929 - val_wine_quality_loss: 0.4586 - val_wine_type_loss: 0.0337 - val_wine_quality_root_mean_squared_error: 0.6776 - val_wine_type_accuracy: 0.9949\n",
      "Epoch 32/180\n",
      "3155/3155 [==============================] - 0s 88us/sample - loss: 0.4467 - wine_quality_loss: 0.4113 - wine_type_loss: 0.0357 - wine_quality_root_mean_squared_error: 0.6410 - wine_type_accuracy: 0.9924 - val_loss: 0.4822 - val_wine_quality_loss: 0.4484 - val_wine_type_loss: 0.0332 - val_wine_quality_root_mean_squared_error: 0.6700 - val_wine_type_accuracy: 0.9949\n",
      "Epoch 33/180\n",
      "3155/3155 [==============================] - 0s 73us/sample - loss: 0.4360 - wine_quality_loss: 0.4018 - wine_type_loss: 0.0352 - wine_quality_root_mean_squared_error: 0.6330 - wine_type_accuracy: 0.9930 - val_loss: 0.4727 - val_wine_quality_loss: 0.4393 - val_wine_type_loss: 0.0329 - val_wine_quality_root_mean_squared_error: 0.6631 - val_wine_type_accuracy: 0.9949\n",
      "Epoch 34/180\n",
      "3155/3155 [==============================] - 0s 89us/sample - loss: 0.4246 - wine_quality_loss: 0.3909 - wine_type_loss: 0.0347 - wine_quality_root_mean_squared_error: 0.6243 - wine_type_accuracy: 0.9930 - val_loss: 0.4611 - val_wine_quality_loss: 0.4282 - val_wine_type_loss: 0.0325 - val_wine_quality_root_mean_squared_error: 0.6546 - val_wine_type_accuracy: 0.9949\n",
      "Epoch 35/180\n",
      "3155/3155 [==============================] - 0s 88us/sample - loss: 0.4150 - wine_quality_loss: 0.3807 - wine_type_loss: 0.0345 - wine_quality_root_mean_squared_error: 0.6169 - wine_type_accuracy: 0.9930 - val_loss: 0.4573 - val_wine_quality_loss: 0.4245 - val_wine_type_loss: 0.0323 - val_wine_quality_root_mean_squared_error: 0.6519 - val_wine_type_accuracy: 0.9949\n",
      "Epoch 36/180\n",
      "3155/3155 [==============================] - 0s 73us/sample - loss: 0.4072 - wine_quality_loss: 0.3731 - wine_type_loss: 0.0339 - wine_quality_root_mean_squared_error: 0.6109 - wine_type_accuracy: 0.9933 - val_loss: 0.4476 - val_wine_quality_loss: 0.4153 - val_wine_type_loss: 0.0319 - val_wine_quality_root_mean_squared_error: 0.6447 - val_wine_type_accuracy: 0.9949\n",
      "Epoch 37/180\n",
      "3155/3155 [==============================] - 0s 88us/sample - loss: 0.3999 - wine_quality_loss: 0.3662 - wine_type_loss: 0.0335 - wine_quality_root_mean_squared_error: 0.6052 - wine_type_accuracy: 0.9930 - val_loss: 0.4436 - val_wine_quality_loss: 0.4114 - val_wine_type_loss: 0.0316 - val_wine_quality_root_mean_squared_error: 0.6418 - val_wine_type_accuracy: 0.9949\n",
      "Epoch 38/180\n",
      "3155/3155 [==============================] - 0s 73us/sample - loss: 0.3935 - wine_quality_loss: 0.3599 - wine_type_loss: 0.0331 - wine_quality_root_mean_squared_error: 0.6002 - wine_type_accuracy: 0.9933 - val_loss: 0.4324 - val_wine_quality_loss: 0.4007 - val_wine_type_loss: 0.0313 - val_wine_quality_root_mean_squared_error: 0.6333 - val_wine_type_accuracy: 0.9949\n",
      "Epoch 39/180\n",
      "3155/3155 [==============================] - 0s 90us/sample - loss: 0.3875 - wine_quality_loss: 0.3539 - wine_type_loss: 0.0328 - wine_quality_root_mean_squared_error: 0.5955 - wine_type_accuracy: 0.9937 - val_loss: 0.4263 - val_wine_quality_loss: 0.3949 - val_wine_type_loss: 0.0310 - val_wine_quality_root_mean_squared_error: 0.6287 - val_wine_type_accuracy: 0.9949\n",
      "Epoch 40/180\n",
      "3155/3155 [==============================] - 0s 87us/sample - loss: 0.3807 - wine_quality_loss: 0.3479 - wine_type_loss: 0.0324 - wine_quality_root_mean_squared_error: 0.5900 - wine_type_accuracy: 0.9933 - val_loss: 0.4230 - val_wine_quality_loss: 0.3918 - val_wine_type_loss: 0.0308 - val_wine_quality_root_mean_squared_error: 0.6261 - val_wine_type_accuracy: 0.9949\n",
      "Epoch 41/180\n",
      "3155/3155 [==============================] - 0s 75us/sample - loss: 0.3769 - wine_quality_loss: 0.3445 - wine_type_loss: 0.0321 - wine_quality_root_mean_squared_error: 0.5871 - wine_type_accuracy: 0.9933 - val_loss: 0.4163 - val_wine_quality_loss: 0.3854 - val_wine_type_loss: 0.0305 - val_wine_quality_root_mean_squared_error: 0.6210 - val_wine_type_accuracy: 0.9949\n",
      "Epoch 42/180\n",
      "3155/3155 [==============================] - 0s 89us/sample - loss: 0.3724 - wine_quality_loss: 0.3405 - wine_type_loss: 0.0317 - wine_quality_root_mean_squared_error: 0.5836 - wine_type_accuracy: 0.9937 - val_loss: 0.4134 - val_wine_quality_loss: 0.3827 - val_wine_type_loss: 0.0303 - val_wine_quality_root_mean_squared_error: 0.6188 - val_wine_type_accuracy: 0.9949\n",
      "Epoch 43/180\n",
      "3155/3155 [==============================] - 0s 88us/sample - loss: 0.3683 - wine_quality_loss: 0.3365 - wine_type_loss: 0.0314 - wine_quality_root_mean_squared_error: 0.5804 - wine_type_accuracy: 0.9937 - val_loss: 0.4086 - val_wine_quality_loss: 0.3780 - val_wine_type_loss: 0.0302 - val_wine_quality_root_mean_squared_error: 0.6150 - val_wine_type_accuracy: 0.9949\n",
      "Epoch 44/180\n",
      "3155/3155 [==============================] - 0s 75us/sample - loss: 0.3653 - wine_quality_loss: 0.3337 - wine_type_loss: 0.0311 - wine_quality_root_mean_squared_error: 0.5780 - wine_type_accuracy: 0.9940 - val_loss: 0.4085 - val_wine_quality_loss: 0.3782 - val_wine_type_loss: 0.0300 - val_wine_quality_root_mean_squared_error: 0.6152 - val_wine_type_accuracy: 0.9949\n",
      "Epoch 45/180\n",
      "3155/3155 [==============================] - 0s 87us/sample - loss: 0.3613 - wine_quality_loss: 0.3307 - wine_type_loss: 0.0308 - wine_quality_root_mean_squared_error: 0.5748 - wine_type_accuracy: 0.9940 - val_loss: 0.4062 - val_wine_quality_loss: 0.3760 - val_wine_type_loss: 0.0297 - val_wine_quality_root_mean_squared_error: 0.6135 - val_wine_type_accuracy: 0.9949\n",
      "Epoch 46/180\n",
      "3155/3155 [==============================] - 0s 73us/sample - loss: 0.3595 - wine_quality_loss: 0.3283 - wine_type_loss: 0.0305 - wine_quality_root_mean_squared_error: 0.5735 - wine_type_accuracy: 0.9940 - val_loss: 0.4008 - val_wine_quality_loss: 0.3709 - val_wine_type_loss: 0.0296 - val_wine_quality_root_mean_squared_error: 0.6092 - val_wine_type_accuracy: 0.9949\n",
      "Epoch 47/180\n",
      "3155/3155 [==============================] - 0s 89us/sample - loss: 0.3543 - wine_quality_loss: 0.3238 - wine_type_loss: 0.0317 - wine_quality_root_mean_squared_error: 0.5692 - wine_type_accuracy: 0.9940 - val_loss: 0.4020 - val_wine_quality_loss: 0.3722 - val_wine_type_loss: 0.0294 - val_wine_quality_root_mean_squared_error: 0.6103 - val_wine_type_accuracy: 0.9949\n",
      "Epoch 48/180\n",
      "3155/3155 [==============================] - 0s 89us/sample - loss: 0.3531 - wine_quality_loss: 0.3230 - wine_type_loss: 0.0301 - wine_quality_root_mean_squared_error: 0.5683 - wine_type_accuracy: 0.9940 - val_loss: 0.4003 - val_wine_quality_loss: 0.3706 - val_wine_type_loss: 0.0293 - val_wine_quality_root_mean_squared_error: 0.6090 - val_wine_type_accuracy: 0.9959\n",
      "Epoch 49/180\n",
      "3155/3155 [==============================] - 0s 74us/sample - loss: 0.3500 - wine_quality_loss: 0.3196 - wine_type_loss: 0.0299 - wine_quality_root_mean_squared_error: 0.5658 - wine_type_accuracy: 0.9940 - val_loss: 0.3980 - val_wine_quality_loss: 0.3688 - val_wine_type_loss: 0.0291 - val_wine_quality_root_mean_squared_error: 0.6073 - val_wine_type_accuracy: 0.9959\n",
      "Epoch 50/180\n",
      "3155/3155 [==============================] - 0s 90us/sample - loss: 0.3492 - wine_quality_loss: 0.3195 - wine_type_loss: 0.0294 - wine_quality_root_mean_squared_error: 0.5654 - wine_type_accuracy: 0.9940 - val_loss: 0.3907 - val_wine_quality_loss: 0.3616 - val_wine_type_loss: 0.0289 - val_wine_quality_root_mean_squared_error: 0.6014 - val_wine_type_accuracy: 0.9959\n",
      "Epoch 51/180\n",
      "3155/3155 [==============================] - 0s 88us/sample - loss: 0.3466 - wine_quality_loss: 0.3173 - wine_type_loss: 0.0293 - wine_quality_root_mean_squared_error: 0.5632 - wine_type_accuracy: 0.9940 - val_loss: 0.3889 - val_wine_quality_loss: 0.3598 - val_wine_type_loss: 0.0288 - val_wine_quality_root_mean_squared_error: 0.6000 - val_wine_type_accuracy: 0.9959\n",
      "Epoch 52/180\n",
      "3155/3155 [==============================] - 0s 75us/sample - loss: 0.3435 - wine_quality_loss: 0.3145 - wine_type_loss: 0.0290 - wine_quality_root_mean_squared_error: 0.5607 - wine_type_accuracy: 0.9940 - val_loss: 0.3928 - val_wine_quality_loss: 0.3638 - val_wine_type_loss: 0.0286 - val_wine_quality_root_mean_squared_error: 0.6034 - val_wine_type_accuracy: 0.9959\n",
      "Epoch 53/180\n",
      "3155/3155 [==============================] - 0s 90us/sample - loss: 0.3420 - wine_quality_loss: 0.3129 - wine_type_loss: 0.0288 - wine_quality_root_mean_squared_error: 0.5596 - wine_type_accuracy: 0.9940 - val_loss: 0.3937 - val_wine_quality_loss: 0.3651 - val_wine_type_loss: 0.0284 - val_wine_quality_root_mean_squared_error: 0.6043 - val_wine_type_accuracy: 0.9959\n",
      "Epoch 54/180\n",
      "3155/3155 [==============================] - 0s 88us/sample - loss: 0.3414 - wine_quality_loss: 0.3130 - wine_type_loss: 0.0286 - wine_quality_root_mean_squared_error: 0.5592 - wine_type_accuracy: 0.9940 - val_loss: 0.3856 - val_wine_quality_loss: 0.3570 - val_wine_type_loss: 0.0283 - val_wine_quality_root_mean_squared_error: 0.5976 - val_wine_type_accuracy: 0.9959\n",
      "Epoch 55/180\n",
      "3155/3155 [==============================] - 0s 73us/sample - loss: 0.3385 - wine_quality_loss: 0.3099 - wine_type_loss: 0.0286 - wine_quality_root_mean_squared_error: 0.5567 - wine_type_accuracy: 0.9940 - val_loss: 0.3847 - val_wine_quality_loss: 0.3562 - val_wine_type_loss: 0.0282 - val_wine_quality_root_mean_squared_error: 0.5970 - val_wine_type_accuracy: 0.9959\n",
      "Epoch 56/180\n",
      "3155/3155 [==============================] - 0s 88us/sample - loss: 0.3377 - wine_quality_loss: 0.3094 - wine_type_loss: 0.0282 - wine_quality_root_mean_squared_error: 0.5562 - wine_type_accuracy: 0.9943 - val_loss: 0.3833 - val_wine_quality_loss: 0.3549 - val_wine_type_loss: 0.0280 - val_wine_quality_root_mean_squared_error: 0.5959 - val_wine_type_accuracy: 0.9959\n",
      "Epoch 57/180\n",
      "3155/3155 [==============================] - 0s 72us/sample - loss: 0.3361 - wine_quality_loss: 0.3084 - wine_type_loss: 0.0280 - wine_quality_root_mean_squared_error: 0.5550 - wine_type_accuracy: 0.9943 - val_loss: 0.3851 - val_wine_quality_loss: 0.3570 - val_wine_type_loss: 0.0279 - val_wine_quality_root_mean_squared_error: 0.5976 - val_wine_type_accuracy: 0.9959\n",
      "Epoch 58/180\n",
      "3155/3155 [==============================] - 0s 89us/sample - loss: 0.3331 - wine_quality_loss: 0.3057 - wine_type_loss: 0.0279 - wine_quality_root_mean_squared_error: 0.5524 - wine_type_accuracy: 0.9943 - val_loss: 0.3817 - val_wine_quality_loss: 0.3536 - val_wine_type_loss: 0.0277 - val_wine_quality_root_mean_squared_error: 0.5949 - val_wine_type_accuracy: 0.9959\n",
      "Epoch 59/180\n",
      "3155/3155 [==============================] - 0s 88us/sample - loss: 0.3336 - wine_quality_loss: 0.3057 - wine_type_loss: 0.0278 - wine_quality_root_mean_squared_error: 0.5530 - wine_type_accuracy: 0.9943 - val_loss: 0.3854 - val_wine_quality_loss: 0.3576 - val_wine_type_loss: 0.0277 - val_wine_quality_root_mean_squared_error: 0.5980 - val_wine_type_accuracy: 0.9959\n",
      "Epoch 60/180\n",
      "3155/3155 [==============================] - 0s 74us/sample - loss: 0.3320 - wine_quality_loss: 0.3045 - wine_type_loss: 0.0276 - wine_quality_root_mean_squared_error: 0.5517 - wine_type_accuracy: 0.9943 - val_loss: 0.3913 - val_wine_quality_loss: 0.3635 - val_wine_type_loss: 0.0276 - val_wine_quality_root_mean_squared_error: 0.6030 - val_wine_type_accuracy: 0.9959\n",
      "Epoch 61/180\n",
      "3155/3155 [==============================] - 0s 88us/sample - loss: 0.3315 - wine_quality_loss: 0.3039 - wine_type_loss: 0.0274 - wine_quality_root_mean_squared_error: 0.5513 - wine_type_accuracy: 0.9943 - val_loss: 0.3885 - val_wine_quality_loss: 0.3609 - val_wine_type_loss: 0.0274 - val_wine_quality_root_mean_squared_error: 0.6008 - val_wine_type_accuracy: 0.9959\n",
      "Epoch 62/180\n",
      "3155/3155 [==============================] - 0s 72us/sample - loss: 0.3291 - wine_quality_loss: 0.3016 - wine_type_loss: 0.0272 - wine_quality_root_mean_squared_error: 0.5494 - wine_type_accuracy: 0.9946 - val_loss: 0.3898 - val_wine_quality_loss: 0.3623 - val_wine_type_loss: 0.0273 - val_wine_quality_root_mean_squared_error: 0.6020 - val_wine_type_accuracy: 0.9959\n",
      "Epoch 63/180\n",
      "3155/3155 [==============================] - 0s 89us/sample - loss: 0.3293 - wine_quality_loss: 0.3024 - wine_type_loss: 0.0270 - wine_quality_root_mean_squared_error: 0.5498 - wine_type_accuracy: 0.9943 - val_loss: 0.3780 - val_wine_quality_loss: 0.3507 - val_wine_type_loss: 0.0271 - val_wine_quality_root_mean_squared_error: 0.5923 - val_wine_type_accuracy: 0.9959\n",
      "Epoch 64/180\n",
      "3155/3155 [==============================] - 0s 71us/sample - loss: 0.3267 - wine_quality_loss: 0.3001 - wine_type_loss: 0.0269 - wine_quality_root_mean_squared_error: 0.5475 - wine_type_accuracy: 0.9946 - val_loss: 0.3776 - val_wine_quality_loss: 0.3504 - val_wine_type_loss: 0.0270 - val_wine_quality_root_mean_squared_error: 0.5920 - val_wine_type_accuracy: 0.9959\n",
      "Epoch 65/180\n",
      "3155/3155 [==============================] - 0s 86us/sample - loss: 0.3263 - wine_quality_loss: 0.2996 - wine_type_loss: 0.0267 - wine_quality_root_mean_squared_error: 0.5473 - wine_type_accuracy: 0.9946 - val_loss: 0.3847 - val_wine_quality_loss: 0.3576 - val_wine_type_loss: 0.0269 - val_wine_quality_root_mean_squared_error: 0.5981 - val_wine_type_accuracy: 0.9959\n",
      "Epoch 66/180\n",
      "3155/3155 [==============================] - 0s 71us/sample - loss: 0.3250 - wine_quality_loss: 0.2986 - wine_type_loss: 0.0269 - wine_quality_root_mean_squared_error: 0.5462 - wine_type_accuracy: 0.9943 - val_loss: 0.3759 - val_wine_quality_loss: 0.3489 - val_wine_type_loss: 0.0268 - val_wine_quality_root_mean_squared_error: 0.5908 - val_wine_type_accuracy: 0.9959\n",
      "Epoch 67/180\n",
      "3155/3155 [==============================] - 0s 87us/sample - loss: 0.3252 - wine_quality_loss: 0.2985 - wine_type_loss: 0.0264 - wine_quality_root_mean_squared_error: 0.5465 - wine_type_accuracy: 0.9943 - val_loss: 0.3763 - val_wine_quality_loss: 0.3493 - val_wine_type_loss: 0.0267 - val_wine_quality_root_mean_squared_error: 0.5912 - val_wine_type_accuracy: 0.9959\n",
      "Epoch 68/180\n",
      "3155/3155 [==============================] - 0s 71us/sample - loss: 0.3229 - wine_quality_loss: 0.2962 - wine_type_loss: 0.0263 - wine_quality_root_mean_squared_error: 0.5445 - wine_type_accuracy: 0.9946 - val_loss: 0.3781 - val_wine_quality_loss: 0.3514 - val_wine_type_loss: 0.0266 - val_wine_quality_root_mean_squared_error: 0.5928 - val_wine_type_accuracy: 0.9959\n",
      "Epoch 69/180\n",
      "3155/3155 [==============================] - 0s 88us/sample - loss: 0.3223 - wine_quality_loss: 0.2956 - wine_type_loss: 0.0262 - wine_quality_root_mean_squared_error: 0.5441 - wine_type_accuracy: 0.9946 - val_loss: 0.3749 - val_wine_quality_loss: 0.3483 - val_wine_type_loss: 0.0264 - val_wine_quality_root_mean_squared_error: 0.5903 - val_wine_type_accuracy: 0.9959\n",
      "Epoch 70/180\n",
      "3155/3155 [==============================] - 0s 87us/sample - loss: 0.3217 - wine_quality_loss: 0.2957 - wine_type_loss: 0.0260 - wine_quality_root_mean_squared_error: 0.5437 - wine_type_accuracy: 0.9943 - val_loss: 0.3808 - val_wine_quality_loss: 0.3543 - val_wine_type_loss: 0.0264 - val_wine_quality_root_mean_squared_error: 0.5953 - val_wine_type_accuracy: 0.9959\n",
      "Epoch 71/180\n",
      "3155/3155 [==============================] - 0s 74us/sample - loss: 0.3206 - wine_quality_loss: 0.2947 - wine_type_loss: 0.0259 - wine_quality_root_mean_squared_error: 0.5428 - wine_type_accuracy: 0.9952 - val_loss: 0.3756 - val_wine_quality_loss: 0.3492 - val_wine_type_loss: 0.0261 - val_wine_quality_root_mean_squared_error: 0.5911 - val_wine_type_accuracy: 0.9959\n",
      "Epoch 72/180\n",
      "3155/3155 [==============================] - 0s 88us/sample - loss: 0.3208 - wine_quality_loss: 0.2948 - wine_type_loss: 0.0258 - wine_quality_root_mean_squared_error: 0.5431 - wine_type_accuracy: 0.9952 - val_loss: 0.3751 - val_wine_quality_loss: 0.3488 - val_wine_type_loss: 0.0261 - val_wine_quality_root_mean_squared_error: 0.5907 - val_wine_type_accuracy: 0.9970\n",
      "Epoch 73/180\n",
      "3155/3155 [==============================] - 0s 73us/sample - loss: 0.3188 - wine_quality_loss: 0.2929 - wine_type_loss: 0.0258 - wine_quality_root_mean_squared_error: 0.5414 - wine_type_accuracy: 0.9949 - val_loss: 0.3716 - val_wine_quality_loss: 0.3454 - val_wine_type_loss: 0.0259 - val_wine_quality_root_mean_squared_error: 0.5878 - val_wine_type_accuracy: 0.9959\n",
      "Epoch 74/180\n",
      "3155/3155 [==============================] - 0s 87us/sample - loss: 0.3177 - wine_quality_loss: 0.2918 - wine_type_loss: 0.0255 - wine_quality_root_mean_squared_error: 0.5404 - wine_type_accuracy: 0.9949 - val_loss: 0.3746 - val_wine_quality_loss: 0.3486 - val_wine_type_loss: 0.0258 - val_wine_quality_root_mean_squared_error: 0.5906 - val_wine_type_accuracy: 0.9970\n",
      "Epoch 75/180\n",
      "3155/3155 [==============================] - 0s 72us/sample - loss: 0.3172 - wine_quality_loss: 0.2917 - wine_type_loss: 0.0254 - wine_quality_root_mean_squared_error: 0.5401 - wine_type_accuracy: 0.9952 - val_loss: 0.3837 - val_wine_quality_loss: 0.3578 - val_wine_type_loss: 0.0257 - val_wine_quality_root_mean_squared_error: 0.5982 - val_wine_type_accuracy: 0.9970\n",
      "Epoch 76/180\n",
      "3155/3155 [==============================] - 0s 89us/sample - loss: 0.3166 - wine_quality_loss: 0.2911 - wine_type_loss: 0.0252 - wine_quality_root_mean_squared_error: 0.5397 - wine_type_accuracy: 0.9956 - val_loss: 0.3746 - val_wine_quality_loss: 0.3487 - val_wine_type_loss: 0.0257 - val_wine_quality_root_mean_squared_error: 0.5906 - val_wine_type_accuracy: 0.9970\n",
      "Epoch 77/180\n",
      "3155/3155 [==============================] - 0s 88us/sample - loss: 0.3154 - wine_quality_loss: 0.2899 - wine_type_loss: 0.0251 - wine_quality_root_mean_squared_error: 0.5387 - wine_type_accuracy: 0.9952 - val_loss: 0.3737 - val_wine_quality_loss: 0.3479 - val_wine_type_loss: 0.0255 - val_wine_quality_root_mean_squared_error: 0.5900 - val_wine_type_accuracy: 0.9970\n",
      "Epoch 78/180\n",
      "3155/3155 [==============================] - 0s 75us/sample - loss: 0.3152 - wine_quality_loss: 0.2899 - wine_type_loss: 0.0250 - wine_quality_root_mean_squared_error: 0.5386 - wine_type_accuracy: 0.9956 - val_loss: 0.3755 - val_wine_quality_loss: 0.3499 - val_wine_type_loss: 0.0255 - val_wine_quality_root_mean_squared_error: 0.5916 - val_wine_type_accuracy: 0.9970\n",
      "Epoch 79/180\n",
      "3155/3155 [==============================] - 0s 95us/sample - loss: 0.3144 - wine_quality_loss: 0.2892 - wine_type_loss: 0.0249 - wine_quality_root_mean_squared_error: 0.5380 - wine_type_accuracy: 0.9956 - val_loss: 0.3714 - val_wine_quality_loss: 0.3458 - val_wine_type_loss: 0.0254 - val_wine_quality_root_mean_squared_error: 0.5882 - val_wine_type_accuracy: 0.9970\n",
      "Epoch 80/180\n",
      "3155/3155 [==============================] - 0s 88us/sample - loss: 0.3133 - wine_quality_loss: 0.2886 - wine_type_loss: 0.0248 - wine_quality_root_mean_squared_error: 0.5370 - wine_type_accuracy: 0.9956 - val_loss: 0.3724 - val_wine_quality_loss: 0.3469 - val_wine_type_loss: 0.0252 - val_wine_quality_root_mean_squared_error: 0.5891 - val_wine_type_accuracy: 0.9970\n",
      "Epoch 81/180\n",
      "3155/3155 [==============================] - 0s 86us/sample - loss: 0.3119 - wine_quality_loss: 0.2874 - wine_type_loss: 0.0247 - wine_quality_root_mean_squared_error: 0.5359 - wine_type_accuracy: 0.9956 - val_loss: 0.3750 - val_wine_quality_loss: 0.3497 - val_wine_type_loss: 0.0252 - val_wine_quality_root_mean_squared_error: 0.5914 - val_wine_type_accuracy: 0.9970\n",
      "Epoch 82/180\n",
      "3155/3155 [==============================] - 0s 78us/sample - loss: 0.3113 - wine_quality_loss: 0.2867 - wine_type_loss: 0.0248 - wine_quality_root_mean_squared_error: 0.5355 - wine_type_accuracy: 0.9956 - val_loss: 0.3728 - val_wine_quality_loss: 0.3476 - val_wine_type_loss: 0.0250 - val_wine_quality_root_mean_squared_error: 0.5896 - val_wine_type_accuracy: 0.9970\n",
      "Epoch 83/180\n",
      "3155/3155 [==============================] - 0s 87us/sample - loss: 0.3116 - wine_quality_loss: 0.2868 - wine_type_loss: 0.0245 - wine_quality_root_mean_squared_error: 0.5357 - wine_type_accuracy: 0.9956 - val_loss: 0.3694 - val_wine_quality_loss: 0.3442 - val_wine_type_loss: 0.0250 - val_wine_quality_root_mean_squared_error: 0.5868 - val_wine_type_accuracy: 0.9970\n",
      "Epoch 84/180\n",
      "3155/3155 [==============================] - 0s 88us/sample - loss: 0.3106 - wine_quality_loss: 0.2859 - wine_type_loss: 0.0244 - wine_quality_root_mean_squared_error: 0.5350 - wine_type_accuracy: 0.9956 - val_loss: 0.3753 - val_wine_quality_loss: 0.3502 - val_wine_type_loss: 0.0249 - val_wine_quality_root_mean_squared_error: 0.5919 - val_wine_type_accuracy: 0.9970\n",
      "Epoch 85/180\n",
      "3155/3155 [==============================] - 0s 77us/sample - loss: 0.3104 - wine_quality_loss: 0.2862 - wine_type_loss: 0.0244 - wine_quality_root_mean_squared_error: 0.5349 - wine_type_accuracy: 0.9956 - val_loss: 0.3753 - val_wine_quality_loss: 0.3503 - val_wine_type_loss: 0.0248 - val_wine_quality_root_mean_squared_error: 0.5920 - val_wine_type_accuracy: 0.9970\n",
      "Epoch 86/180\n",
      "3155/3155 [==============================] - 0s 88us/sample - loss: 0.3075 - wine_quality_loss: 0.2831 - wine_type_loss: 0.0241 - wine_quality_root_mean_squared_error: 0.5323 - wine_type_accuracy: 0.9956 - val_loss: 0.3730 - val_wine_quality_loss: 0.3481 - val_wine_type_loss: 0.0247 - val_wine_quality_root_mean_squared_error: 0.5901 - val_wine_type_accuracy: 0.9970\n",
      "Epoch 87/180\n",
      "3155/3155 [==============================] - 0s 72us/sample - loss: 0.3088 - wine_quality_loss: 0.2854 - wine_type_loss: 0.0240 - wine_quality_root_mean_squared_error: 0.5337 - wine_type_accuracy: 0.9956 - val_loss: 0.3685 - val_wine_quality_loss: 0.3437 - val_wine_type_loss: 0.0246 - val_wine_quality_root_mean_squared_error: 0.5863 - val_wine_type_accuracy: 0.9970\n",
      "Epoch 88/180\n",
      "3155/3155 [==============================] - 0s 87us/sample - loss: 0.3074 - wine_quality_loss: 0.2830 - wine_type_loss: 0.0239 - wine_quality_root_mean_squared_error: 0.5325 - wine_type_accuracy: 0.9956 - val_loss: 0.3670 - val_wine_quality_loss: 0.3423 - val_wine_type_loss: 0.0245 - val_wine_quality_root_mean_squared_error: 0.5852 - val_wine_type_accuracy: 0.9970\n",
      "Epoch 89/180\n",
      "3155/3155 [==============================] - 0s 72us/sample - loss: 0.3063 - wine_quality_loss: 0.2823 - wine_type_loss: 0.0241 - wine_quality_root_mean_squared_error: 0.5315 - wine_type_accuracy: 0.9959 - val_loss: 0.3696 - val_wine_quality_loss: 0.3450 - val_wine_type_loss: 0.0244 - val_wine_quality_root_mean_squared_error: 0.5875 - val_wine_type_accuracy: 0.9970\n",
      "Epoch 90/180\n",
      "3155/3155 [==============================] - 0s 87us/sample - loss: 0.3062 - wine_quality_loss: 0.2826 - wine_type_loss: 0.0237 - wine_quality_root_mean_squared_error: 0.5315 - wine_type_accuracy: 0.9959 - val_loss: 0.3723 - val_wine_quality_loss: 0.3478 - val_wine_type_loss: 0.0243 - val_wine_quality_root_mean_squared_error: 0.5899 - val_wine_type_accuracy: 0.9970\n",
      "Epoch 91/180\n",
      "3155/3155 [==============================] - 0s 89us/sample - loss: 0.3053 - wine_quality_loss: 0.2819 - wine_type_loss: 0.0235 - wine_quality_root_mean_squared_error: 0.5307 - wine_type_accuracy: 0.9959 - val_loss: 0.3669 - val_wine_quality_loss: 0.3425 - val_wine_type_loss: 0.0242 - val_wine_quality_root_mean_squared_error: 0.5853 - val_wine_type_accuracy: 0.9970\n",
      "Epoch 92/180\n",
      "3155/3155 [==============================] - 0s 72us/sample - loss: 0.3053 - wine_quality_loss: 0.2821 - wine_type_loss: 0.0248 - wine_quality_root_mean_squared_error: 0.5308 - wine_type_accuracy: 0.9959 - val_loss: 0.3694 - val_wine_quality_loss: 0.3450 - val_wine_type_loss: 0.0241 - val_wine_quality_root_mean_squared_error: 0.5875 - val_wine_type_accuracy: 0.9970\n",
      "Epoch 93/180\n",
      "3155/3155 [==============================] - 0s 87us/sample - loss: 0.3049 - wine_quality_loss: 0.2814 - wine_type_loss: 0.0233 - wine_quality_root_mean_squared_error: 0.5306 - wine_type_accuracy: 0.9959 - val_loss: 0.3718 - val_wine_quality_loss: 0.3476 - val_wine_type_loss: 0.0240 - val_wine_quality_root_mean_squared_error: 0.5897 - val_wine_type_accuracy: 0.9970\n",
      "Epoch 94/180\n",
      "3155/3155 [==============================] - 0s 73us/sample - loss: 0.3040 - wine_quality_loss: 0.2808 - wine_type_loss: 0.0232 - wine_quality_root_mean_squared_error: 0.5298 - wine_type_accuracy: 0.9959 - val_loss: 0.3669 - val_wine_quality_loss: 0.3427 - val_wine_type_loss: 0.0240 - val_wine_quality_root_mean_squared_error: 0.5855 - val_wine_type_accuracy: 0.9970\n",
      "Epoch 95/180\n",
      "3155/3155 [==============================] - 0s 88us/sample - loss: 0.3043 - wine_quality_loss: 0.2812 - wine_type_loss: 0.0231 - wine_quality_root_mean_squared_error: 0.5303 - wine_type_accuracy: 0.9959 - val_loss: 0.3673 - val_wine_quality_loss: 0.3431 - val_wine_type_loss: 0.0239 - val_wine_quality_root_mean_squared_error: 0.5859 - val_wine_type_accuracy: 0.9970\n",
      "Epoch 96/180\n",
      "3155/3155 [==============================] - 0s 72us/sample - loss: 0.3037 - wine_quality_loss: 0.2810 - wine_type_loss: 0.0231 - wine_quality_root_mean_squared_error: 0.5297 - wine_type_accuracy: 0.9959 - val_loss: 0.3670 - val_wine_quality_loss: 0.3430 - val_wine_type_loss: 0.0238 - val_wine_quality_root_mean_squared_error: 0.5858 - val_wine_type_accuracy: 0.9970\n",
      "Epoch 97/180\n",
      "3155/3155 [==============================] - 0s 89us/sample - loss: 0.3023 - wine_quality_loss: 0.2794 - wine_type_loss: 0.0230 - wine_quality_root_mean_squared_error: 0.5284 - wine_type_accuracy: 0.9959 - val_loss: 0.3660 - val_wine_quality_loss: 0.3420 - val_wine_type_loss: 0.0238 - val_wine_quality_root_mean_squared_error: 0.5850 - val_wine_type_accuracy: 0.9970\n",
      "Epoch 98/180\n",
      "3155/3155 [==============================] - 0s 89us/sample - loss: 0.3026 - wine_quality_loss: 0.2800 - wine_type_loss: 0.0228 - wine_quality_root_mean_squared_error: 0.5289 - wine_type_accuracy: 0.9959 - val_loss: 0.3657 - val_wine_quality_loss: 0.3417 - val_wine_type_loss: 0.0237 - val_wine_quality_root_mean_squared_error: 0.5848 - val_wine_type_accuracy: 0.9970\n",
      "Epoch 99/180\n",
      "3155/3155 [==============================] - 0s 74us/sample - loss: 0.3013 - wine_quality_loss: 0.2782 - wine_type_loss: 0.0228 - wine_quality_root_mean_squared_error: 0.5278 - wine_type_accuracy: 0.9959 - val_loss: 0.3668 - val_wine_quality_loss: 0.3430 - val_wine_type_loss: 0.0236 - val_wine_quality_root_mean_squared_error: 0.5858 - val_wine_type_accuracy: 0.9970\n",
      "Epoch 100/180\n",
      "3155/3155 [==============================] - 0s 87us/sample - loss: 0.3004 - wine_quality_loss: 0.2780 - wine_type_loss: 0.0226 - wine_quality_root_mean_squared_error: 0.5270 - wine_type_accuracy: 0.9959 - val_loss: 0.3710 - val_wine_quality_loss: 0.3473 - val_wine_type_loss: 0.0236 - val_wine_quality_root_mean_squared_error: 0.5894 - val_wine_type_accuracy: 0.9970\n",
      "Epoch 101/180\n",
      "3155/3155 [==============================] - 0s 73us/sample - loss: 0.3008 - wine_quality_loss: 0.2779 - wine_type_loss: 0.0226 - wine_quality_root_mean_squared_error: 0.5274 - wine_type_accuracy: 0.9959 - val_loss: 0.3674 - val_wine_quality_loss: 0.3438 - val_wine_type_loss: 0.0235 - val_wine_quality_root_mean_squared_error: 0.5863 - val_wine_type_accuracy: 0.9970\n",
      "Epoch 102/180\n",
      "3155/3155 [==============================] - 0s 89us/sample - loss: 0.2998 - wine_quality_loss: 0.2775 - wine_type_loss: 0.0227 - wine_quality_root_mean_squared_error: 0.5266 - wine_type_accuracy: 0.9959 - val_loss: 0.3700 - val_wine_quality_loss: 0.3464 - val_wine_type_loss: 0.0234 - val_wine_quality_root_mean_squared_error: 0.5887 - val_wine_type_accuracy: 0.9970\n",
      "Epoch 103/180\n",
      "3155/3155 [==============================] - 0s 88us/sample - loss: 0.2992 - wine_quality_loss: 0.2771 - wine_type_loss: 0.0223 - wine_quality_root_mean_squared_error: 0.5261 - wine_type_accuracy: 0.9959 - val_loss: 0.3660 - val_wine_quality_loss: 0.3424 - val_wine_type_loss: 0.0233 - val_wine_quality_root_mean_squared_error: 0.5853 - val_wine_type_accuracy: 0.9970\n",
      "Epoch 104/180\n",
      "3155/3155 [==============================] - 0s 72us/sample - loss: 0.2990 - wine_quality_loss: 0.2766 - wine_type_loss: 0.0223 - wine_quality_root_mean_squared_error: 0.5259 - wine_type_accuracy: 0.9959 - val_loss: 0.3725 - val_wine_quality_loss: 0.3491 - val_wine_type_loss: 0.0232 - val_wine_quality_root_mean_squared_error: 0.5909 - val_wine_type_accuracy: 0.9970\n",
      "Epoch 105/180\n",
      "3155/3155 [==============================] - 0s 87us/sample - loss: 0.2982 - wine_quality_loss: 0.2757 - wine_type_loss: 0.0222 - wine_quality_root_mean_squared_error: 0.5253 - wine_type_accuracy: 0.9959 - val_loss: 0.3727 - val_wine_quality_loss: 0.3492 - val_wine_type_loss: 0.0232 - val_wine_quality_root_mean_squared_error: 0.5911 - val_wine_type_accuracy: 0.9970\n",
      "Epoch 106/180\n",
      "3155/3155 [==============================] - 0s 72us/sample - loss: 0.2966 - wine_quality_loss: 0.2745 - wine_type_loss: 0.0222 - wine_quality_root_mean_squared_error: 0.5238 - wine_type_accuracy: 0.9959 - val_loss: 0.3716 - val_wine_quality_loss: 0.3483 - val_wine_type_loss: 0.0231 - val_wine_quality_root_mean_squared_error: 0.5903 - val_wine_type_accuracy: 0.9970\n",
      "Epoch 107/180\n",
      "3155/3155 [==============================] - 0s 92us/sample - loss: 0.2975 - wine_quality_loss: 0.2752 - wine_type_loss: 0.0220 - wine_quality_root_mean_squared_error: 0.5248 - wine_type_accuracy: 0.9959 - val_loss: 0.3686 - val_wine_quality_loss: 0.3454 - val_wine_type_loss: 0.0230 - val_wine_quality_root_mean_squared_error: 0.5878 - val_wine_type_accuracy: 0.9970\n",
      "Epoch 108/180\n",
      "3155/3155 [==============================] - 0s 85us/sample - loss: 0.2960 - wine_quality_loss: 0.2735 - wine_type_loss: 0.0220 - wine_quality_root_mean_squared_error: 0.5234 - wine_type_accuracy: 0.9959 - val_loss: 0.3701 - val_wine_quality_loss: 0.3471 - val_wine_type_loss: 0.0229 - val_wine_quality_root_mean_squared_error: 0.5892 - val_wine_type_accuracy: 0.9970\n",
      "Epoch 109/180\n",
      "3155/3155 [==============================] - 0s 75us/sample - loss: 0.2962 - wine_quality_loss: 0.2741 - wine_type_loss: 0.0218 - wine_quality_root_mean_squared_error: 0.5238 - wine_type_accuracy: 0.9959 - val_loss: 0.3650 - val_wine_quality_loss: 0.3421 - val_wine_type_loss: 0.0228 - val_wine_quality_root_mean_squared_error: 0.5849 - val_wine_type_accuracy: 0.9970\n",
      "Epoch 110/180\n",
      "3155/3155 [==============================] - 0s 90us/sample - loss: 0.2968 - wine_quality_loss: 0.2747 - wine_type_loss: 0.0218 - wine_quality_root_mean_squared_error: 0.5243 - wine_type_accuracy: 0.9959 - val_loss: 0.3663 - val_wine_quality_loss: 0.3433 - val_wine_type_loss: 0.0228 - val_wine_quality_root_mean_squared_error: 0.5860 - val_wine_type_accuracy: 0.9970\n",
      "Epoch 111/180\n",
      "3155/3155 [==============================] - 0s 72us/sample - loss: 0.2947 - wine_quality_loss: 0.2726 - wine_type_loss: 0.0216 - wine_quality_root_mean_squared_error: 0.5225 - wine_type_accuracy: 0.9959 - val_loss: 0.3693 - val_wine_quality_loss: 0.3464 - val_wine_type_loss: 0.0228 - val_wine_quality_root_mean_squared_error: 0.5886 - val_wine_type_accuracy: 0.9970\n",
      "Epoch 112/180\n",
      "3155/3155 [==============================] - 0s 88us/sample - loss: 0.2945 - wine_quality_loss: 0.2728 - wine_type_loss: 0.0216 - wine_quality_root_mean_squared_error: 0.5223 - wine_type_accuracy: 0.9959 - val_loss: 0.3764 - val_wine_quality_loss: 0.3535 - val_wine_type_loss: 0.0227 - val_wine_quality_root_mean_squared_error: 0.5947 - val_wine_type_accuracy: 0.9970\n",
      "Epoch 113/180\n",
      "3155/3155 [==============================] - 0s 87us/sample - loss: 0.2946 - wine_quality_loss: 0.2730 - wine_type_loss: 0.0215 - wine_quality_root_mean_squared_error: 0.5226 - wine_type_accuracy: 0.9959 - val_loss: 0.3639 - val_wine_quality_loss: 0.3410 - val_wine_type_loss: 0.0227 - val_wine_quality_root_mean_squared_error: 0.5841 - val_wine_type_accuracy: 0.9970\n",
      "Epoch 114/180\n",
      "3155/3155 [==============================] - 0s 75us/sample - loss: 0.2930 - wine_quality_loss: 0.2710 - wine_type_loss: 0.0214 - wine_quality_root_mean_squared_error: 0.5211 - wine_type_accuracy: 0.9959 - val_loss: 0.3697 - val_wine_quality_loss: 0.3469 - val_wine_type_loss: 0.0226 - val_wine_quality_root_mean_squared_error: 0.5891 - val_wine_type_accuracy: 0.9970\n",
      "Epoch 115/180\n",
      "3155/3155 [==============================] - 0s 88us/sample - loss: 0.2937 - wine_quality_loss: 0.2719 - wine_type_loss: 0.0213 - wine_quality_root_mean_squared_error: 0.5218 - wine_type_accuracy: 0.9959 - val_loss: 0.3670 - val_wine_quality_loss: 0.3442 - val_wine_type_loss: 0.0225 - val_wine_quality_root_mean_squared_error: 0.5869 - val_wine_type_accuracy: 0.9970\n",
      "Epoch 116/180\n",
      "3155/3155 [==============================] - 0s 73us/sample - loss: 0.2939 - wine_quality_loss: 0.2728 - wine_type_loss: 0.0212 - wine_quality_root_mean_squared_error: 0.5221 - wine_type_accuracy: 0.9959 - val_loss: 0.3662 - val_wine_quality_loss: 0.3436 - val_wine_type_loss: 0.0224 - val_wine_quality_root_mean_squared_error: 0.5863 - val_wine_type_accuracy: 0.9970\n",
      "Epoch 117/180\n",
      "3155/3155 [==============================] - 0s 89us/sample - loss: 0.2926 - wine_quality_loss: 0.2719 - wine_type_loss: 0.0218 - wine_quality_root_mean_squared_error: 0.5209 - wine_type_accuracy: 0.9959 - val_loss: 0.3657 - val_wine_quality_loss: 0.3432 - val_wine_type_loss: 0.0223 - val_wine_quality_root_mean_squared_error: 0.5860 - val_wine_type_accuracy: 0.9970\n",
      "Epoch 118/180\n",
      "3155/3155 [==============================] - 0s 72us/sample - loss: 0.2917 - wine_quality_loss: 0.2704 - wine_type_loss: 0.0211 - wine_quality_root_mean_squared_error: 0.5201 - wine_type_accuracy: 0.9962 - val_loss: 0.3644 - val_wine_quality_loss: 0.3419 - val_wine_type_loss: 0.0223 - val_wine_quality_root_mean_squared_error: 0.5848 - val_wine_type_accuracy: 0.9970\n",
      "Epoch 119/180\n",
      "3155/3155 [==============================] - 0s 77us/sample - loss: 0.2893 - wine_quality_loss: 0.2678 - wine_type_loss: 0.0210 - wine_quality_root_mean_squared_error: 0.5179 - wine_type_accuracy: 0.9959 - val_loss: 0.3669 - val_wine_quality_loss: 0.3445 - val_wine_type_loss: 0.0222 - val_wine_quality_root_mean_squared_error: 0.5871 - val_wine_type_accuracy: 0.9970\n",
      "Epoch 120/180\n",
      "3155/3155 [==============================] - 0s 87us/sample - loss: 0.2904 - wine_quality_loss: 0.2691 - wine_type_loss: 0.0209 - wine_quality_root_mean_squared_error: 0.5191 - wine_type_accuracy: 0.9962 - val_loss: 0.3675 - val_wine_quality_loss: 0.3451 - val_wine_type_loss: 0.0222 - val_wine_quality_root_mean_squared_error: 0.5875 - val_wine_type_accuracy: 0.9970\n",
      "Epoch 121/180\n",
      "3155/3155 [==============================] - 0s 72us/sample - loss: 0.2903 - wine_quality_loss: 0.2693 - wine_type_loss: 0.0208 - wine_quality_root_mean_squared_error: 0.5190 - wine_type_accuracy: 0.9959 - val_loss: 0.3698 - val_wine_quality_loss: 0.3475 - val_wine_type_loss: 0.0221 - val_wine_quality_root_mean_squared_error: 0.5896 - val_wine_type_accuracy: 0.9970\n",
      "Epoch 122/180\n",
      "3155/3155 [==============================] - 0s 87us/sample - loss: 0.2887 - wine_quality_loss: 0.2677 - wine_type_loss: 0.0208 - wine_quality_root_mean_squared_error: 0.5176 - wine_type_accuracy: 0.9962 - val_loss: 0.3683 - val_wine_quality_loss: 0.3460 - val_wine_type_loss: 0.0220 - val_wine_quality_root_mean_squared_error: 0.5884 - val_wine_type_accuracy: 0.9970\n",
      "Epoch 123/180\n",
      "3155/3155 [==============================] - 0s 71us/sample - loss: 0.2886 - wine_quality_loss: 0.2680 - wine_type_loss: 0.0206 - wine_quality_root_mean_squared_error: 0.5176 - wine_type_accuracy: 0.9962 - val_loss: 0.3707 - val_wine_quality_loss: 0.3485 - val_wine_type_loss: 0.0219 - val_wine_quality_root_mean_squared_error: 0.5905 - val_wine_type_accuracy: 0.9970\n",
      "Epoch 124/180\n",
      "3155/3155 [==============================] - 0s 87us/sample - loss: 0.2892 - wine_quality_loss: 0.2697 - wine_type_loss: 0.0206 - wine_quality_root_mean_squared_error: 0.5183 - wine_type_accuracy: 0.9962 - val_loss: 0.3645 - val_wine_quality_loss: 0.3423 - val_wine_type_loss: 0.0219 - val_wine_quality_root_mean_squared_error: 0.5852 - val_wine_type_accuracy: 0.9970\n",
      "Epoch 125/180\n",
      "3155/3155 [==============================] - 0s 72us/sample - loss: 0.2882 - wine_quality_loss: 0.2675 - wine_type_loss: 0.0205 - wine_quality_root_mean_squared_error: 0.5173 - wine_type_accuracy: 0.9962 - val_loss: 0.3690 - val_wine_quality_loss: 0.3470 - val_wine_type_loss: 0.0218 - val_wine_quality_root_mean_squared_error: 0.5892 - val_wine_type_accuracy: 0.9970\n",
      "Epoch 126/180\n",
      "3155/3155 [==============================] - 0s 87us/sample - loss: 0.2884 - wine_quality_loss: 0.2675 - wine_type_loss: 0.0205 - wine_quality_root_mean_squared_error: 0.5175 - wine_type_accuracy: 0.9962 - val_loss: 0.3619 - val_wine_quality_loss: 0.3398 - val_wine_type_loss: 0.0218 - val_wine_quality_root_mean_squared_error: 0.5831 - val_wine_type_accuracy: 0.9970\n",
      "Epoch 127/180\n",
      "3155/3155 [==============================] - 0s 72us/sample - loss: 0.2870 - wine_quality_loss: 0.2660 - wine_type_loss: 0.0204 - wine_quality_root_mean_squared_error: 0.5163 - wine_type_accuracy: 0.9962 - val_loss: 0.3672 - val_wine_quality_loss: 0.3453 - val_wine_type_loss: 0.0217 - val_wine_quality_root_mean_squared_error: 0.5877 - val_wine_type_accuracy: 0.9970\n",
      "Epoch 128/180\n",
      "3155/3155 [==============================] - 0s 86us/sample - loss: 0.2873 - wine_quality_loss: 0.2670 - wine_type_loss: 0.0203 - wine_quality_root_mean_squared_error: 0.5167 - wine_type_accuracy: 0.9962 - val_loss: 0.3628 - val_wine_quality_loss: 0.3409 - val_wine_type_loss: 0.0217 - val_wine_quality_root_mean_squared_error: 0.5840 - val_wine_type_accuracy: 0.9970\n",
      "Epoch 129/180\n",
      "3155/3155 [==============================] - 0s 71us/sample - loss: 0.2870 - wine_quality_loss: 0.2669 - wine_type_loss: 0.0202 - wine_quality_root_mean_squared_error: 0.5164 - wine_type_accuracy: 0.9962 - val_loss: 0.3652 - val_wine_quality_loss: 0.3434 - val_wine_type_loss: 0.0217 - val_wine_quality_root_mean_squared_error: 0.5861 - val_wine_type_accuracy: 0.9970\n",
      "Epoch 130/180\n",
      "3155/3155 [==============================] - 0s 88us/sample - loss: 0.2864 - wine_quality_loss: 0.2665 - wine_type_loss: 0.0201 - wine_quality_root_mean_squared_error: 0.5160 - wine_type_accuracy: 0.9962 - val_loss: 0.3679 - val_wine_quality_loss: 0.3461 - val_wine_type_loss: 0.0216 - val_wine_quality_root_mean_squared_error: 0.5884 - val_wine_type_accuracy: 0.9970\n",
      "Epoch 131/180\n",
      "3155/3155 [==============================] - 0s 87us/sample - loss: 0.2840 - wine_quality_loss: 0.2641 - wine_type_loss: 0.0201 - wine_quality_root_mean_squared_error: 0.5137 - wine_type_accuracy: 0.9962 - val_loss: 0.3652 - val_wine_quality_loss: 0.3435 - val_wine_type_loss: 0.0216 - val_wine_quality_root_mean_squared_error: 0.5861 - val_wine_type_accuracy: 0.9970\n",
      "Epoch 132/180\n",
      "3155/3155 [==============================] - 0s 73us/sample - loss: 0.2847 - wine_quality_loss: 0.2649 - wine_type_loss: 0.0200 - wine_quality_root_mean_squared_error: 0.5144 - wine_type_accuracy: 0.9962 - val_loss: 0.3653 - val_wine_quality_loss: 0.3436 - val_wine_type_loss: 0.0214 - val_wine_quality_root_mean_squared_error: 0.5863 - val_wine_type_accuracy: 0.9970\n",
      "Epoch 133/180\n",
      "3155/3155 [==============================] - 0s 86us/sample - loss: 0.2847 - wine_quality_loss: 0.2642 - wine_type_loss: 0.0199 - wine_quality_root_mean_squared_error: 0.5145 - wine_type_accuracy: 0.9962 - val_loss: 0.3643 - val_wine_quality_loss: 0.3428 - val_wine_type_loss: 0.0214 - val_wine_quality_root_mean_squared_error: 0.5855 - val_wine_type_accuracy: 0.9970\n",
      "Epoch 134/180\n",
      "3155/3155 [==============================] - 0s 73us/sample - loss: 0.2841 - wine_quality_loss: 0.2637 - wine_type_loss: 0.0199 - wine_quality_root_mean_squared_error: 0.5139 - wine_type_accuracy: 0.9962 - val_loss: 0.3698 - val_wine_quality_loss: 0.3483 - val_wine_type_loss: 0.0212 - val_wine_quality_root_mean_squared_error: 0.5903 - val_wine_type_accuracy: 0.9970\n",
      "Epoch 135/180\n",
      "3155/3155 [==============================] - 0s 89us/sample - loss: 0.2842 - wine_quality_loss: 0.2642 - wine_type_loss: 0.0198 - wine_quality_root_mean_squared_error: 0.5141 - wine_type_accuracy: 0.9962 - val_loss: 0.3635 - val_wine_quality_loss: 0.3421 - val_wine_type_loss: 0.0213 - val_wine_quality_root_mean_squared_error: 0.5850 - val_wine_type_accuracy: 0.9970\n",
      "Epoch 136/180\n",
      "3155/3155 [==============================] - 0s 71us/sample - loss: 0.2836 - wine_quality_loss: 0.2633 - wine_type_loss: 0.0197 - wine_quality_root_mean_squared_error: 0.5137 - wine_type_accuracy: 0.9962 - val_loss: 0.3630 - val_wine_quality_loss: 0.3416 - val_wine_type_loss: 0.0212 - val_wine_quality_root_mean_squared_error: 0.5845 - val_wine_type_accuracy: 0.9970\n",
      "Epoch 137/180\n",
      "3155/3155 [==============================] - 0s 87us/sample - loss: 0.2831 - wine_quality_loss: 0.2629 - wine_type_loss: 0.0196 - wine_quality_root_mean_squared_error: 0.5133 - wine_type_accuracy: 0.9962 - val_loss: 0.3614 - val_wine_quality_loss: 0.3400 - val_wine_type_loss: 0.0212 - val_wine_quality_root_mean_squared_error: 0.5832 - val_wine_type_accuracy: 0.9970\n",
      "Epoch 138/180\n",
      "3155/3155 [==============================] - 0s 73us/sample - loss: 0.2820 - wine_quality_loss: 0.2622 - wine_type_loss: 0.0196 - wine_quality_root_mean_squared_error: 0.5122 - wine_type_accuracy: 0.9965 - val_loss: 0.3719 - val_wine_quality_loss: 0.3506 - val_wine_type_loss: 0.0211 - val_wine_quality_root_mean_squared_error: 0.5922 - val_wine_type_accuracy: 0.9970\n",
      "Epoch 139/180\n",
      "3155/3155 [==============================] - 0s 77us/sample - loss: 0.2823 - wine_quality_loss: 0.2622 - wine_type_loss: 0.0195 - wine_quality_root_mean_squared_error: 0.5126 - wine_type_accuracy: 0.9965 - val_loss: 0.3652 - val_wine_quality_loss: 0.3439 - val_wine_type_loss: 0.0211 - val_wine_quality_root_mean_squared_error: 0.5866 - val_wine_type_accuracy: 0.9970\n",
      "Epoch 140/180\n",
      "3155/3155 [==============================] - 0s 88us/sample - loss: 0.2820 - wine_quality_loss: 0.2625 - wine_type_loss: 0.0194 - wine_quality_root_mean_squared_error: 0.5123 - wine_type_accuracy: 0.9962 - val_loss: 0.3632 - val_wine_quality_loss: 0.3421 - val_wine_type_loss: 0.0210 - val_wine_quality_root_mean_squared_error: 0.5849 - val_wine_type_accuracy: 0.9970\n",
      "Epoch 141/180\n",
      "3155/3155 [==============================] - 0s 73us/sample - loss: 0.2810 - wine_quality_loss: 0.2616 - wine_type_loss: 0.0193 - wine_quality_root_mean_squared_error: 0.5114 - wine_type_accuracy: 0.9965 - val_loss: 0.3613 - val_wine_quality_loss: 0.3401 - val_wine_type_loss: 0.0210 - val_wine_quality_root_mean_squared_error: 0.5833 - val_wine_type_accuracy: 0.9970\n",
      "Epoch 142/180\n",
      "3155/3155 [==============================] - 0s 90us/sample - loss: 0.2814 - wine_quality_loss: 0.2621 - wine_type_loss: 0.0193 - wine_quality_root_mean_squared_error: 0.5119 - wine_type_accuracy: 0.9962 - val_loss: 0.3660 - val_wine_quality_loss: 0.3450 - val_wine_type_loss: 0.0209 - val_wine_quality_root_mean_squared_error: 0.5874 - val_wine_type_accuracy: 0.9970\n",
      "Epoch 143/180\n",
      "3155/3155 [==============================] - 0s 90us/sample - loss: 0.2800 - wine_quality_loss: 0.2604 - wine_type_loss: 0.0193 - wine_quality_root_mean_squared_error: 0.5106 - wine_type_accuracy: 0.9965 - val_loss: 0.3728 - val_wine_quality_loss: 0.3517 - val_wine_type_loss: 0.0209 - val_wine_quality_root_mean_squared_error: 0.5931 - val_wine_type_accuracy: 0.9970\n",
      "Epoch 144/180\n",
      "3155/3155 [==============================] - 0s 73us/sample - loss: 0.2801 - wine_quality_loss: 0.2617 - wine_type_loss: 0.0193 - wine_quality_root_mean_squared_error: 0.5108 - wine_type_accuracy: 0.9965 - val_loss: 0.3675 - val_wine_quality_loss: 0.3466 - val_wine_type_loss: 0.0208 - val_wine_quality_root_mean_squared_error: 0.5887 - val_wine_type_accuracy: 0.9970\n",
      "Epoch 145/180\n",
      "3155/3155 [==============================] - 0s 89us/sample - loss: 0.2802 - wine_quality_loss: 0.2606 - wine_type_loss: 0.0192 - wine_quality_root_mean_squared_error: 0.5109 - wine_type_accuracy: 0.9965 - val_loss: 0.3630 - val_wine_quality_loss: 0.3420 - val_wine_type_loss: 0.0207 - val_wine_quality_root_mean_squared_error: 0.5849 - val_wine_type_accuracy: 0.9970\n",
      "Epoch 146/180\n",
      "3155/3155 [==============================] - 0s 89us/sample - loss: 0.2792 - wine_quality_loss: 0.2600 - wine_type_loss: 0.0191 - wine_quality_root_mean_squared_error: 0.5100 - wine_type_accuracy: 0.9965 - val_loss: 0.3710 - val_wine_quality_loss: 0.3501 - val_wine_type_loss: 0.0207 - val_wine_quality_root_mean_squared_error: 0.5918 - val_wine_type_accuracy: 0.9970\n",
      "Epoch 147/180\n",
      "3155/3155 [==============================] - 0s 73us/sample - loss: 0.2786 - wine_quality_loss: 0.2598 - wine_type_loss: 0.0190 - wine_quality_root_mean_squared_error: 0.5094 - wine_type_accuracy: 0.9965 - val_loss: 0.3654 - val_wine_quality_loss: 0.3445 - val_wine_type_loss: 0.0206 - val_wine_quality_root_mean_squared_error: 0.5871 - val_wine_type_accuracy: 0.9970\n",
      "Epoch 148/180\n",
      "3155/3155 [==============================] - 0s 89us/sample - loss: 0.2793 - wine_quality_loss: 0.2609 - wine_type_loss: 0.0189 - wine_quality_root_mean_squared_error: 0.5103 - wine_type_accuracy: 0.9965 - val_loss: 0.3665 - val_wine_quality_loss: 0.3456 - val_wine_type_loss: 0.0206 - val_wine_quality_root_mean_squared_error: 0.5881 - val_wine_type_accuracy: 0.9970\n",
      "Epoch 149/180\n",
      "3155/3155 [==============================] - 0s 73us/sample - loss: 0.2785 - wine_quality_loss: 0.2601 - wine_type_loss: 0.0188 - wine_quality_root_mean_squared_error: 0.5095 - wine_type_accuracy: 0.9962 - val_loss: 0.3688 - val_wine_quality_loss: 0.3481 - val_wine_type_loss: 0.0205 - val_wine_quality_root_mean_squared_error: 0.5900 - val_wine_type_accuracy: 0.9970\n",
      "Epoch 150/180\n",
      "3155/3155 [==============================] - 0s 89us/sample - loss: 0.2781 - wine_quality_loss: 0.2591 - wine_type_loss: 0.0188 - wine_quality_root_mean_squared_error: 0.5092 - wine_type_accuracy: 0.9965 - val_loss: 0.3630 - val_wine_quality_loss: 0.3423 - val_wine_type_loss: 0.0204 - val_wine_quality_root_mean_squared_error: 0.5852 - val_wine_type_accuracy: 0.9970\n",
      "Epoch 151/180\n",
      "3155/3155 [==============================] - 0s 88us/sample - loss: 0.2778 - wine_quality_loss: 0.2589 - wine_type_loss: 0.0187 - wine_quality_root_mean_squared_error: 0.5090 - wine_type_accuracy: 0.9965 - val_loss: 0.3685 - val_wine_quality_loss: 0.3478 - val_wine_type_loss: 0.0204 - val_wine_quality_root_mean_squared_error: 0.5899 - val_wine_type_accuracy: 0.9970\n",
      "Epoch 152/180\n",
      "3155/3155 [==============================] - 0s 73us/sample - loss: 0.2773 - wine_quality_loss: 0.2580 - wine_type_loss: 0.0186 - wine_quality_root_mean_squared_error: 0.5085 - wine_type_accuracy: 0.9965 - val_loss: 0.3678 - val_wine_quality_loss: 0.3472 - val_wine_type_loss: 0.0204 - val_wine_quality_root_mean_squared_error: 0.5894 - val_wine_type_accuracy: 0.9970\n",
      "Epoch 153/180\n",
      "3155/3155 [==============================] - 0s 88us/sample - loss: 0.2761 - wine_quality_loss: 0.2572 - wine_type_loss: 0.0186 - wine_quality_root_mean_squared_error: 0.5074 - wine_type_accuracy: 0.9965 - val_loss: 0.3643 - val_wine_quality_loss: 0.3437 - val_wine_type_loss: 0.0204 - val_wine_quality_root_mean_squared_error: 0.5864 - val_wine_type_accuracy: 0.9970\n",
      "Epoch 154/180\n",
      "3155/3155 [==============================] - 0s 73us/sample - loss: 0.2750 - wine_quality_loss: 0.2568 - wine_type_loss: 0.0185 - wine_quality_root_mean_squared_error: 0.5065 - wine_type_accuracy: 0.9965 - val_loss: 0.3843 - val_wine_quality_loss: 0.3638 - val_wine_type_loss: 0.0203 - val_wine_quality_root_mean_squared_error: 0.6032 - val_wine_type_accuracy: 0.9970\n",
      "Epoch 155/180\n",
      "3155/3155 [==============================] - 0s 89us/sample - loss: 0.2762 - wine_quality_loss: 0.2571 - wine_type_loss: 0.0185 - wine_quality_root_mean_squared_error: 0.5075 - wine_type_accuracy: 0.9965 - val_loss: 0.3650 - val_wine_quality_loss: 0.3445 - val_wine_type_loss: 0.0203 - val_wine_quality_root_mean_squared_error: 0.5871 - val_wine_type_accuracy: 0.9970\n",
      "Epoch 156/180\n",
      "3155/3155 [==============================] - 0s 86us/sample - loss: 0.2762 - wine_quality_loss: 0.2576 - wine_type_loss: 0.0184 - wine_quality_root_mean_squared_error: 0.5076 - wine_type_accuracy: 0.9965 - val_loss: 0.3725 - val_wine_quality_loss: 0.3520 - val_wine_type_loss: 0.0202 - val_wine_quality_root_mean_squared_error: 0.5934 - val_wine_type_accuracy: 0.9970\n",
      "Epoch 157/180\n",
      "3155/3155 [==============================] - 0s 74us/sample - loss: 0.2752 - wine_quality_loss: 0.2569 - wine_type_loss: 0.0186 - wine_quality_root_mean_squared_error: 0.5067 - wine_type_accuracy: 0.9965 - val_loss: 0.3626 - val_wine_quality_loss: 0.3423 - val_wine_type_loss: 0.0202 - val_wine_quality_root_mean_squared_error: 0.5851 - val_wine_type_accuracy: 0.9970\n",
      "Epoch 158/180\n",
      "3155/3155 [==============================] - 0s 89us/sample - loss: 0.2741 - wine_quality_loss: 0.2562 - wine_type_loss: 0.0183 - wine_quality_root_mean_squared_error: 0.5057 - wine_type_accuracy: 0.9965 - val_loss: 0.3650 - val_wine_quality_loss: 0.3447 - val_wine_type_loss: 0.0201 - val_wine_quality_root_mean_squared_error: 0.5873 - val_wine_type_accuracy: 0.9970\n",
      "Epoch 159/180\n",
      "3155/3155 [==============================] - 0s 73us/sample - loss: 0.2745 - wine_quality_loss: 0.2562 - wine_type_loss: 0.0182 - wine_quality_root_mean_squared_error: 0.5061 - wine_type_accuracy: 0.9965 - val_loss: 0.3638 - val_wine_quality_loss: 0.3435 - val_wine_type_loss: 0.0201 - val_wine_quality_root_mean_squared_error: 0.5863 - val_wine_type_accuracy: 0.9970\n",
      "Epoch 160/180\n",
      "3155/3155 [==============================] - 0s 89us/sample - loss: 0.2738 - wine_quality_loss: 0.2554 - wine_type_loss: 0.0182 - wine_quality_root_mean_squared_error: 0.5056 - wine_type_accuracy: 0.9965 - val_loss: 0.3829 - val_wine_quality_loss: 0.3627 - val_wine_type_loss: 0.0200 - val_wine_quality_root_mean_squared_error: 0.6024 - val_wine_type_accuracy: 0.9970\n",
      "Epoch 161/180\n",
      "3155/3155 [==============================] - 0s 87us/sample - loss: 0.2730 - wine_quality_loss: 0.2543 - wine_type_loss: 0.0181 - wine_quality_root_mean_squared_error: 0.5048 - wine_type_accuracy: 0.9965 - val_loss: 0.3653 - val_wine_quality_loss: 0.3451 - val_wine_type_loss: 0.0200 - val_wine_quality_root_mean_squared_error: 0.5876 - val_wine_type_accuracy: 0.9970\n",
      "Epoch 162/180\n",
      "3155/3155 [==============================] - 0s 73us/sample - loss: 0.2728 - wine_quality_loss: 0.2546 - wine_type_loss: 0.0180 - wine_quality_root_mean_squared_error: 0.5047 - wine_type_accuracy: 0.9965 - val_loss: 0.3701 - val_wine_quality_loss: 0.3499 - val_wine_type_loss: 0.0200 - val_wine_quality_root_mean_squared_error: 0.5916 - val_wine_type_accuracy: 0.9970\n",
      "Epoch 163/180\n",
      "3155/3155 [==============================] - 0s 87us/sample - loss: 0.2728 - wine_quality_loss: 0.2540 - wine_type_loss: 0.0181 - wine_quality_root_mean_squared_error: 0.5047 - wine_type_accuracy: 0.9965 - val_loss: 0.3651 - val_wine_quality_loss: 0.3448 - val_wine_type_loss: 0.0200 - val_wine_quality_root_mean_squared_error: 0.5874 - val_wine_type_accuracy: 0.9970\n",
      "Epoch 164/180\n",
      "3155/3155 [==============================] - 0s 72us/sample - loss: 0.2728 - wine_quality_loss: 0.2553 - wine_type_loss: 0.0180 - wine_quality_root_mean_squared_error: 0.5048 - wine_type_accuracy: 0.9965 - val_loss: 0.3649 - val_wine_quality_loss: 0.3448 - val_wine_type_loss: 0.0198 - val_wine_quality_root_mean_squared_error: 0.5874 - val_wine_type_accuracy: 0.9970\n",
      "Epoch 165/180\n",
      "3155/3155 [==============================] - 0s 86us/sample - loss: 0.2719 - wine_quality_loss: 0.2541 - wine_type_loss: 0.0178 - wine_quality_root_mean_squared_error: 0.5040 - wine_type_accuracy: 0.9965 - val_loss: 0.3676 - val_wine_quality_loss: 0.3476 - val_wine_type_loss: 0.0197 - val_wine_quality_root_mean_squared_error: 0.5897 - val_wine_type_accuracy: 0.9970\n",
      "Epoch 166/180\n",
      "3155/3155 [==============================] - 0s 73us/sample - loss: 0.2711 - wine_quality_loss: 0.2529 - wine_type_loss: 0.0178 - wine_quality_root_mean_squared_error: 0.5033 - wine_type_accuracy: 0.9965 - val_loss: 0.3617 - val_wine_quality_loss: 0.3417 - val_wine_type_loss: 0.0197 - val_wine_quality_root_mean_squared_error: 0.5847 - val_wine_type_accuracy: 0.9970\n",
      "Epoch 167/180\n",
      "3155/3155 [==============================] - 0s 87us/sample - loss: 0.2712 - wine_quality_loss: 0.2535 - wine_type_loss: 0.0177 - wine_quality_root_mean_squared_error: 0.5034 - wine_type_accuracy: 0.9965 - val_loss: 0.3613 - val_wine_quality_loss: 0.3414 - val_wine_type_loss: 0.0196 - val_wine_quality_root_mean_squared_error: 0.5845 - val_wine_type_accuracy: 0.9970\n",
      "Epoch 168/180\n",
      "3155/3155 [==============================] - 0s 72us/sample - loss: 0.2719 - wine_quality_loss: 0.2539 - wine_type_loss: 0.0177 - wine_quality_root_mean_squared_error: 0.5041 - wine_type_accuracy: 0.9965 - val_loss: 0.3707 - val_wine_quality_loss: 0.3511 - val_wine_type_loss: 0.0196 - val_wine_quality_root_mean_squared_error: 0.5926 - val_wine_type_accuracy: 0.9970\n",
      "Epoch 169/180\n",
      "3155/3155 [==============================] - 0s 90us/sample - loss: 0.2720 - wine_quality_loss: 0.2542 - wine_type_loss: 0.0186 - wine_quality_root_mean_squared_error: 0.5042 - wine_type_accuracy: 0.9965 - val_loss: 0.3639 - val_wine_quality_loss: 0.3442 - val_wine_type_loss: 0.0196 - val_wine_quality_root_mean_squared_error: 0.5868 - val_wine_type_accuracy: 0.9970\n",
      "Epoch 170/180\n",
      "3155/3155 [==============================] - 0s 87us/sample - loss: 0.2715 - wine_quality_loss: 0.2537 - wine_type_loss: 0.0176 - wine_quality_root_mean_squared_error: 0.5038 - wine_type_accuracy: 0.9965 - val_loss: 0.3614 - val_wine_quality_loss: 0.3416 - val_wine_type_loss: 0.0195 - val_wine_quality_root_mean_squared_error: 0.5846 - val_wine_type_accuracy: 0.9970\n",
      "Epoch 171/180\n",
      "3155/3155 [==============================] - 0s 74us/sample - loss: 0.2701 - wine_quality_loss: 0.2527 - wine_type_loss: 0.0175 - wine_quality_root_mean_squared_error: 0.5026 - wine_type_accuracy: 0.9965 - val_loss: 0.3626 - val_wine_quality_loss: 0.3428 - val_wine_type_loss: 0.0195 - val_wine_quality_root_mean_squared_error: 0.5857 - val_wine_type_accuracy: 0.9970\n",
      "Epoch 172/180\n",
      "3155/3155 [==============================] - 0s 89us/sample - loss: 0.2693 - wine_quality_loss: 0.2521 - wine_type_loss: 0.0175 - wine_quality_root_mean_squared_error: 0.5018 - wine_type_accuracy: 0.9965 - val_loss: 0.3669 - val_wine_quality_loss: 0.3472 - val_wine_type_loss: 0.0194 - val_wine_quality_root_mean_squared_error: 0.5894 - val_wine_type_accuracy: 0.9970\n",
      "Epoch 173/180\n",
      "3155/3155 [==============================] - 0s 72us/sample - loss: 0.2695 - wine_quality_loss: 0.2524 - wine_type_loss: 0.0173 - wine_quality_root_mean_squared_error: 0.5021 - wine_type_accuracy: 0.9965 - val_loss: 0.3681 - val_wine_quality_loss: 0.3486 - val_wine_type_loss: 0.0194 - val_wine_quality_root_mean_squared_error: 0.5905 - val_wine_type_accuracy: 0.9970\n",
      "Epoch 174/180\n",
      "3155/3155 [==============================] - 0s 88us/sample - loss: 0.2700 - wine_quality_loss: 0.2529 - wine_type_loss: 0.0173 - wine_quality_root_mean_squared_error: 0.5026 - wine_type_accuracy: 0.9965 - val_loss: 0.3720 - val_wine_quality_loss: 0.3524 - val_wine_type_loss: 0.0193 - val_wine_quality_root_mean_squared_error: 0.5939 - val_wine_type_accuracy: 0.9970\n",
      "Epoch 175/180\n",
      "3155/3155 [==============================] - 0s 88us/sample - loss: 0.2690 - wine_quality_loss: 0.2512 - wine_type_loss: 0.0173 - wine_quality_root_mean_squared_error: 0.5017 - wine_type_accuracy: 0.9965 - val_loss: 0.3637 - val_wine_quality_loss: 0.3443 - val_wine_type_loss: 0.0193 - val_wine_quality_root_mean_squared_error: 0.5868 - val_wine_type_accuracy: 0.9970\n",
      "Epoch 176/180\n",
      "3155/3155 [==============================] - 0s 74us/sample - loss: 0.2679 - wine_quality_loss: 0.2507 - wine_type_loss: 0.0173 - wine_quality_root_mean_squared_error: 0.5006 - wine_type_accuracy: 0.9965 - val_loss: 0.3655 - val_wine_quality_loss: 0.3460 - val_wine_type_loss: 0.0193 - val_wine_quality_root_mean_squared_error: 0.5883 - val_wine_type_accuracy: 0.9970\n",
      "Epoch 177/180\n",
      "3155/3155 [==============================] - 0s 88us/sample - loss: 0.2675 - wine_quality_loss: 0.2499 - wine_type_loss: 0.0172 - wine_quality_root_mean_squared_error: 0.5003 - wine_type_accuracy: 0.9965 - val_loss: 0.3690 - val_wine_quality_loss: 0.3497 - val_wine_type_loss: 0.0192 - val_wine_quality_root_mean_squared_error: 0.5914 - val_wine_type_accuracy: 0.9970\n",
      "Epoch 178/180\n",
      "3155/3155 [==============================] - 0s 74us/sample - loss: 0.2686 - wine_quality_loss: 0.2516 - wine_type_loss: 0.0184 - wine_quality_root_mean_squared_error: 0.5013 - wine_type_accuracy: 0.9965 - val_loss: 0.3669 - val_wine_quality_loss: 0.3474 - val_wine_type_loss: 0.0191 - val_wine_quality_root_mean_squared_error: 0.5897 - val_wine_type_accuracy: 0.9970\n",
      "Epoch 179/180\n",
      "3155/3155 [==============================] - 0s 88us/sample - loss: 0.2680 - wine_quality_loss: 0.2511 - wine_type_loss: 0.0172 - wine_quality_root_mean_squared_error: 0.5009 - wine_type_accuracy: 0.9965 - val_loss: 0.3660 - val_wine_quality_loss: 0.3466 - val_wine_type_loss: 0.0191 - val_wine_quality_root_mean_squared_error: 0.5889 - val_wine_type_accuracy: 0.9970\n",
      "Epoch 180/180\n",
      "3155/3155 [==============================] - 0s 85us/sample - loss: 0.2669 - wine_quality_loss: 0.2503 - wine_type_loss: 0.0170 - wine_quality_root_mean_squared_error: 0.4999 - wine_type_accuracy: 0.9965 - val_loss: 0.3606 - val_wine_quality_loss: 0.3412 - val_wine_type_loss: 0.0191 - val_wine_quality_root_mean_squared_error: 0.5843 - val_wine_type_accuracy: 0.9970\n"
     ]
    }
   ],
   "source": [
    "# Please uncomment all lines in this cell and replace those marked with `# YOUR CODE HERE`.\n",
    "# You can select all lines in this code cell with Ctrl+A (Windows/Linux) or Cmd+A (Mac), then press Ctrl+/ (Windows/Linux) or Cmd+/ (Mac) to uncomment.\n",
    "\n",
    "\n",
    "\n",
    "history = model.fit(norm_train_X, train_Y,\n",
    "                    epochs = 180, validation_data=(norm_test_X, test_Y))\n",
    "                        "
   ]
  },
  {
   "cell_type": "code",
   "execution_count": 50,
   "metadata": {
    "deletable": false,
    "editable": false,
    "nbgrader": {
     "cell_type": "code",
     "checksum": "fadad8896eda9c8c2115970724b15508",
     "grade": true,
     "grade_id": "cell-eb4d5b41bef8f0ab",
     "locked": true,
     "points": 1,
     "schema_version": 3,
     "solution": false,
     "task": false
    }
   },
   "outputs": [
    {
     "name": "stdout",
     "output_type": "stream",
     "text": [
      "\u001b[92m All public tests passed\n"
     ]
    }
   ],
   "source": [
    "utils.test_history(history)"
   ]
  },
  {
   "cell_type": "code",
   "execution_count": 51,
   "metadata": {
    "colab": {},
    "colab_type": "code",
    "id": "CubF2J2gSf6q"
   },
   "outputs": [
    {
     "name": "stdout",
     "output_type": "stream",
     "text": [
      "789/789 [==============================] - 0s 21us/sample - loss: 0.3317 - wine_quality_loss: 0.3065 - wine_type_loss: 0.0250 - wine_quality_root_mean_squared_error: 0.5535 - wine_type_accuracy: 0.9949\n",
      "\n",
      "loss: 0.33174935206109885\n",
      "wine_quality_loss: 0.3064720034599304\n",
      "wine_type_loss: 0.025011487305164337\n",
      "wine_quality_rmse: 0.5535439252853394\n",
      "wine_type_accuracy: 0.9949302673339844\n"
     ]
    }
   ],
   "source": [
    "# Gather the training metrics\n",
    "loss, wine_quality_loss, wine_type_loss, wine_quality_rmse, wine_type_accuracy = model.evaluate(x=norm_val_X, y=val_Y)\n",
    "\n",
    "print()\n",
    "print(f'loss: {loss}')\n",
    "print(f'wine_quality_loss: {wine_quality_loss}')\n",
    "print(f'wine_type_loss: {wine_type_loss}')\n",
    "print(f'wine_quality_rmse: {wine_quality_rmse}')\n",
    "print(f'wine_type_accuracy: {wine_type_accuracy}')\n",
    "\n",
    "# EXPECTED VALUES\n",
    "# ~ 0.30 - 0.38\n",
    "# ~ 0.30 - 0.38\n",
    "# ~ 0.018 - 0.030\n",
    "# ~ 0.50 - 0.62\n",
    "# ~ 0.97 - 1.0\n",
    "\n",
    "# Example:\n",
    "#0.3657050132751465\n",
    "#0.3463745415210724\n",
    "#0.019330406561493874\n",
    "#0.5885359048843384\n",
    "#0.9974651336669922"
   ]
  },
  {
   "cell_type": "markdown",
   "metadata": {
    "colab_type": "text",
    "id": "gPtTGAP4usnm"
   },
   "source": [
    "## Analyze the Model Performance\n",
    "\n",
    "Note that the model has two outputs. The output at index 0 is quality and index 1 is wine type\n",
    "\n",
    "So, round the quality predictions to the nearest integer."
   ]
  },
  {
   "cell_type": "code",
   "execution_count": 52,
   "metadata": {
    "colab": {},
    "colab_type": "code",
    "id": "tBq9PEeAaW-Y"
   },
   "outputs": [],
   "source": [
    "predictions = model.predict(norm_test_X)\n",
    "quality_pred = predictions[0]\n",
    "type_pred = predictions[1]"
   ]
  },
  {
   "cell_type": "code",
   "execution_count": 53,
   "metadata": {
    "colab": {},
    "colab_type": "code",
    "id": "YLhgTR4xTIxj"
   },
   "outputs": [
    {
     "name": "stdout",
     "output_type": "stream",
     "text": [
      "[5.757971]\n"
     ]
    }
   ],
   "source": [
    "print(quality_pred[0])\n",
    "\n",
    "# EXPECTED OUTPUT\n",
    "# 5.6 - 6.0"
   ]
  },
  {
   "cell_type": "code",
   "execution_count": 54,
   "metadata": {
    "colab": {},
    "colab_type": "code",
    "id": "MPi-eYfGTUXi"
   },
   "outputs": [
    {
     "name": "stdout",
     "output_type": "stream",
     "text": [
      "[0.00040337]\n",
      "[0.9999988]\n"
     ]
    }
   ],
   "source": [
    "print(type_pred[0])\n",
    "print(type_pred[944])\n",
    "\n",
    "# EXPECTED OUTPUT\n",
    "# A number close to zero\n",
    "# A number close to or equal to 1"
   ]
  },
  {
   "cell_type": "markdown",
   "metadata": {
    "colab_type": "text",
    "id": "Kohk-9C6vt_s"
   },
   "source": [
    "### Plot Utilities\n",
    "\n",
    "We define a few utilities to visualize the model performance."
   ]
  },
  {
   "cell_type": "code",
   "execution_count": 55,
   "metadata": {
    "colab": {},
    "colab_type": "code",
    "id": "62gEOFUhn6aQ"
   },
   "outputs": [],
   "source": [
    "def plot_metrics(metric_name, title, ylim=5):\n",
    "    plt.title(title)\n",
    "    plt.ylim(0,ylim)\n",
    "    plt.plot(history.history[metric_name],color='blue',label=metric_name)\n",
    "    plt.plot(history.history['val_' + metric_name],color='green',label='val_' + metric_name)\n"
   ]
  },
  {
   "cell_type": "code",
   "execution_count": 56,
   "metadata": {
    "colab": {},
    "colab_type": "code",
    "id": "6rfgSx7uz5dj"
   },
   "outputs": [],
   "source": [
    "def plot_confusion_matrix(y_true, y_pred, title='', labels=[0,1]):\n",
    "    cm = confusion_matrix(y_true, y_pred)\n",
    "    fig = plt.figure()\n",
    "    ax = fig.add_subplot(111)\n",
    "    cax = ax.matshow(cm)\n",
    "    plt.title('Confusion matrix of the classifier')\n",
    "    fig.colorbar(cax)\n",
    "    ax.set_xticklabels([''] + labels)\n",
    "    ax.set_yticklabels([''] + labels)\n",
    "    plt.xlabel('Predicted')\n",
    "    plt.ylabel('True')\n",
    "    fmt = 'd'\n",
    "    thresh = cm.max() / 2.\n",
    "    for i, j in itertools.product(range(cm.shape[0]), range(cm.shape[1])):\n",
    "          plt.text(j, i, format(cm[i, j], fmt),\n",
    "                  horizontalalignment=\"center\",\n",
    "                  color=\"black\" if cm[i, j] > thresh else \"white\")\n",
    "    plt.show()"
   ]
  },
  {
   "cell_type": "code",
   "execution_count": 57,
   "metadata": {
    "colab": {},
    "colab_type": "code",
    "id": "dfVLIqi017Vf"
   },
   "outputs": [],
   "source": [
    "def plot_diff(y_true, y_pred, title = '' ):\n",
    "    plt.scatter(y_true, y_pred)\n",
    "    plt.title(title)\n",
    "    plt.xlabel('True Values')\n",
    "    plt.ylabel('Predictions')\n",
    "    plt.axis('equal')\n",
    "    plt.axis('square')\n",
    "    plt.plot([-100, 100], [-100, 100])\n",
    "    return plt"
   ]
  },
  {
   "cell_type": "markdown",
   "metadata": {
    "colab_type": "text",
    "id": "8sd1jdFbwE0I"
   },
   "source": [
    "### Plots for Metrics"
   ]
  },
  {
   "cell_type": "code",
   "execution_count": 58,
   "metadata": {
    "colab": {},
    "colab_type": "code",
    "id": "f3MwZ5J1pOfj"
   },
   "outputs": [
    {
     "data": {
      "image/png": "[encoded data removed]",
      "text/plain": [
       "<Figure size 432x288 with 1 Axes>"
      ]
     },
     "metadata": {
      "needs_background": "light"
     },
     "output_type": "display_data"
    }
   ],
   "source": [
    "plot_metrics('wine_quality_root_mean_squared_error', 'RMSE', ylim=2)"
   ]
  },
  {
   "cell_type": "code",
   "execution_count": 59,
   "metadata": {
    "colab": {},
    "colab_type": "code",
    "id": "QIAxEezCppnd"
   },
   "outputs": [
    {
     "data": {
      "image/png": "[encoded data removed]",
      "text/plain": [
       "<Figure size 432x288 with 1 Axes>"
      ]
     },
     "metadata": {
      "needs_background": "light"
     },
     "output_type": "display_data"
    }
   ],
   "source": [
    "plot_metrics('wine_type_loss', 'Wine Type Loss', ylim=0.2)"
   ]
  },
  {
   "cell_type": "markdown",
   "metadata": {
    "colab_type": "text",
    "id": "uYV9AOAMwI9p"
   },
   "source": [
    "### Plots for Confusion Matrix\n",
    "\n",
    "Plot the confusion matrices for wine type. You can see that the model performs well for prediction of wine type from the confusion matrix and the loss metrics."
   ]
  },
  {
   "cell_type": "code",
   "execution_count": 60,
   "metadata": {
    "colab": {},
    "colab_type": "code",
    "id": "C3hvTYxIaf3n"
   },
   "outputs": [
    {
     "data": {
      "image/png": "[encoded data removed]",
      "text/plain": [
       "<Figure size 432x288 with 2 Axes>"
      ]
     },
     "metadata": {
      "needs_background": "light"
     },
     "output_type": "display_data"
    }
   ],
   "source": [
    "plot_confusion_matrix(test_Y[1], np.round(type_pred), title='Wine Type', labels = [0, 1])"
   ]
  },
  {
   "cell_type": "code",
   "execution_count": 61,
   "metadata": {
    "colab": {},
    "colab_type": "code",
    "id": "GW91ym8P2I5y"
   },
   "outputs": [
    {
     "data": {
      "image/png": "[encoded data removed]",
      "text/plain": [
       "<Figure size 432x288 with 1 Axes>"
      ]
     },
     "metadata": {
      "needs_background": "light"
     },
     "output_type": "display_data"
    }
   ],
   "source": [
    "scatter_plot = plot_diff(test_Y[0], quality_pred, title='Type')"
   ]
  },
  {
   "cell_type": "code",
   "execution_count": null,
   "metadata": {},
   "outputs": [],
   "source": []
  }
 ],
 "metadata": {
  "colab": {
   "include_colab_link": true,
   "name": "exercise-answer.ipynb",
   "provenance": []
  },
  "kernelspec": {
   "display_name": "Python 3",
   "language": "python",
   "name": "python3"
  },
  "language_info": {
   "codemirror_mode": {
    "name": "ipython",
    "version": 3
   },
   "file_extension": ".py",
   "mimetype": "text/x-python",
   "name": "python",
   "nbconvert_exporter": "python",
   "pygments_lexer": "ipython3",
   "version": "3.7.6"
  }
 },
 "nbformat": 4,
 "nbformat_minor": 4
}
