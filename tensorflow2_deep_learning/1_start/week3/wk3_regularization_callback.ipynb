{
 "cells": [
  {
   "cell_type": "code",
   "execution_count": 12,
   "metadata": {
    "scrolled": true
   },
   "outputs": [
    {
     "name": "stdout",
     "output_type": "stream",
     "text": [
      "2.0.0\n"
     ]
    }
   ],
   "source": [
    "import tensorflow as tf\n",
    "print(tf.__version__)"
   ]
  },
  {
   "cell_type": "markdown",
   "metadata": {},
   "source": [
    "# Validation, regularisation and callbacks"
   ]
  },
  {
   "cell_type": "markdown",
   "metadata": {},
   "source": [
    " ## Coding tutorials\n",
    " #### [1. Validation sets](#coding_tutorial_1)\n",
    " #### [2. Model regularisation](#coding_tutorial_2)\n",
    " #### [3. Introduction to callbacks](#coding_tutorial_3)\n",
    " #### [4. Early stopping / patience](#coding_tutorial_4)"
   ]
  },
  {
   "cell_type": "markdown",
   "metadata": {},
   "source": [
    "***\n",
    "<a id=\"coding_tutorial_1\"></a>\n",
    "## Validation sets"
   ]
  },
  {
   "cell_type": "markdown",
   "metadata": {},
   "source": [
    "#### Load the data"
   ]
  },
  {
   "cell_type": "code",
   "execution_count": 5,
   "metadata": {},
   "outputs": [],
   "source": [
    "# Load the diabetes dataset\n",
    "from sklearn.datasets import load_diabetes\n"
   ]
  },
  {
   "cell_type": "code",
   "execution_count": 6,
   "metadata": {},
   "outputs": [
    {
     "data": {
      "text/plain": [
       "((442, 10),\n",
       " (442,),\n",
       " dict_keys(['data', 'target', 'DESCR', 'feature_names', 'data_filename', 'target_filename']))"
      ]
     },
     "execution_count": 6,
     "metadata": {},
     "output_type": "execute_result"
    }
   ],
   "source": [
    "# Save the input and target variables\n",
    "\n",
    "data = load_diabetes()\n",
    "data['data'].shape, data['target'].shape, data.keys()"
   ]
  },
  {
   "cell_type": "code",
   "execution_count": 7,
   "metadata": {},
   "outputs": [],
   "source": [
    "dataset = data['data']"
   ]
  },
  {
   "cell_type": "code",
   "execution_count": 8,
   "metadata": {},
   "outputs": [],
   "source": [
    "targets = (data['target'] - data['target'].mean(axis=0)) / data['target'].std()"
   ]
  },
  {
   "cell_type": "code",
   "execution_count": 17,
   "metadata": {},
   "outputs": [
    {
     "data": {
      "text/plain": [
       "array([-1.47194752e-02, -1.00165882e+00, -1.44579915e-01,  6.99512942e-01,\n",
       "       -2.22496178e-01, -7.15965848e-01, -1.83538046e-01, -1.15749134e+00,\n",
       "       -5.47147277e-01,  2.05006151e+00, -6.64021672e-01, -1.07957508e+00,\n",
       "        3.48889755e-01,  4.26806019e-01, -4.43258925e-01,  2.45001404e-01,\n",
       "        1.80071184e-01, -1.05621783e-01, -7.15965848e-01,  2.06043272e-01,\n",
       "       -1.09256112e+00, -1.33929596e+00, -1.09256112e+00,  1.20596866e+00,\n",
       "        4.13819975e-01,  6.47568766e-01, -1.96524090e-01, -8.71798376e-01,\n",
       "       -2.74440354e-01,  1.69943833e+00, -3.00412442e-01, -1.20943552e+00,\n",
       "        2.45262887e+00, -8.45826288e-01, -1.13151925e+00, -6.51035629e-01,\n",
       "        1.46568953e+00,  1.60853602e+00,  1.29687096e+00, -8.06868156e-01,\n",
       "       -6.77007716e-01, -1.26137969e+00, -1.18346343e+00, -7.80896068e-01,\n",
       "        1.38777327e+00, -1.28735178e+00,  4.91736239e-01, -1.31593871e-01,\n",
       "       -1.00165882e+00, -1.31593871e-01,  3.72247006e-02,  9.46247777e-01,\n",
       "       -1.20943552e+00, -6.25063541e-01,  3.87847887e-01, -3.13398486e-01,\n",
       "       -1.30033783e+00, -1.49512849e+00,  2.32015360e-01,  2.32015360e-01,\n",
       "       -1.18346343e+00, -1.05621783e-01, -1.30033783e+00, -3.13398486e-01,\n",
       "       -1.05360299e+00,  1.41113052e-01, -2.77055191e-02, -7.15965848e-01,\n",
       "        1.02154920e-01,  3.35903711e-01, -1.35228200e+00,  1.53061975e+00,\n",
       "        6.47568766e-01, -5.34161233e-01, -8.71798376e-01, -1.43019827e+00,\n",
       "        2.32015360e-01,  6.21596678e-01,  1.29687096e+00, -5.08189145e-01,\n",
       "       -1.18607827e-01, -1.31332387e+00, -1.30033783e+00,  7.51457118e-01,\n",
       "       -1.13151925e+00, -1.44579915e-01, -1.26137969e+00, -2.35482222e-01,\n",
       "       -1.43019827e+00, -5.34161233e-01, -7.02979804e-01,  1.54099096e-01,\n",
       "       -1.35228200e+00, -7.28951892e-01, -8.06868156e-01,  1.28127008e-01,\n",
       "       -2.77055191e-02,  1.64749415e+00, -7.80896068e-01, -8.97770464e-01,\n",
       "       -3.13398486e-01, -6.51035629e-01,  1.94617316e+00,  5.95624590e-01,\n",
       "       -7.41937936e-01, -1.28735178e+00, -2.35482222e-01, -1.05621783e-01,\n",
       "        1.03715008e+00, -9.23742551e-01, -6.25063541e-01, -1.20943552e+00,\n",
       "        1.21895470e+00,  1.88124294e+00,  1.37478723e+00,  9.98191953e-01,\n",
       "        1.59554997e+00,  1.67346624e+00,  3.48889755e-01,  6.21596678e-01,\n",
       "        6.21596678e-01,  2.70973492e-01,  3.61875799e-01, -8.84784420e-01,\n",
       "       -4.04300794e-01,  1.15140964e-01, -6.89993760e-01, -5.60133321e-01,\n",
       "       -4.82217057e-01,  1.50464767e+00,  1.58256393e+00,  7.61828325e-02,\n",
       "       -5.86105409e-01, -8.97770464e-01, -6.38049585e-01,  1.55659184e+00,\n",
       "       -8.71798376e-01,  1.66048019e+00,  2.38769865e+00,  1.67346624e+00,\n",
       "       -4.43258925e-01,  2.14096382e+00,  1.07610822e+00, -1.19644947e+00,\n",
       "        2.83959536e-01,  1.38777327e+00,  3.35903711e-01, -3.13398486e-01,\n",
       "       -7.28951892e-01, -3.39370574e-01,  1.76436855e+00, -8.32840244e-01,\n",
       "        1.81631272e+00, -1.05360299e+00,  5.82638546e-01,  4.39792063e-01,\n",
       "       -1.65096101e+00, -8.84784420e-01, -7.28951892e-01,  5.56666458e-01,\n",
       "       -1.28735178e+00,  8.42359425e-01,  2.57987448e-01, -2.74440354e-01,\n",
       "        8.03401293e-01, -1.20943552e+00, -1.06658903e+00,  8.81317557e-01,\n",
       "        1.50464767e+00, -1.73343121e-03, -1.36526805e+00, -1.01464486e+00,\n",
       "        1.85527085e+00, -6.64021672e-01, -1.47194752e-02, -3.26384530e-01,\n",
       "        1.10208030e+00,  9.46247777e-01, -9.23742551e-01, -1.47194752e-02,\n",
       "       -5.86105409e-01, -1.14450530e+00, -1.83538046e-01,  4.26806019e-01,\n",
       "        1.46568953e+00, -6.64021672e-01, -1.96524090e-01, -1.18607827e-01,\n",
       "       -1.44579915e-01, -9.49714639e-01,  1.81631272e+00,  3.35903711e-01,\n",
       "       -7.93882112e-01, -4.69231013e-01, -8.58812332e-01, -3.91314750e-01,\n",
       "       -1.04061695e+00, -3.00412442e-01, -1.31593871e-01, -8.06868156e-01,\n",
       "        7.61828325e-02, -1.46915640e+00,  5.69652502e-01,  9.07289645e-01,\n",
       "        1.62152206e+00, -6.89993760e-01,  5.69652502e-01,  6.47568766e-01,\n",
       "        3.72247006e-02, -9.75686727e-01,  5.04722283e-01, -1.06658903e+00,\n",
       "       -1.02763090e+00, -1.33929596e+00, -1.13151925e+00,  1.43971745e+00,\n",
       "        1.24492679e+00,  1.86825690e+00,  8.03401293e-01,  4.26806019e-01,\n",
       "       -9.62700683e-01, -7.67910024e-01,  1.29687096e+00, -2.77055191e-02,\n",
       "       -9.75686727e-01,  7.25485030e-01, -9.75686727e-01, -5.73119365e-01,\n",
       "        1.02154920e-01, -1.28735178e+00,  8.81317557e-01,  2.42386567e-02,\n",
       "        1.38777327e+00, -8.06868156e-01,  1.21895470e+00, -3.65342662e-01,\n",
       "       -1.10554717e+00, -1.04061695e+00,  1.36180118e+00,  1.42673140e+00,\n",
       "        1.59554997e+00,  3.22917667e-01, -1.05360299e+00, -1.36526805e+00,\n",
       "        4.52778107e-01, -3.52356618e-01, -9.62700683e-01, -1.31332387e+00,\n",
       "        1.37478723e+00,  8.16387337e-01,  1.95915920e+00,  1.17999657e+00,\n",
       "       -7.93882112e-01, -2.77055191e-02,  2.05006151e+00,  1.12526127e-02,\n",
       "        2.51755909e+00, -1.15749134e+00, -8.19854200e-01, -1.32630991e+00,\n",
       "       -1.46915640e+00, -6.38049585e-01,  2.02408942e+00, -4.69231013e-01,\n",
       "       -9.26357388e-02, -1.01464486e+00, -1.39124013e+00, -4.82217057e-01,\n",
       "        1.45270349e+00, -8.45826288e-01,  6.47568766e-01, -3.26384530e-01,\n",
       "        3.87847887e-01,  1.15402448e+00, -1.11853321e+00, -7.54923980e-01,\n",
       "        1.69943833e+00, -1.14450530e+00, -6.51035629e-01,  6.21596678e-01,\n",
       "        1.46568953e+00, -7.54923980e-01,  1.01117800e+00,  3.74861843e-01,\n",
       "        5.02107446e-02,  1.05013613e+00, -1.19644947e+00,  8.68331513e-01,\n",
       "       -9.36728595e-01, -1.09256112e+00,  2.33575448e+00,  1.24492679e+00,\n",
       "       -8.84784420e-01,  6.21596678e-01, -1.26137969e+00, -8.71798376e-01,\n",
       "       -8.19854200e-01, -1.57304475e+00, -3.00412442e-01, -8.97770464e-01,\n",
       "        1.59554997e+00, -1.13151925e+00,  5.95624590e-01,  1.08909426e+00,\n",
       "        1.30985701e+00, -3.65342662e-01, -1.40422618e+00,  2.57987448e-01,\n",
       "       -4.95203101e-01, -1.31593871e-01, -5.60133321e-01,  3.61875799e-01,\n",
       "       -1.05621783e-01,  1.41113052e-01, -6.66636509e-02, -7.15965848e-01,\n",
       "        8.81317557e-01,  4.91736239e-01, -5.60133321e-01,  5.04722283e-01,\n",
       "       -3.91314750e-01,  1.01117800e+00,  1.16701052e+00,  1.24492679e+00,\n",
       "        1.25791283e+00,  5.17708327e-01, -2.74440354e-01,  1.10208030e+00,\n",
       "       -9.62700683e-01, -2.22496178e-01,  1.19298261e+00,  6.08610634e-01,\n",
       "        1.53061975e+00,  1.54099096e-01, -1.04061695e+00, -7.28951892e-01,\n",
       "        1.99811734e+00, -7.93882112e-01,  8.03401293e-01, -7.41937936e-01,\n",
       "        8.29373381e-01,  1.43971745e+00,  3.35903711e-01, -5.08189145e-01,\n",
       "        6.21596678e-01, -1.70552003e-01, -1.70552003e-01, -8.32840244e-01,\n",
       "       -5.36776070e-02, -8.32840244e-01,  1.17999657e+00, -1.05360299e+00,\n",
       "       -9.75686727e-01, -5.60133321e-01,  1.55659184e+00, -1.19644947e+00,\n",
       "       -1.27436574e+00,  8.94303601e-01, -8.06868156e-01,  2.06304756e+00,\n",
       "        1.67346624e+00,  3.87847887e-01,  2.19290800e+00, -1.22242156e+00,\n",
       "        1.42673140e+00,  6.99512942e-01,  1.05013613e+00,  1.16701052e+00,\n",
       "       -3.78328706e-01,  1.93057228e-01, -1.15749134e+00,  5.82638546e-01,\n",
       "       -1.05360299e+00,  2.06043272e-01, -1.57565959e-01,  8.42359425e-01,\n",
       "       -4.04300794e-01,  1.07610822e+00,  1.20596866e+00, -1.45617035e+00,\n",
       "       -1.30033783e+00, -6.25063541e-01, -2.61454310e-01, -8.32840244e-01,\n",
       "       -1.07957508e+00,  8.68331513e-01, -1.04061695e+00,  6.34582722e-01,\n",
       "       -5.47147277e-01, -1.31332387e+00,  1.62152206e+00, -1.15749134e+00,\n",
       "       -4.43258925e-01, -1.07957508e+00,  1.56957789e+00,  1.37478723e+00,\n",
       "       -1.41721222e+00,  5.95624590e-01,  1.16701052e+00,  1.03715008e+00,\n",
       "        2.96945580e-01, -7.67910024e-01,  2.06043272e-01,  1.59554997e+00,\n",
       "        1.82929877e+00,  1.67346624e+00, -1.04061695e+00, -1.57565959e-01,\n",
       "        4.78750195e-01,  3.74861843e-01,  7.38471074e-01, -2.09510134e-01,\n",
       "        1.41374536e+00, -5.08189145e-01, -2.74440354e-01,  2.83959536e-01,\n",
       "        1.36180118e+00, -1.26137969e+00, -8.84784420e-01, -1.43019827e+00,\n",
       "       -7.96496949e-02,  7.77429206e-01,  1.05013613e+00, -7.93882112e-01,\n",
       "       -5.34161233e-01, -1.73343121e-03, -4.17286837e-01, -1.10554717e+00,\n",
       "        2.05006151e+00, -7.54923980e-01,  4.00833931e-01, -1.11853321e+00,\n",
       "        2.70973492e-01, -1.04061695e+00, -1.33929596e+00, -1.14450530e+00,\n",
       "       -1.35228200e+00,  3.35903711e-01, -6.25063541e-01, -2.61454310e-01,\n",
       "        8.81317557e-01, -1.23540761e+00])"
      ]
     },
     "execution_count": 17,
     "metadata": {},
     "output_type": "execute_result"
    }
   ],
   "source": [
    "targets"
   ]
  },
  {
   "cell_type": "code",
   "execution_count": 9,
   "metadata": {},
   "outputs": [
    {
     "data": {
      "text/plain": [
       "0.198787989657293"
      ]
     },
     "execution_count": 9,
     "metadata": {},
     "output_type": "execute_result"
    }
   ],
   "source": [
    "# Normalise the target data (this will make clearer training curves)\n",
    "\n",
    "max([max(i) for i in data['data']])"
   ]
  },
  {
   "cell_type": "code",
   "execution_count": 10,
   "metadata": {},
   "outputs": [
    {
     "data": {
      "text/plain": [
       "(397, 10)"
      ]
     },
     "execution_count": 10,
     "metadata": {},
     "output_type": "execute_result"
    }
   ],
   "source": [
    "# Split the data into train and test sets\n",
    "from sklearn.model_selection import train_test_split\n",
    "train_data,test_data,train_label,test_label = train_test_split(dataset,targets,test_size=0.1)\n",
    "\n",
    "train_data.shape"
   ]
  },
  {
   "cell_type": "markdown",
   "metadata": {},
   "source": [
    "#### Train a feedforward neural network model"
   ]
  },
  {
   "cell_type": "code",
   "execution_count": 21,
   "metadata": {},
   "outputs": [],
   "source": [
    "# Build the model\n",
    "model = tf.keras.models.Sequential([\n",
    "    tf.keras.layers.Dense(128,activation='relu',input_shape=(train_data.shape[1],)),\n",
    "    tf.keras.layers.Dense(64,activation='relu'),\n",
    "    tf.keras.layers.Dense(1)\n",
    "])\n"
   ]
  },
  {
   "cell_type": "code",
   "execution_count": 22,
   "metadata": {},
   "outputs": [
    {
     "name": "stdout",
     "output_type": "stream",
     "text": [
      "Model: \"sequential\"\n",
      "_________________________________________________________________\n",
      "Layer (type)                 Output Shape              Param #   \n",
      "=================================================================\n",
      "dense (Dense)                (None, 128)               1408      \n",
      "_________________________________________________________________\n",
      "dense_1 (Dense)              (None, 64)                8256      \n",
      "_________________________________________________________________\n",
      "dense_2 (Dense)              (None, 1)                 65        \n",
      "=================================================================\n",
      "Total params: 9,729\n",
      "Trainable params: 9,729\n",
      "Non-trainable params: 0\n",
      "_________________________________________________________________\n"
     ]
    }
   ],
   "source": [
    "# Print the model summary\n",
    "\n",
    "model.summary()"
   ]
  },
  {
   "cell_type": "code",
   "execution_count": 24,
   "metadata": {},
   "outputs": [],
   "source": [
    "# Compile the model\n",
    "model.compile(loss='mse',optimizer='sgd',metrics=['mae'])\n"
   ]
  },
  {
   "cell_type": "code",
   "execution_count": 32,
   "metadata": {},
   "outputs": [
    {
     "name": "stdout",
     "output_type": "stream",
     "text": [
      "Train on 357 samples, validate on 40 samples\n",
      "Epoch 1/15\n",
      "357/357 [==============================] - 0s 156us/sample - loss: 0.7832 - mae: 0.7589 - val_loss: 0.9480 - val_mae: 0.7984\n",
      "Epoch 2/15\n",
      "357/357 [==============================] - 0s 63us/sample - loss: 0.7765 - mae: 0.7555 - val_loss: 0.9369 - val_mae: 0.7911\n",
      "Epoch 3/15\n",
      "357/357 [==============================] - 0s 277us/sample - loss: 0.7687 - mae: 0.7494 - val_loss: 0.9433 - val_mae: 0.7870\n",
      "Epoch 4/15\n",
      "357/357 [==============================] - 0s 272us/sample - loss: 0.7604 - mae: 0.7432 - val_loss: 0.9422 - val_mae: 0.7832\n",
      "Epoch 5/15\n",
      "357/357 [==============================] - 0s 280us/sample - loss: 0.7544 - mae: 0.7384 - val_loss: 0.9073 - val_mae: 0.7736\n",
      "Epoch 6/15\n",
      "357/357 [==============================] - 0s 273us/sample - loss: 0.7442 - mae: 0.7375 - val_loss: 0.9052 - val_mae: 0.7694\n",
      "Epoch 7/15\n",
      "357/357 [==============================] - 0s 66us/sample - loss: 0.7401 - mae: 0.7346 - val_loss: 0.8997 - val_mae: 0.7646\n",
      "Epoch 8/15\n",
      "357/357 [==============================] - 0s 277us/sample - loss: 0.7306 - mae: 0.7271 - val_loss: 0.8723 - val_mae: 0.7584\n",
      "Epoch 9/15\n",
      "357/357 [==============================] - 0s 275us/sample - loss: 0.7209 - mae: 0.7259 - val_loss: 0.8737 - val_mae: 0.7519\n",
      "Epoch 10/15\n",
      "357/357 [==============================] - 0s 287us/sample - loss: 0.7178 - mae: 0.7219 - val_loss: 0.8681 - val_mae: 0.7473\n",
      "Epoch 11/15\n",
      "357/357 [==============================] - 0s 272us/sample - loss: 0.7121 - mae: 0.7190 - val_loss: 0.8647 - val_mae: 0.7442\n",
      "Epoch 12/15\n",
      "357/357 [==============================] - 0s 278us/sample - loss: 0.7041 - mae: 0.7124 - val_loss: 0.8475 - val_mae: 0.7381\n",
      "Epoch 13/15\n",
      "357/357 [==============================] - 0s 276us/sample - loss: 0.7002 - mae: 0.7121 - val_loss: 0.8181 - val_mae: 0.7320\n",
      "Epoch 14/15\n",
      "357/357 [==============================] - 0s 278us/sample - loss: 0.6894 - mae: 0.7083 - val_loss: 0.8047 - val_mae: 0.7286\n",
      "Epoch 15/15\n",
      "357/357 [==============================] - 0s 286us/sample - loss: 0.6818 - mae: 0.7068 - val_loss: 0.8001 - val_mae: 0.7202\n"
     ]
    }
   ],
   "source": [
    "# Train the model, with some of the data reserved for validation\n",
    "\n",
    "history = model.fit(train_data,train_label,validation_split=0.10,epochs=15)"
   ]
  },
  {
   "cell_type": "code",
   "execution_count": 28,
   "metadata": {},
   "outputs": [
    {
     "name": "stdout",
     "output_type": "stream",
     "text": [
      "\r",
      "45/1 [======================================================================================================================================================================================================================================================================================================================================================================================================================================================================================================================================================================================================================================================================================================================================================================================================================================================================================================================================================================================================================================================================================================================================================================================================================================================================================================================================================================================================] - 0s 56us/sample - loss: 0.6754 - mae: 0.7642\n"
     ]
    }
   ],
   "source": [
    "# Evaluate the model on the test set\n",
    "\n",
    "loss,mae = model.evaluate(test_data,test_label)"
   ]
  },
  {
   "cell_type": "code",
   "execution_count": 29,
   "metadata": {},
   "outputs": [
    {
     "data": {
      "text/plain": [
       "0.7082961055967543"
      ]
     },
     "execution_count": 29,
     "metadata": {},
     "output_type": "execute_result"
    }
   ],
   "source": [
    "loss"
   ]
  },
  {
   "cell_type": "markdown",
   "metadata": {},
   "source": [
    "#### Plot the learning curves"
   ]
  },
  {
   "cell_type": "code",
   "execution_count": 30,
   "metadata": {},
   "outputs": [],
   "source": [
    "import matplotlib.pyplot as plt\n",
    "%matplotlib inline"
   ]
  },
  {
   "cell_type": "code",
   "execution_count": 33,
   "metadata": {},
   "outputs": [
    {
     "data": {
      "image/png": "[encoded data removed]",
      "text/plain": [
       "<Figure size 432x288 with 1 Axes>"
      ]
     },
     "metadata": {
      "needs_background": "light"
     },
     "output_type": "display_data"
    }
   ],
   "source": [
    "# Plot the training and validation loss\n",
    "\n",
    "plt.plot(history.history['loss'])\n",
    "plt.plot(history.history['val_loss'])\n",
    "plt.title('Loss vs. epochs')\n",
    "plt.ylabel('Loss')\n",
    "plt.xlabel('Epoch')\n",
    "plt.legend(['Training', 'Validation'], loc='upper right')\n",
    "plt.show()"
   ]
  },
  {
   "cell_type": "markdown",
   "metadata": {},
   "source": [
    "***\n",
    "<a id=\"coding_tutorial_2\"></a>\n",
    "## Model regularisation"
   ]
  },
  {
   "cell_type": "markdown",
   "metadata": {},
   "source": [
    "#### Adding regularisation with weight decay and dropout"
   ]
  },
  {
   "cell_type": "code",
   "execution_count": 3,
   "metadata": {},
   "outputs": [],
   "source": [
    "from tensorflow.keras.layers import Dropout,Dense\n",
    "from tensorflow.keras import regularizers"
   ]
  },
  {
   "cell_type": "code",
   "execution_count": 4,
   "metadata": {},
   "outputs": [],
   "source": [
    "def get_regularised_model(wd, rate):\n",
    "    model = tf.keras.models.Sequential([\n",
    "        Dense(128, activation=\"relu\", input_shape=(train_data.shape[1],)),\n",
    "        Dense(128, activation=\"relu\",kernel_regularizer=regularizers.l2(wd)),\n",
    "        tf.keras.layers.Dropout(0.3),\n",
    "        Dense(128, activation=\"relu\",kernel_regularizer=regularizers.l2(wd)),\n",
    "        Dropout(0.1),\n",
    "        Dense(128, activation=\"relu\",kernel_regularizer=regularizers.l2(wd)),\n",
    "        Dropout(0.1),\n",
    "        Dense(128, activation=\"relu\",kernel_regularizer=regularizers.l2(wd)),\n",
    "        Dropout(0.2),\n",
    "        Dense(128, activation=\"relu\",kernel_regularizer=regularizers.l2(wd)),\n",
    "        Dense(1)\n",
    "    ])\n",
    "    return model"
   ]
  },
  {
   "cell_type": "code",
   "execution_count": 49,
   "metadata": {},
   "outputs": [
    {
     "name": "stdout",
     "output_type": "stream",
     "text": [
      "Model: \"sequential_3\"\n",
      "_________________________________________________________________\n",
      "Layer (type)                 Output Shape              Param #   \n",
      "=================================================================\n",
      "dense_20 (Dense)             (None, 128)               1408      \n",
      "_________________________________________________________________\n",
      "dense_21 (Dense)             (None, 128)               16512     \n",
      "_________________________________________________________________\n",
      "dropout_8 (Dropout)          (None, 128)               0         \n",
      "_________________________________________________________________\n",
      "dense_22 (Dense)             (None, 128)               16512     \n",
      "_________________________________________________________________\n",
      "dropout_9 (Dropout)          (None, 128)               0         \n",
      "_________________________________________________________________\n",
      "dense_23 (Dense)             (None, 128)               16512     \n",
      "_________________________________________________________________\n",
      "dropout_10 (Dropout)         (None, 128)               0         \n",
      "_________________________________________________________________\n",
      "dense_24 (Dense)             (None, 128)               16512     \n",
      "_________________________________________________________________\n",
      "dropout_11 (Dropout)         (None, 128)               0         \n",
      "_________________________________________________________________\n",
      "dense_25 (Dense)             (None, 128)               16512     \n",
      "_________________________________________________________________\n",
      "dense_26 (Dense)             (None, 1)                 129       \n",
      "=================================================================\n",
      "Total params: 84,097\n",
      "Trainable params: 84,097\n",
      "Non-trainable params: 0\n",
      "_________________________________________________________________\n"
     ]
    }
   ],
   "source": [
    "# Re-build the model with weight decay and dropout layers\n",
    "model = get_regularised_model(0.01,0.2)\n",
    "model.summary()\n"
   ]
  },
  {
   "cell_type": "code",
   "execution_count": 50,
   "metadata": {},
   "outputs": [],
   "source": [
    "# Compile the model\n",
    "\n",
    "model.compile(optimizer='adam',loss='mse',metrics=['mae'])"
   ]
  },
  {
   "cell_type": "code",
   "execution_count": 51,
   "metadata": {},
   "outputs": [
    {
     "name": "stdout",
     "output_type": "stream",
     "text": [
      "Train on 357 samples, validate on 40 samples\n",
      "Epoch 1/15\n",
      "357/357 [==============================] - 2s 6ms/sample - loss: 6.7657 - mae: 0.8434 - val_loss: 6.2580 - val_mae: 0.9397\n",
      "Epoch 2/15\n",
      "357/357 [==============================] - 0s 829us/sample - loss: 5.4877 - mae: 0.8409 - val_loss: 5.1124 - val_mae: 0.9306\n",
      "Epoch 3/15\n",
      "357/357 [==============================] - 0s 843us/sample - loss: 4.4439 - mae: 0.8314 - val_loss: 4.1682 - val_mae: 0.9066\n",
      "Epoch 4/15\n",
      "357/357 [==============================] - 0s 843us/sample - loss: 3.5845 - mae: 0.8079 - val_loss: 3.3195 - val_mae: 0.8289\n",
      "Epoch 5/15\n",
      "357/357 [==============================] - 0s 833us/sample - loss: 2.8180 - mae: 0.7313 - val_loss: 2.4325 - val_mae: 0.6401\n",
      "Epoch 6/15\n",
      "357/357 [==============================] - 0s 847us/sample - loss: 2.2487 - mae: 0.6263 - val_loss: 1.9245 - val_mae: 0.5708\n",
      "Epoch 7/15\n",
      "357/357 [==============================] - 0s 835us/sample - loss: 1.9387 - mae: 0.6688 - val_loss: 1.6410 - val_mae: 0.5827\n",
      "Epoch 8/15\n",
      "357/357 [==============================] - 0s 844us/sample - loss: 1.6122 - mae: 0.6311 - val_loss: 1.5408 - val_mae: 0.6222\n",
      "Epoch 9/15\n",
      "357/357 [==============================] - 0s 839us/sample - loss: 1.4283 - mae: 0.6337 - val_loss: 1.1952 - val_mae: 0.5517\n",
      "Epoch 10/15\n",
      "357/357 [==============================] - 0s 834us/sample - loss: 1.2169 - mae: 0.6022 - val_loss: 1.0386 - val_mae: 0.5377\n",
      "Epoch 11/15\n",
      "357/357 [==============================] - 0s 836us/sample - loss: 1.0993 - mae: 0.6108 - val_loss: 0.9537 - val_mae: 0.5558\n",
      "Epoch 12/15\n",
      "357/357 [==============================] - 0s 837us/sample - loss: 0.9916 - mae: 0.5999 - val_loss: 0.8796 - val_mae: 0.5614\n",
      "Epoch 13/15\n",
      "357/357 [==============================] - 0s 834us/sample - loss: 0.9260 - mae: 0.5939 - val_loss: 0.7849 - val_mae: 0.5330\n",
      "Epoch 14/15\n",
      "357/357 [==============================] - 0s 837us/sample - loss: 0.8846 - mae: 0.6048 - val_loss: 0.7604 - val_mae: 0.5546\n",
      "Epoch 15/15\n",
      "357/357 [==============================] - 0s 829us/sample - loss: 0.8387 - mae: 0.6093 - val_loss: 0.6737 - val_mae: 0.5100\n"
     ]
    }
   ],
   "source": [
    "# Train the model, with some of the data reserved for validation\n",
    "\n",
    "history = model.fit(train_data,train_label,validation_split=0.10,epochs=15)"
   ]
  },
  {
   "cell_type": "code",
   "execution_count": 52,
   "metadata": {},
   "outputs": [
    {
     "name": "stdout",
     "output_type": "stream",
     "text": [
      "\r",
      "45/1 [======================================================================================================================================================================================================================================================================================================================================================================================================================================================================================================================================================================================================================================================================================================================================================================================================================================================================================================================================================================================================================================================================================================================================================================================================================================================================================================================================================================================================] - 0s 60us/sample - loss: 0.7634 - mae: 0.5311\n"
     ]
    }
   ],
   "source": [
    "# Evaluate the model on the test set\n",
    "\n",
    "loss,mae = model.evaluate(test_data,test_label)"
   ]
  },
  {
   "cell_type": "markdown",
   "metadata": {},
   "source": [
    "#### Plot the learning curves"
   ]
  },
  {
   "cell_type": "code",
   "execution_count": 53,
   "metadata": {},
   "outputs": [
    {
     "data": {
      "image/png": "[encoded data removed]",
      "text/plain": [
       "<Figure size 432x288 with 1 Axes>"
      ]
     },
     "metadata": {
      "needs_background": "light"
     },
     "output_type": "display_data"
    }
   ],
   "source": [
    "# Plot the training and validation loss\n",
    "\n",
    "import matplotlib.pyplot as plt\n",
    "\n",
    "plt.plot(history.history['loss'])\n",
    "plt.plot(history.history['val_loss'])\n",
    "plt.title('Loss vs. epochs')\n",
    "plt.ylabel('Loss')\n",
    "plt.xlabel('Epoch')\n",
    "plt.legend(['Training', 'Validation'], loc='upper right')\n",
    "plt.show()"
   ]
  },
  {
   "cell_type": "markdown",
   "metadata": {},
   "source": [
    "***\n",
    "<a id=\"coding_tutorial_3\"></a>\n",
    "## Introduction to callbacks"
   ]
  },
  {
   "cell_type": "markdown",
   "metadata": {},
   "source": [
    "#### Example training callback"
   ]
  },
  {
   "cell_type": "code",
   "execution_count": 20,
   "metadata": {},
   "outputs": [],
   "source": [
    "# Write a custom callback\n",
    "from tensorflow.keras.callbacks import Callback\n",
    "\n",
    "class TrainingCall(Callback):\n",
    "    def on_predict_begin(self,logs=None):\n",
    "        print(f'starting the training')\n",
    "    def on_epoch_begin(self,epoch,logs=None):\n",
    "        print(f'starting epoch {epoch}')\n",
    "    def on_predict_batch_begin(self,batch,logs=None):\n",
    "        print(f'starting the training batch {batch}')\n",
    "    def on_predict_batch_end(self,batch,logs=None):\n",
    "        print(f'ending the batch')"
   ]
  },
  {
   "cell_type": "code",
   "execution_count": 13,
   "metadata": {},
   "outputs": [
    {
     "name": "stdout",
     "output_type": "stream",
     "text": [
      "Model: \"sequential\"\n",
      "_________________________________________________________________\n",
      "Layer (type)                 Output Shape              Param #   \n",
      "=================================================================\n",
      "dense (Dense)                (None, 128)               1408      \n",
      "_________________________________________________________________\n",
      "dense_1 (Dense)              (None, 128)               16512     \n",
      "_________________________________________________________________\n",
      "dropout (Dropout)            (None, 128)               0         \n",
      "_________________________________________________________________\n",
      "dense_2 (Dense)              (None, 128)               16512     \n",
      "_________________________________________________________________\n",
      "dropout_1 (Dropout)          (None, 128)               0         \n",
      "_________________________________________________________________\n",
      "dense_3 (Dense)              (None, 128)               16512     \n",
      "_________________________________________________________________\n",
      "dropout_2 (Dropout)          (None, 128)               0         \n",
      "_________________________________________________________________\n",
      "dense_4 (Dense)              (None, 128)               16512     \n",
      "_________________________________________________________________\n",
      "dropout_3 (Dropout)          (None, 128)               0         \n",
      "_________________________________________________________________\n",
      "dense_5 (Dense)              (None, 128)               16512     \n",
      "_________________________________________________________________\n",
      "dense_6 (Dense)              (None, 1)                 129       \n",
      "=================================================================\n",
      "Total params: 84,097\n",
      "Trainable params: 84,097\n",
      "Non-trainable params: 0\n",
      "_________________________________________________________________\n"
     ]
    }
   ],
   "source": [
    "# Re-build the model\n",
    "model = get_regularised_model(0.01,0.2)\n",
    "model.summary()\n"
   ]
  },
  {
   "cell_type": "code",
   "execution_count": 14,
   "metadata": {},
   "outputs": [],
   "source": [
    "# Compile the model\n",
    "model.compile(optimizer='adam',loss='mse',metrics=['mae'])\n"
   ]
  },
  {
   "cell_type": "markdown",
   "metadata": {},
   "source": [
    "#### Train the model with the callback"
   ]
  },
  {
   "cell_type": "code",
   "execution_count": 18,
   "metadata": {},
   "outputs": [
    {
     "name": "stdout",
     "output_type": "stream",
     "text": [
      "Train on 357 samples, validate on 40 samples\n",
      "starting the training\n",
      "starting epoch 0\n",
      "Epoch 1/15\n",
      "starting the training batch 0\n",
      "ending the batch\n",
      " 32/357 [=>............................] - ETA: 16s - loss: 7.1501 - mae: 0.7458starting the training batch 1\n",
      "ending the batch\n",
      " 64/357 [====>.........................] - ETA: 7s - loss: 7.2591 - mae: 0.8052 starting the training batch 2\n",
      "ending the batch\n",
      "starting the training batch 3\n",
      "ending the batch\n",
      "starting the training batch 4\n",
      "ending the batch\n",
      "160/357 [============>.................] - ETA: 2s - loss: 7.0336 - mae: 0.8043starting the training batch 5\n",
      "ending the batch\n",
      "starting the training batch 6\n",
      "ending the batch\n",
      "starting the training batch 7\n",
      "ending the batch\n",
      "starting the training batch 8\n",
      "ending the batch\n",
      "288/357 [=======================>......] - ETA: 0s - loss: 6.8771 - mae: 0.8481starting the training batch 9\n",
      "ending the batch\n",
      "starting the training batch 10\n",
      "ending the batch\n",
      "starting the training batch 11\n",
      "ending the batch\n",
      "357/357 [==============================] - 2s 6ms/sample - loss: 6.7654 - mae: 0.8521 - val_loss: 5.9141 - val_mae: 0.7943\n",
      "starting epoch 1\n",
      "Epoch 2/15\n",
      "starting the training batch 0\n",
      "ending the batch\n",
      " 32/357 [=>............................] - ETA: 0s - loss: 5.7976 - mae: 0.7614starting the training batch 1\n",
      "ending the batch\n",
      " 64/357 [====>.........................] - ETA: 0s - loss: 5.8497 - mae: 0.8035starting the training batch 2\n",
      "ending the batch\n",
      "starting the training batch 3\n",
      "ending the batch\n",
      "starting the training batch 4\n",
      "ending the batch\n",
      "starting the training batch 5\n",
      "ending the batch\n",
      "192/357 [===============>..............] - ETA: 0s - loss: 5.7133 - mae: 0.8418starting the training batch 6\n",
      "ending the batch\n",
      "starting the training batch 7\n",
      "ending the batch\n",
      "starting the training batch 8\n",
      "ending the batch\n",
      "starting the training batch 9\n",
      "ending the batch\n",
      "starting the training batch 10\n",
      "ending the batch\n",
      "352/357 [============================>.] - ETA: 0s - loss: 5.4868 - mae: 0.8435starting the training batch 11\n",
      "ending the batch\n",
      "357/357 [==============================] - 0s 839us/sample - loss: 5.4853 - mae: 0.8469 - val_loss: 4.7742 - val_mae: 0.7885\n",
      "starting epoch 2\n",
      "Epoch 3/15\n",
      "starting the training batch 0\n",
      "ending the batch\n",
      " 32/357 [=>............................] - ETA: 0s - loss: 4.5846 - mae: 0.7375starting the training batch 1\n",
      "ending the batch\n",
      "starting the training batch 2\n",
      "ending the batch\n",
      "starting the training batch 3\n",
      "ending the batch\n",
      "starting the training batch 4\n",
      "ending the batch\n",
      "starting the training batch 5\n",
      "ending the batch\n",
      "192/357 [===============>..............] - ETA: 0s - loss: 4.6164 - mae: 0.8539starting the training batch 6\n",
      "ending the batch\n",
      "starting the training batch 7\n",
      "ending the batch\n",
      "starting the training batch 8\n",
      "ending the batch\n",
      "288/357 [=======================>......] - ETA: 0s - loss: 4.4984 - mae: 0.8306starting the training batch 9\n",
      "ending the batch\n",
      "starting the training batch 10\n",
      "ending the batch\n",
      "starting the training batch 11\n",
      "ending the batch\n",
      "357/357 [==============================] - 0s 1ms/sample - loss: 4.4386 - mae: 0.8369 - val_loss: 3.8475 - val_mae: 0.7724\n",
      "starting epoch 3\n",
      "Epoch 4/15\n",
      "starting the training batch 0\n",
      "ending the batch\n",
      " 32/357 [=>............................] - ETA: 0s - loss: 4.0589 - mae: 0.8966starting the training batch 1\n",
      "ending the batch\n",
      " 64/357 [====>.........................] - ETA: 0s - loss: 3.8836 - mae: 0.8466starting the training batch 2\n",
      "ending the batch\n",
      "starting the training batch 3\n",
      "ending the batch\n",
      "starting the training batch 4\n",
      "ending the batch\n",
      "starting the training batch 5\n",
      "ending the batch\n",
      "192/357 [===============>..............] - ETA: 0s - loss: 3.7748 - mae: 0.8296starting the training batch 6\n",
      "ending the batch\n",
      "starting the training batch 7\n",
      "ending the batch\n",
      "starting the training batch 8\n",
      "ending the batch\n",
      "starting the training batch 9\n",
      "ending the batch\n",
      "320/357 [=========================>....] - ETA: 0s - loss: 3.6237 - mae: 0.8118starting the training batch 10\n",
      "ending the batch\n",
      "starting the training batch 11\n",
      "ending the batch\n",
      "357/357 [==============================] - 0s 1ms/sample - loss: 3.5631 - mae: 0.8008 - val_loss: 3.0410 - val_mae: 0.6880\n",
      "starting epoch 4\n",
      "Epoch 5/15\n",
      "starting the training batch 0\n",
      "ending the batch\n",
      " 32/357 [=>............................] - ETA: 0s - loss: 3.0652 - mae: 0.7603starting the training batch 1\n",
      "ending the batch\n",
      "starting the training batch 2\n",
      "ending the batch\n",
      "starting the training batch 3\n",
      "ending the batch\n",
      "128/357 [=========>....................] - ETA: 0s - loss: 3.0724 - mae: 0.7890starting the training batch 4\n",
      "ending the batch\n",
      "starting the training batch 5\n",
      "ending the batch\n",
      "starting the training batch 6\n",
      "ending the batch\n",
      "224/357 [=================>............] - ETA: 0s - loss: 2.8924 - mae: 0.7238starting the training batch 7\n",
      "ending the batch\n",
      "starting the training batch 8\n",
      "ending the batch\n",
      "starting the training batch 9\n",
      "ending the batch\n",
      "starting the training batch 10\n",
      "ending the batch\n",
      "352/357 [============================>.] - ETA: 0s - loss: 2.8096 - mae: 0.7169starting the training batch 11\n",
      "ending the batch\n",
      "357/357 [==============================] - 0s 865us/sample - loss: 2.8036 - mae: 0.7163 - val_loss: 2.4682 - val_mae: 0.6809\n",
      "starting epoch 5\n",
      "Epoch 6/15\n",
      "starting the training batch 0\n",
      "ending the batch\n",
      " 32/357 [=>............................] - ETA: 0s - loss: 2.5006 - mae: 0.7047starting the training batch 1\n",
      "ending the batch\n",
      "starting the training batch 2\n",
      "ending the batch\n",
      "starting the training batch 3\n",
      "ending the batch\n",
      "starting the training batch 4\n",
      "ending the batch\n",
      "160/357 [============>.................] - ETA: 0s - loss: 2.3823 - mae: 0.6667starting the training batch 5\n",
      "ending the batch\n",
      "starting the training batch 6\n",
      "ending the batch\n",
      "starting the training batch 7\n",
      "ending the batch\n",
      "starting the training batch 8\n",
      "ending the batch\n",
      "288/357 [=======================>......] - ETA: 0s - loss: 2.3259 - mae: 0.6556starting the training batch 9\n",
      "ending the batch\n",
      "starting the training batch 10\n",
      "ending the batch\n",
      "starting the training batch 11\n",
      "ending the batch\n",
      "357/357 [==============================] - 0s 1ms/sample - loss: 2.2760 - mae: 0.6537 - val_loss: 1.9964 - val_mae: 0.6337\n",
      "starting epoch 6\n",
      "Epoch 7/15\n",
      "starting the training batch 0\n",
      "ending the batch\n",
      " 32/357 [=>............................] - ETA: 0s - loss: 1.7431 - mae: 0.4827starting the training batch 1\n",
      "ending the batch\n",
      " 64/357 [====>.........................] - ETA: 0s - loss: 1.8898 - mae: 0.5776starting the training batch 2\n",
      "ending the batch\n",
      "starting the training batch 3\n",
      "ending the batch\n",
      "starting the training batch 4\n",
      "ending the batch\n",
      "starting the training batch 5\n",
      "ending the batch\n",
      "192/357 [===============>..............] - ETA: 0s - loss: 1.9271 - mae: 0.6155starting the training batch 6\n",
      "ending the batch\n",
      "starting the training batch 7\n",
      "ending the batch\n",
      "starting the training batch 8\n",
      "ending the batch\n",
      "starting the training batch 9\n",
      "ending the batch\n",
      "starting the training batch 10\n",
      "ending the batch\n",
      "352/357 [============================>.] - ETA: 0s - loss: 1.8387 - mae: 0.6054starting the training batch 11\n",
      "ending the batch\n",
      "357/357 [==============================] - 0s 852us/sample - loss: 1.8386 - mae: 0.6072 - val_loss: 1.6863 - val_mae: 0.6255\n",
      "starting epoch 7\n",
      "Epoch 8/15\n",
      "starting the training batch 0\n",
      "ending the batch\n",
      " 32/357 [=>............................] - ETA: 0s - loss: 1.6054 - mae: 0.5246starting the training batch 1\n",
      "ending the batch\n",
      "starting the training batch 2\n",
      "ending the batch\n",
      "starting the training batch 3\n",
      "ending the batch\n",
      "128/357 [=========>....................] - ETA: 0s - loss: 1.5829 - mae: 0.5578starting the training batch 4\n",
      "ending the batch\n",
      "starting the training batch 5\n",
      "ending the batch\n",
      "starting the training batch 6\n",
      "ending the batch\n",
      "starting the training batch 7\n",
      "ending the batch\n",
      "256/357 [====================>.........] - ETA: 0s - loss: 1.5559 - mae: 0.5802starting the training batch 8\n",
      "ending the batch\n",
      "starting the training batch 9\n",
      "ending the batch\n",
      "starting the training batch 10\n",
      "ending the batch\n",
      "starting the training batch 11\n",
      "ending the batch\n",
      "357/357 [==============================] - 0s 875us/sample - loss: 1.5381 - mae: 0.5848 - val_loss: 1.5334 - val_mae: 0.6752\n",
      "starting epoch 8\n",
      "Epoch 9/15\n",
      "starting the training batch 0\n",
      "ending the batch\n",
      " 32/357 [=>............................] - ETA: 0s - loss: 1.4159 - mae: 0.5969starting the training batch 1\n",
      "ending the batch\n",
      " 64/357 [====>.........................] - ETA: 0s - loss: 1.5882 - mae: 0.6855starting the training batch 2\n",
      "ending the batch\n",
      "starting the training batch 3\n",
      "ending the batch\n",
      "starting the training batch 4\n",
      "ending the batch\n",
      "starting the training batch 5\n",
      "ending the batch\n",
      "192/357 [===============>..............] - ETA: 0s - loss: 1.4077 - mae: 0.6067starting the training batch 6\n",
      "ending the batch\n",
      "starting the training batch 7\n",
      "ending the batch\n",
      "starting the training batch 8\n",
      "ending the batch\n",
      "starting the training batch 9\n",
      "ending the batch\n",
      "starting the training batch 10\n",
      "ending the batch\n",
      "352/357 [============================>.] - ETA: 0s - loss: 1.3779 - mae: 0.5983starting the training batch 11\n",
      "ending the batch\n",
      "357/357 [==============================] - 0s 847us/sample - loss: 1.3716 - mae: 0.5942 - val_loss: 1.3344 - val_mae: 0.5947\n",
      "starting epoch 9\n",
      "Epoch 10/15\n",
      "starting the training batch 0\n",
      "ending the batch\n",
      " 32/357 [=>............................] - ETA: 0s - loss: 1.2705 - mae: 0.6236starting the training batch 1\n",
      "ending the batch\n",
      "starting the training batch 2\n",
      "ending the batch\n",
      "starting the training batch 3\n",
      "ending the batch\n",
      "starting the training batch 4\n",
      "ending the batch\n",
      "160/357 [============>.................] - ETA: 0s - loss: 1.2070 - mae: 0.5704starting the training batch 5\n",
      "ending the batch\n",
      "starting the training batch 6\n",
      "ending the batch\n",
      "starting the training batch 7\n",
      "ending the batch\n",
      "starting the training batch 8\n",
      "ending the batch\n",
      "288/357 [=======================>......] - ETA: 0s - loss: 1.2191 - mae: 0.6073starting the training batch 9\n",
      "ending the batch\n",
      "starting the training batch 10\n",
      "ending the batch\n",
      "starting the training batch 11\n",
      "ending the batch\n",
      "357/357 [==============================] - 0s 1ms/sample - loss: 1.2095 - mae: 0.6112 - val_loss: 1.1419 - val_mae: 0.6142\n",
      "starting epoch 10\n",
      "Epoch 11/15\n",
      "starting the training batch 0\n",
      "ending the batch\n",
      " 32/357 [=>............................] - ETA: 0s - loss: 1.2414 - mae: 0.6871starting the training batch 1\n",
      "ending the batch\n",
      "starting the training batch 2\n",
      "ending the batch\n",
      "starting the training batch 3\n",
      "ending the batch\n",
      "128/357 [=========>....................] - ETA: 0s - loss: 1.1634 - mae: 0.6438starting the training batch 4\n",
      "ending the batch\n",
      "starting the training batch 5\n",
      "ending the batch\n",
      "starting the training batch 6\n",
      "ending the batch\n",
      "starting the training batch 7\n",
      "ending the batch\n",
      "256/357 [====================>.........] - ETA: 0s - loss: 1.1294 - mae: 0.6230starting the training batch 8\n",
      "ending the batch\n",
      "starting the training batch 9\n",
      "ending the batch\n",
      "starting the training batch 10\n",
      "ending the batch\n",
      "352/357 [============================>.] - ETA: 0s - loss: 1.0996 - mae: 0.6186starting the training batch 11\n",
      "ending the batch\n",
      "357/357 [==============================] - 0s 878us/sample - loss: 1.0960 - mae: 0.6173 - val_loss: 1.0655 - val_mae: 0.6527\n",
      "starting epoch 11\n",
      "Epoch 12/15\n",
      "starting the training batch 0\n",
      "ending the batch\n",
      " 32/357 [=>............................] - ETA: 0s - loss: 0.9582 - mae: 0.5459starting the training batch 1\n",
      "ending the batch\n",
      " 64/357 [====>.........................] - ETA: 0s - loss: 0.9917 - mae: 0.5771starting the training batch 2\n",
      "ending the batch\n",
      "starting the training batch 3\n",
      "ending the batch\n",
      "starting the training batch 4\n",
      "ending the batch\n",
      "160/357 [============>.................] - ETA: 0s - loss: 1.0064 - mae: 0.5946starting the training batch 5\n",
      "ending the batch\n",
      "starting the training batch 6\n",
      "ending the batch\n",
      "starting the training batch 7\n",
      "ending the batch\n",
      "starting the training batch 8\n",
      "ending the batch\n",
      "288/357 [=======================>......] - ETA: 0s - loss: 0.9655 - mae: 0.5829starting the training batch 9\n",
      "ending the batch\n",
      "starting the training batch 10\n",
      "ending the batch\n",
      "starting the training batch 11\n",
      "ending the batch\n",
      "357/357 [==============================] - 0s 850us/sample - loss: 0.9641 - mae: 0.5844 - val_loss: 0.9747 - val_mae: 0.6127\n",
      "starting epoch 12\n",
      "Epoch 13/15\n",
      "starting the training batch 0\n",
      "ending the batch\n",
      " 32/357 [=>............................] - ETA: 0s - loss: 0.8185 - mae: 0.5503starting the training batch 1\n",
      "ending the batch\n",
      "starting the training batch 2\n",
      "ending the batch\n",
      " 96/357 [=======>......................] - ETA: 0s - loss: 0.8437 - mae: 0.5342starting the training batch 3\n",
      "ending the batch\n",
      "starting the training batch 4\n",
      "ending the batch\n",
      "starting the training batch 5\n",
      "ending the batch\n",
      "starting the training batch 6\n",
      "ending the batch\n",
      "224/357 [=================>............] - ETA: 0s - loss: 0.8982 - mae: 0.5785starting the training batch 7\n",
      "ending the batch\n",
      "starting the training batch 8\n",
      "ending the batch\n",
      "starting the training batch 9\n",
      "ending the batch\n",
      "starting the training batch 10\n",
      "ending the batch\n",
      "starting the training batch 11\n",
      "ending the batch\n",
      "357/357 [==============================] - 0s 880us/sample - loss: 0.9018 - mae: 0.5792 - val_loss: 0.9201 - val_mae: 0.6177\n",
      "starting epoch 13\n",
      "Epoch 14/15\n",
      "starting the training batch 0\n",
      "ending the batch\n",
      " 32/357 [=>............................] - ETA: 0s - loss: 0.7233 - mae: 0.5013starting the training batch 1\n",
      "ending the batch\n",
      " 64/357 [====>.........................] - ETA: 0s - loss: 0.8594 - mae: 0.5809starting the training batch 2\n",
      "ending the batch\n",
      "starting the training batch 3\n",
      "ending the batch\n",
      "starting the training batch 4\n",
      "ending the batch\n",
      "starting the training batch 5\n",
      "ending the batch\n",
      "192/357 [===============>..............] - ETA: 0s - loss: 0.8074 - mae: 0.5477starting the training batch 6\n",
      "ending the batch\n",
      "starting the training batch 7\n",
      "ending the batch\n",
      "starting the training batch 8\n",
      "ending the batch\n",
      "starting the training batch 9\n",
      "ending the batch\n",
      "320/357 [=========================>....] - ETA: 0s - loss: 0.8355 - mae: 0.5698starting the training batch 10\n",
      "ending the batch\n",
      "starting the training batch 11\n",
      "ending the batch\n",
      "357/357 [==============================] - 0s 850us/sample - loss: 0.8198 - mae: 0.5628 - val_loss: 0.8561 - val_mae: 0.6339\n",
      "starting epoch 14\n",
      "Epoch 15/15\n",
      "starting the training batch 0\n",
      "ending the batch\n",
      " 32/357 [=>............................] - ETA: 0s - loss: 0.8649 - mae: 0.6458starting the training batch 1\n",
      "ending the batch\n",
      "starting the training batch 2\n",
      "ending the batch\n",
      "starting the training batch 3\n",
      "ending the batch\n",
      "128/357 [=========>....................] - ETA: 0s - loss: 0.8137 - mae: 0.5892starting the training batch 4\n",
      "ending the batch\n",
      "starting the training batch 5\n",
      "ending the batch\n",
      "starting the training batch 6\n",
      "ending the batch\n",
      "starting the training batch 7\n",
      "ending the batch\n",
      "256/357 [====================>.........] - ETA: 0s - loss: 0.7928 - mae: 0.5806starting the training batch 8\n",
      "ending the batch\n",
      "starting the training batch 9\n",
      "ending the batch\n",
      "starting the training batch 10\n",
      "ending the batch\n",
      "starting the training batch 11\n",
      "ending the batch\n",
      "357/357 [==============================] - 0s 871us/sample - loss: 0.7887 - mae: 0.5771 - val_loss: 0.8486 - val_mae: 0.6004\n"
     ]
    }
   ],
   "source": [
    "# Train the model, with some of the data reserved for validation\n",
    "\n",
    "history = model.fit(train_data,train_label,validation_split=0.10,epochs=15,callbacks=[TrainingCall()])"
   ]
  },
  {
   "cell_type": "code",
   "execution_count": 19,
   "metadata": {},
   "outputs": [
    {
     "name": "stdout",
     "output_type": "stream",
     "text": [
      "\r",
      "45/1 [======================================================================================================================================================================================================================================================================================================================================================================================================================================================================================================================================================================================================================================================================================================================================================================================================================================================================================================================================================================================================================================================================================================================================================================================================================================================================================================================================================================================================] - 0s 61us/sample - loss: 0.8103 - mae: 0.6735\n"
     ]
    }
   ],
   "source": [
    "# Evaluate the model\n",
    "\n",
    "loss,mae = model.evaluate(test_data,test_label)"
   ]
  },
  {
   "cell_type": "code",
   "execution_count": 21,
   "metadata": {},
   "outputs": [
    {
     "name": "stdout",
     "output_type": "stream",
     "text": [
      "starting the training\n",
      "starting the training batch 0\n",
      "ending the batch\n",
      "starting the training batch 1\n",
      "ending the batch\n"
     ]
    },
    {
     "data": {
      "text/plain": [
       "array([[-0.7635761 ],\n",
       "       [-0.7279697 ],\n",
       "       [-0.7325211 ],\n",
       "       [-0.7363682 ],\n",
       "       [ 0.18109734],\n",
       "       [ 1.1393358 ],\n",
       "       [-0.34127238],\n",
       "       [-0.5900603 ],\n",
       "       [ 0.92448276],\n",
       "       [-0.7211402 ],\n",
       "       [ 0.97526246],\n",
       "       [-0.88495994],\n",
       "       [-0.5806158 ],\n",
       "       [-0.50103146],\n",
       "       [-0.839859  ],\n",
       "       [-0.8596109 ],\n",
       "       [-0.8911378 ],\n",
       "       [-0.62242514],\n",
       "       [-0.7980188 ],\n",
       "       [ 0.862235  ],\n",
       "       [-0.6127866 ],\n",
       "       [ 0.89228886],\n",
       "       [ 0.17719048],\n",
       "       [ 0.79727674],\n",
       "       [ 0.30266494],\n",
       "       [ 0.34729782],\n",
       "       [-0.70950985],\n",
       "       [-0.6180489 ],\n",
       "       [ 0.09434801],\n",
       "       [-0.06295452],\n",
       "       [ 0.08290308],\n",
       "       [ 0.77523226],\n",
       "       [-0.25863338],\n",
       "       [-0.6532944 ],\n",
       "       [-0.6892901 ],\n",
       "       [-0.70292205],\n",
       "       [ 0.92422324],\n",
       "       [-0.63041735],\n",
       "       [ 0.4380939 ],\n",
       "       [-0.8855282 ],\n",
       "       [-0.22700898],\n",
       "       [-0.6842013 ],\n",
       "       [-0.8016133 ],\n",
       "       [-0.171039  ],\n",
       "       [ 0.01886093]], dtype=float32)"
      ]
     },
     "execution_count": 21,
     "metadata": {},
     "output_type": "execute_result"
    }
   ],
   "source": [
    "# Make predictions with the model\n",
    "\n",
    "model.predict(test_data,callbacks=[TrainingCall()])"
   ]
  },
  {
   "cell_type": "markdown",
   "metadata": {},
   "source": [
    "***\n",
    "<a id=\"coding_tutorial_4\"></a>\n",
    "## Early stopping / patience"
   ]
  },
  {
   "cell_type": "markdown",
   "metadata": {},
   "source": [
    "#### Re-train the models with early stopping"
   ]
  },
  {
   "cell_type": "code",
   "execution_count": 23,
   "metadata": {},
   "outputs": [],
   "source": [
    "from tensorflow.keras.callbacks import EarlyStopping"
   ]
  },
  {
   "cell_type": "code",
   "execution_count": 24,
   "metadata": {},
   "outputs": [],
   "source": [
    "early_stoppage = EarlyStopping(monitor='val_mae',patience=3,mode='auto',min_delta=0.01)"
   ]
  },
  {
   "cell_type": "code",
   "execution_count": 30,
   "metadata": {},
   "outputs": [
    {
     "name": "stdout",
     "output_type": "stream",
     "text": [
      "Train on 357 samples, validate on 40 samples\n",
      "Epoch 1/15\n",
      "357/357 [==============================] - 2s 6ms/sample - loss: 6.8104 - mae: 0.8521 - val_loss: 5.9547 - val_mae: 0.7938\n",
      "Epoch 2/15\n",
      "357/357 [==============================] - 0s 796us/sample - loss: 5.5254 - mae: 0.8472 - val_loss: 4.8045 - val_mae: 0.7814\n",
      "Epoch 3/15\n",
      "357/357 [==============================] - 0s 846us/sample - loss: 4.4688 - mae: 0.8303 - val_loss: 3.8570 - val_mae: 0.7539\n",
      "Epoch 4/15\n",
      "357/357 [==============================] - 0s 839us/sample - loss: 3.5660 - mae: 0.7780 - val_loss: 3.0262 - val_mae: 0.6714\n",
      "Epoch 5/15\n",
      "357/357 [==============================] - 0s 1ms/sample - loss: 2.7983 - mae: 0.6790 - val_loss: 2.4415 - val_mae: 0.6045\n",
      "Epoch 6/15\n",
      "357/357 [==============================] - 0s 855us/sample - loss: 2.2507 - mae: 0.5897 - val_loss: 2.0110 - val_mae: 0.5989\n",
      "Epoch 7/15\n",
      "357/357 [==============================] - 0s 849us/sample - loss: 1.8795 - mae: 0.5970 - val_loss: 1.7147 - val_mae: 0.5911\n",
      "Epoch 8/15\n",
      "357/357 [==============================] - 0s 832us/sample - loss: 1.5900 - mae: 0.5758 - val_loss: 1.5970 - val_mae: 0.6739\n",
      "Epoch 9/15\n",
      "357/357 [==============================] - 0s 832us/sample - loss: 1.4000 - mae: 0.5829 - val_loss: 1.3036 - val_mae: 0.6302\n",
      "Epoch 10/15\n",
      "357/357 [==============================] - 0s 850us/sample - loss: 1.2320 - mae: 0.5906 - val_loss: 1.1861 - val_mae: 0.6247\n"
     ]
    }
   ],
   "source": [
    "# Re-train the unregularised model\n",
    "\n",
    "model = get_regularised_model(0.01,0.2)\n",
    "model.compile(optimizer='adam',loss='mse',metrics=['mae'])\n",
    "unreg_history = model.fit(train_data,train_label,validation_split=0.10,epochs=15,callbacks=[early_stoppage])"
   ]
  },
  {
   "cell_type": "code",
   "execution_count": 28,
   "metadata": {},
   "outputs": [
    {
     "name": "stdout",
     "output_type": "stream",
     "text": [
      "45/1 - 0s - loss: 1.2444 - mae: 0.6349\n"
     ]
    },
    {
     "data": {
      "text/plain": [
       "[1.3843852493498061, 0.63494426]"
      ]
     },
     "execution_count": 28,
     "metadata": {},
     "output_type": "execute_result"
    }
   ],
   "source": [
    "# Evaluate the model on the test set\n",
    "\n",
    "model.evaluate(test_data,test_label,verbose=2)"
   ]
  },
  {
   "cell_type": "code",
   "execution_count": null,
   "metadata": {},
   "outputs": [],
   "source": [
    "# Re-train the regularised model\n",
    "\n"
   ]
  },
  {
   "cell_type": "code",
   "execution_count": null,
   "metadata": {},
   "outputs": [],
   "source": [
    "# Evaluate the model on the test set\n",
    "\n"
   ]
  },
  {
   "cell_type": "markdown",
   "metadata": {},
   "source": [
    "#### Plot the learning curves"
   ]
  },
  {
   "cell_type": "code",
   "execution_count": 31,
   "metadata": {},
   "outputs": [
    {
     "ename": "NameError",
     "evalue": "name 'reg_history' is not defined",
     "output_type": "error",
     "traceback": [
      "\u001b[0;31m---------------------------------------------------------------------------\u001b[0m",
      "\u001b[0;31mNameError\u001b[0m                                 Traceback (most recent call last)",
      "\u001b[0;32m<ipython-input-31-ba0e6ff73507>\u001b[0m in \u001b[0;36m<module>\u001b[0;34m\u001b[0m\n\u001b[1;32m     16\u001b[0m \u001b[0mfig\u001b[0m\u001b[0;34m.\u001b[0m\u001b[0madd_subplot\u001b[0m\u001b[0;34m(\u001b[0m\u001b[0;36m122\u001b[0m\u001b[0;34m)\u001b[0m\u001b[0;34m\u001b[0m\u001b[0;34m\u001b[0m\u001b[0m\n\u001b[1;32m     17\u001b[0m \u001b[0;34m\u001b[0m\u001b[0m\n\u001b[0;32m---> 18\u001b[0;31m \u001b[0mplt\u001b[0m\u001b[0;34m.\u001b[0m\u001b[0mplot\u001b[0m\u001b[0;34m(\u001b[0m\u001b[0mreg_history\u001b[0m\u001b[0;34m.\u001b[0m\u001b[0mhistory\u001b[0m\u001b[0;34m[\u001b[0m\u001b[0;34m'loss'\u001b[0m\u001b[0;34m]\u001b[0m\u001b[0;34m)\u001b[0m\u001b[0;34m\u001b[0m\u001b[0;34m\u001b[0m\u001b[0m\n\u001b[0m\u001b[1;32m     19\u001b[0m \u001b[0mplt\u001b[0m\u001b[0;34m.\u001b[0m\u001b[0mplot\u001b[0m\u001b[0;34m(\u001b[0m\u001b[0mreg_history\u001b[0m\u001b[0;34m.\u001b[0m\u001b[0mhistory\u001b[0m\u001b[0;34m[\u001b[0m\u001b[0;34m'val_loss'\u001b[0m\u001b[0;34m]\u001b[0m\u001b[0;34m)\u001b[0m\u001b[0;34m\u001b[0m\u001b[0;34m\u001b[0m\u001b[0m\n\u001b[1;32m     20\u001b[0m \u001b[0mplt\u001b[0m\u001b[0;34m.\u001b[0m\u001b[0mtitle\u001b[0m\u001b[0;34m(\u001b[0m\u001b[0;34m'Regularised model: loss vs. epochs'\u001b[0m\u001b[0;34m)\u001b[0m\u001b[0;34m\u001b[0m\u001b[0;34m\u001b[0m\u001b[0m\n",
      "\u001b[0;31mNameError\u001b[0m: name 'reg_history' is not defined"
     ]
    },
    {
     "data": {
      "image/png": "[encoded data removed]",
      "text/plain": [
       "<Figure size 864x360 with 2 Axes>"
      ]
     },
     "metadata": {
      "needs_background": "light"
     },
     "output_type": "display_data"
    }
   ],
   "source": [
    "# Plot the training and validation loss\n",
    "\n",
    "import matplotlib.pyplot as plt\n",
    "\n",
    "fig = plt.figure(figsize=(12, 5))\n",
    "\n",
    "fig.add_subplot(121)\n",
    "\n",
    "plt.plot(unreg_history.history['loss'])\n",
    "plt.plot(unreg_history.history['val_loss'])\n",
    "plt.title('Unregularised model: loss vs. epochs')\n",
    "plt.ylabel('Loss')\n",
    "plt.xlabel('Epoch')\n",
    "plt.legend(['Training', 'Validation'], loc='upper right')\n",
    "\n",
    "fig.add_subplot(122)\n",
    "\n",
    "plt.plot(reg_history.history['loss'])\n",
    "plt.plot(reg_history.history['val_loss'])\n",
    "plt.title('Regularised model: loss vs. epochs')\n",
    "plt.ylabel('Loss')\n",
    "plt.xlabel('Epoch')\n",
    "plt.legend(['Training', 'Validation'], loc='upper right')\n",
    "\n",
    "plt.show()"
   ]
  },
  {
   "cell_type": "code",
   "execution_count": null,
   "metadata": {},
   "outputs": [],
   "source": []
  }
 ],
 "metadata": {
  "kernelspec": {
   "display_name": "Python 3",
   "language": "python",
   "name": "python3"
  },
  "language_info": {
   "codemirror_mode": {
    "name": "ipython",
    "version": 3
   },
   "file_extension": ".py",
   "mimetype": "text/x-python",
   "name": "python",
   "nbconvert_exporter": "python",
   "pygments_lexer": "ipython3",
   "version": "3.7.1"
  }
 },
 "nbformat": 4,
 "nbformat_minor": 2
}
